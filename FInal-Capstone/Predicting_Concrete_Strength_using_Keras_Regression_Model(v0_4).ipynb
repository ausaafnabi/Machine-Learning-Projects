{
  "nbformat": 4,
  "nbformat_minor": 0,
  "metadata": {
    "kernelspec": {
      "display_name": "Python",
      "language": "python",
      "name": "conda-env-python-py"
    },
    "language_info": {
      "codemirror_mode": {
        "name": "ipython",
        "version": 3
      },
      "file_extension": ".py",
      "mimetype": "text/x-python",
      "name": "python",
      "nbconvert_exporter": "python",
      "pygments_lexer": "ipython3",
      "version": "3.6.7"
    },
    "colab": {
      "name": "Predicting_Concrete_Strength_using_Keras_Regression_Model(v0_4).ipynb",
      "provenance": [],
      "collapsed_sections": []
    }
  },
  "cells": [
    {
      "cell_type": "markdown",
      "metadata": {
        "button": false,
        "deletable": true,
        "new_sheet": false,
        "run_control": {
          "read_only": false
        },
        "id": "Y07BAwREsx7-",
        "colab_type": "text"
      },
      "source": [
        "<h1 align=center><font size = 5>Regression Models with Keras to Predict Concrete Strength v0.4</font></h1>"
      ]
    },
    {
      "cell_type": "markdown",
      "metadata": {
        "button": false,
        "deletable": true,
        "new_sheet": false,
        "run_control": {
          "read_only": false
        },
        "id": "BxMdr1N6sx8C",
        "colab_type": "text"
      },
      "source": [
        "## Introduction"
      ]
    },
    {
      "cell_type": "markdown",
      "metadata": {
        "button": false,
        "deletable": true,
        "new_sheet": false,
        "run_control": {
          "read_only": false
        },
        "id": "yRSZPW1Usx8G",
        "colab_type": "text"
      },
      "source": [
        "Building a Regression Model Using Keras to predict the strength of the concrete sample.Starting with training it on 50 epochs.We will increase the epochs later to 100. \n",
        "We are using https://cocl.us/concrete_data dataset to train and test our model.\n",
        "Also, Evaluating the accuracy of model using mean_squared error."
      ]
    },
    {
      "cell_type": "markdown",
      "metadata": {
        "button": false,
        "deletable": true,
        "new_sheet": false,
        "run_control": {
          "read_only": false
        },
        "id": "oP8scH-Psx8P",
        "colab_type": "text"
      },
      "source": [
        "## Preprocessing Dataset"
      ]
    },
    {
      "cell_type": "markdown",
      "metadata": {
        "button": false,
        "deletable": true,
        "new_sheet": false,
        "run_control": {
          "read_only": false
        },
        "id": "507mgPtisx8R",
        "colab_type": "text"
      },
      "source": [
        "Importing the <em>pandas</em> and the Numpy libraries and test_train_split function from scikit-learn."
      ]
    },
    {
      "cell_type": "code",
      "metadata": {
        "button": false,
        "deletable": true,
        "new_sheet": false,
        "run_control": {
          "read_only": false
        },
        "id": "ObLziNKGsx8a",
        "colab_type": "code",
        "colab": {}
      },
      "source": [
        "import pandas as pd\n",
        "import numpy as np\n",
        "from sklearn.model_selection import train_test_split"
      ],
      "execution_count": 0,
      "outputs": []
    },
    {
      "cell_type": "markdown",
      "metadata": {
        "button": false,
        "deletable": true,
        "new_sheet": false,
        "run_control": {
          "read_only": false
        },
        "id": "D4-fHVA4sx8n",
        "colab_type": "text"
      },
      "source": [
        "\n",
        "<strong>The dataset is about the compressive strength of different samples of concrete based on the volumes of the different ingredients that were used to make them. Ingredients include:</strong>\n",
        "\n",
        "<strong>1. Cement</strong>\n",
        "\n",
        "<strong>2. Blast Furnace Slag</strong>\n",
        "\n",
        "<strong>3. Fly Ash</strong>\n",
        "\n",
        "<strong>4. Water</strong>\n",
        "\n",
        "<strong>5. Superplasticizer</strong>\n",
        "\n",
        "<strong>6. Coarse Aggregate</strong>\n",
        "\n",
        "<strong>7. Fine Aggregate</strong>"
      ]
    },
    {
      "cell_type": "markdown",
      "metadata": {
        "button": false,
        "deletable": true,
        "new_sheet": false,
        "run_control": {
          "read_only": false
        },
        "id": "jASFNneMsx8p",
        "colab_type": "text"
      },
      "source": [
        "Let's download the data and read it into a <em>pandas</em> dataframe."
      ]
    },
    {
      "cell_type": "code",
      "metadata": {
        "button": false,
        "deletable": true,
        "new_sheet": false,
        "run_control": {
          "read_only": false
        },
        "id": "Q0UsarPWsx8s",
        "colab_type": "code",
        "outputId": "9524e28b-9eae-45d4-b3b0-f5d2bc4e34e7",
        "colab": {
          "base_uri": "https://localhost:8080/",
          "height": 206
        }
      },
      "source": [
        "data = pd.read_csv('https://cocl.us/concrete_data')\n",
        "data.head()"
      ],
      "execution_count": 2,
      "outputs": [
        {
          "output_type": "execute_result",
          "data": {
            "text/html": [
              "<div>\n",
              "<style scoped>\n",
              "    .dataframe tbody tr th:only-of-type {\n",
              "        vertical-align: middle;\n",
              "    }\n",
              "\n",
              "    .dataframe tbody tr th {\n",
              "        vertical-align: top;\n",
              "    }\n",
              "\n",
              "    .dataframe thead th {\n",
              "        text-align: right;\n",
              "    }\n",
              "</style>\n",
              "<table border=\"1\" class=\"dataframe\">\n",
              "  <thead>\n",
              "    <tr style=\"text-align: right;\">\n",
              "      <th></th>\n",
              "      <th>Cement</th>\n",
              "      <th>Blast Furnace Slag</th>\n",
              "      <th>Fly Ash</th>\n",
              "      <th>Water</th>\n",
              "      <th>Superplasticizer</th>\n",
              "      <th>Coarse Aggregate</th>\n",
              "      <th>Fine Aggregate</th>\n",
              "      <th>Age</th>\n",
              "      <th>Strength</th>\n",
              "    </tr>\n",
              "  </thead>\n",
              "  <tbody>\n",
              "    <tr>\n",
              "      <th>0</th>\n",
              "      <td>540.0</td>\n",
              "      <td>0.0</td>\n",
              "      <td>0.0</td>\n",
              "      <td>162.0</td>\n",
              "      <td>2.5</td>\n",
              "      <td>1040.0</td>\n",
              "      <td>676.0</td>\n",
              "      <td>28</td>\n",
              "      <td>79.99</td>\n",
              "    </tr>\n",
              "    <tr>\n",
              "      <th>1</th>\n",
              "      <td>540.0</td>\n",
              "      <td>0.0</td>\n",
              "      <td>0.0</td>\n",
              "      <td>162.0</td>\n",
              "      <td>2.5</td>\n",
              "      <td>1055.0</td>\n",
              "      <td>676.0</td>\n",
              "      <td>28</td>\n",
              "      <td>61.89</td>\n",
              "    </tr>\n",
              "    <tr>\n",
              "      <th>2</th>\n",
              "      <td>332.5</td>\n",
              "      <td>142.5</td>\n",
              "      <td>0.0</td>\n",
              "      <td>228.0</td>\n",
              "      <td>0.0</td>\n",
              "      <td>932.0</td>\n",
              "      <td>594.0</td>\n",
              "      <td>270</td>\n",
              "      <td>40.27</td>\n",
              "    </tr>\n",
              "    <tr>\n",
              "      <th>3</th>\n",
              "      <td>332.5</td>\n",
              "      <td>142.5</td>\n",
              "      <td>0.0</td>\n",
              "      <td>228.0</td>\n",
              "      <td>0.0</td>\n",
              "      <td>932.0</td>\n",
              "      <td>594.0</td>\n",
              "      <td>365</td>\n",
              "      <td>41.05</td>\n",
              "    </tr>\n",
              "    <tr>\n",
              "      <th>4</th>\n",
              "      <td>198.6</td>\n",
              "      <td>132.4</td>\n",
              "      <td>0.0</td>\n",
              "      <td>192.0</td>\n",
              "      <td>0.0</td>\n",
              "      <td>978.4</td>\n",
              "      <td>825.5</td>\n",
              "      <td>360</td>\n",
              "      <td>44.30</td>\n",
              "    </tr>\n",
              "  </tbody>\n",
              "</table>\n",
              "</div>"
            ],
            "text/plain": [
              "   Cement  Blast Furnace Slag  Fly Ash  ...  Fine Aggregate  Age  Strength\n",
              "0   540.0                 0.0      0.0  ...           676.0   28     79.99\n",
              "1   540.0                 0.0      0.0  ...           676.0   28     61.89\n",
              "2   332.5               142.5      0.0  ...           594.0  270     40.27\n",
              "3   332.5               142.5      0.0  ...           594.0  365     41.05\n",
              "4   198.6               132.4      0.0  ...           825.5  360     44.30\n",
              "\n",
              "[5 rows x 9 columns]"
            ]
          },
          "metadata": {
            "tags": []
          },
          "execution_count": 2
        }
      ]
    },
    {
      "cell_type": "markdown",
      "metadata": {
        "button": false,
        "deletable": true,
        "new_sheet": false,
        "run_control": {
          "read_only": false
        },
        "id": "UX8ucLYYsx85",
        "colab_type": "text"
      },
      "source": [
        "#### Finding the shape of the data"
      ]
    },
    {
      "cell_type": "code",
      "metadata": {
        "button": false,
        "deletable": true,
        "new_sheet": false,
        "run_control": {
          "read_only": false
        },
        "id": "HgnDzvXSsx87",
        "colab_type": "code",
        "outputId": "e765d933-d202-4353-dc13-5627c88a70b4",
        "colab": {
          "base_uri": "https://localhost:8080/",
          "height": 34
        }
      },
      "source": [
        "data.shape"
      ],
      "execution_count": 3,
      "outputs": [
        {
          "output_type": "execute_result",
          "data": {
            "text/plain": [
              "(1030, 9)"
            ]
          },
          "metadata": {
            "tags": []
          },
          "execution_count": 3
        }
      ]
    },
    {
      "cell_type": "markdown",
      "metadata": {
        "button": false,
        "deletable": true,
        "new_sheet": false,
        "run_control": {
          "read_only": false
        },
        "id": "k9Kz-ZVpsx9E",
        "colab_type": "text"
      },
      "source": [
        "So, there are 1030 samples to train our model."
      ]
    },
    {
      "cell_type": "markdown",
      "metadata": {
        "button": false,
        "deletable": true,
        "new_sheet": false,
        "run_control": {
          "read_only": false
        },
        "id": "5-HuLZUasx9G",
        "colab_type": "text"
      },
      "source": [
        "Searching for any missing values in the dataset.\n",
        "\n",
        "\n"
      ]
    },
    {
      "cell_type": "code",
      "metadata": {
        "button": false,
        "deletable": true,
        "new_sheet": false,
        "run_control": {
          "read_only": false
        },
        "id": "jagdTm4Nsx9I",
        "colab_type": "code",
        "outputId": "686936ab-bd0c-4ab4-e75c-f8963f2f7f74",
        "colab": {
          "base_uri": "https://localhost:8080/",
          "height": 300
        }
      },
      "source": [
        "data.describe()"
      ],
      "execution_count": 4,
      "outputs": [
        {
          "output_type": "execute_result",
          "data": {
            "text/html": [
              "<div>\n",
              "<style scoped>\n",
              "    .dataframe tbody tr th:only-of-type {\n",
              "        vertical-align: middle;\n",
              "    }\n",
              "\n",
              "    .dataframe tbody tr th {\n",
              "        vertical-align: top;\n",
              "    }\n",
              "\n",
              "    .dataframe thead th {\n",
              "        text-align: right;\n",
              "    }\n",
              "</style>\n",
              "<table border=\"1\" class=\"dataframe\">\n",
              "  <thead>\n",
              "    <tr style=\"text-align: right;\">\n",
              "      <th></th>\n",
              "      <th>Cement</th>\n",
              "      <th>Blast Furnace Slag</th>\n",
              "      <th>Fly Ash</th>\n",
              "      <th>Water</th>\n",
              "      <th>Superplasticizer</th>\n",
              "      <th>Coarse Aggregate</th>\n",
              "      <th>Fine Aggregate</th>\n",
              "      <th>Age</th>\n",
              "      <th>Strength</th>\n",
              "    </tr>\n",
              "  </thead>\n",
              "  <tbody>\n",
              "    <tr>\n",
              "      <th>count</th>\n",
              "      <td>1030.000000</td>\n",
              "      <td>1030.000000</td>\n",
              "      <td>1030.000000</td>\n",
              "      <td>1030.000000</td>\n",
              "      <td>1030.000000</td>\n",
              "      <td>1030.000000</td>\n",
              "      <td>1030.000000</td>\n",
              "      <td>1030.000000</td>\n",
              "      <td>1030.000000</td>\n",
              "    </tr>\n",
              "    <tr>\n",
              "      <th>mean</th>\n",
              "      <td>281.167864</td>\n",
              "      <td>73.895825</td>\n",
              "      <td>54.188350</td>\n",
              "      <td>181.567282</td>\n",
              "      <td>6.204660</td>\n",
              "      <td>972.918932</td>\n",
              "      <td>773.580485</td>\n",
              "      <td>45.662136</td>\n",
              "      <td>35.817961</td>\n",
              "    </tr>\n",
              "    <tr>\n",
              "      <th>std</th>\n",
              "      <td>104.506364</td>\n",
              "      <td>86.279342</td>\n",
              "      <td>63.997004</td>\n",
              "      <td>21.354219</td>\n",
              "      <td>5.973841</td>\n",
              "      <td>77.753954</td>\n",
              "      <td>80.175980</td>\n",
              "      <td>63.169912</td>\n",
              "      <td>16.705742</td>\n",
              "    </tr>\n",
              "    <tr>\n",
              "      <th>min</th>\n",
              "      <td>102.000000</td>\n",
              "      <td>0.000000</td>\n",
              "      <td>0.000000</td>\n",
              "      <td>121.800000</td>\n",
              "      <td>0.000000</td>\n",
              "      <td>801.000000</td>\n",
              "      <td>594.000000</td>\n",
              "      <td>1.000000</td>\n",
              "      <td>2.330000</td>\n",
              "    </tr>\n",
              "    <tr>\n",
              "      <th>25%</th>\n",
              "      <td>192.375000</td>\n",
              "      <td>0.000000</td>\n",
              "      <td>0.000000</td>\n",
              "      <td>164.900000</td>\n",
              "      <td>0.000000</td>\n",
              "      <td>932.000000</td>\n",
              "      <td>730.950000</td>\n",
              "      <td>7.000000</td>\n",
              "      <td>23.710000</td>\n",
              "    </tr>\n",
              "    <tr>\n",
              "      <th>50%</th>\n",
              "      <td>272.900000</td>\n",
              "      <td>22.000000</td>\n",
              "      <td>0.000000</td>\n",
              "      <td>185.000000</td>\n",
              "      <td>6.400000</td>\n",
              "      <td>968.000000</td>\n",
              "      <td>779.500000</td>\n",
              "      <td>28.000000</td>\n",
              "      <td>34.445000</td>\n",
              "    </tr>\n",
              "    <tr>\n",
              "      <th>75%</th>\n",
              "      <td>350.000000</td>\n",
              "      <td>142.950000</td>\n",
              "      <td>118.300000</td>\n",
              "      <td>192.000000</td>\n",
              "      <td>10.200000</td>\n",
              "      <td>1029.400000</td>\n",
              "      <td>824.000000</td>\n",
              "      <td>56.000000</td>\n",
              "      <td>46.135000</td>\n",
              "    </tr>\n",
              "    <tr>\n",
              "      <th>max</th>\n",
              "      <td>540.000000</td>\n",
              "      <td>359.400000</td>\n",
              "      <td>200.100000</td>\n",
              "      <td>247.000000</td>\n",
              "      <td>32.200000</td>\n",
              "      <td>1145.000000</td>\n",
              "      <td>992.600000</td>\n",
              "      <td>365.000000</td>\n",
              "      <td>82.600000</td>\n",
              "    </tr>\n",
              "  </tbody>\n",
              "</table>\n",
              "</div>"
            ],
            "text/plain": [
              "            Cement  Blast Furnace Slag  ...          Age     Strength\n",
              "count  1030.000000         1030.000000  ...  1030.000000  1030.000000\n",
              "mean    281.167864           73.895825  ...    45.662136    35.817961\n",
              "std     104.506364           86.279342  ...    63.169912    16.705742\n",
              "min     102.000000            0.000000  ...     1.000000     2.330000\n",
              "25%     192.375000            0.000000  ...     7.000000    23.710000\n",
              "50%     272.900000           22.000000  ...    28.000000    34.445000\n",
              "75%     350.000000          142.950000  ...    56.000000    46.135000\n",
              "max     540.000000          359.400000  ...   365.000000    82.600000\n",
              "\n",
              "[8 rows x 9 columns]"
            ]
          },
          "metadata": {
            "tags": []
          },
          "execution_count": 4
        }
      ]
    },
    {
      "cell_type": "code",
      "metadata": {
        "button": false,
        "deletable": true,
        "new_sheet": false,
        "run_control": {
          "read_only": false
        },
        "id": "7JXtFjORsx9S",
        "colab_type": "code",
        "outputId": "bc1ed985-68a0-4e1c-cb4b-e79b0ba50202",
        "colab": {
          "base_uri": "https://localhost:8080/",
          "height": 191
        }
      },
      "source": [
        "data.isnull().sum()"
      ],
      "execution_count": 5,
      "outputs": [
        {
          "output_type": "execute_result",
          "data": {
            "text/plain": [
              "Cement                0\n",
              "Blast Furnace Slag    0\n",
              "Fly Ash               0\n",
              "Water                 0\n",
              "Superplasticizer      0\n",
              "Coarse Aggregate      0\n",
              "Fine Aggregate        0\n",
              "Age                   0\n",
              "Strength              0\n",
              "dtype: int64"
            ]
          },
          "metadata": {
            "tags": []
          },
          "execution_count": 5
        }
      ]
    },
    {
      "cell_type": "markdown",
      "metadata": {
        "button": false,
        "deletable": true,
        "new_sheet": false,
        "run_control": {
          "read_only": false
        },
        "id": "lxNHiQQpsx9b",
        "colab_type": "text"
      },
      "source": [
        "Dataset looks super clean. No null value is found in the model. Hence, It is ready to be predicted....After Spiliting the dataset into predictors and target and into training and testing the data ofcourse :)"
      ]
    },
    {
      "cell_type": "markdown",
      "metadata": {
        "button": false,
        "deletable": true,
        "new_sheet": false,
        "run_control": {
          "read_only": false
        },
        "id": "dwRjEwgqsx9c",
        "colab_type": "text"
      },
      "source": [
        "#### Spliting data "
      ]
    },
    {
      "cell_type": "markdown",
      "metadata": {
        "id": "tP2DR1mDsx9e",
        "colab_type": "text"
      },
      "source": [
        "The target variable in this problem is the concrete sample strength. Therefore, our predictors will be all the other columns."
      ]
    },
    {
      "cell_type": "code",
      "metadata": {
        "button": false,
        "deletable": true,
        "new_sheet": false,
        "run_control": {
          "read_only": false
        },
        "id": "xYZcMhCWsx9g",
        "colab_type": "code",
        "colab": {}
      },
      "source": [
        "data_columns = data.columns\n",
        "\n",
        "X = data[data_columns[data_columns != 'Strength']] # Predictors: all columns except 'Strength'\n",
        "y = data['Strength'] # Target: 'Strength' column\n"
      ],
      "execution_count": 0,
      "outputs": []
    },
    {
      "cell_type": "code",
      "metadata": {
        "id": "Tw-WiOloN0c4",
        "colab_type": "code",
        "outputId": "cf503624-f647-466d-c202-e618ae71bc86",
        "colab": {
          "base_uri": "https://localhost:8080/",
          "height": 206
        }
      },
      "source": [
        "''' Normalizing the dataset first before spilting'''\n",
        "X_norm = (X - X.mean()) / X.std() \n",
        "X_norm.head()"
      ],
      "execution_count": 7,
      "outputs": [
        {
          "output_type": "execute_result",
          "data": {
            "text/html": [
              "<div>\n",
              "<style scoped>\n",
              "    .dataframe tbody tr th:only-of-type {\n",
              "        vertical-align: middle;\n",
              "    }\n",
              "\n",
              "    .dataframe tbody tr th {\n",
              "        vertical-align: top;\n",
              "    }\n",
              "\n",
              "    .dataframe thead th {\n",
              "        text-align: right;\n",
              "    }\n",
              "</style>\n",
              "<table border=\"1\" class=\"dataframe\">\n",
              "  <thead>\n",
              "    <tr style=\"text-align: right;\">\n",
              "      <th></th>\n",
              "      <th>Cement</th>\n",
              "      <th>Blast Furnace Slag</th>\n",
              "      <th>Fly Ash</th>\n",
              "      <th>Water</th>\n",
              "      <th>Superplasticizer</th>\n",
              "      <th>Coarse Aggregate</th>\n",
              "      <th>Fine Aggregate</th>\n",
              "      <th>Age</th>\n",
              "    </tr>\n",
              "  </thead>\n",
              "  <tbody>\n",
              "    <tr>\n",
              "      <th>0</th>\n",
              "      <td>2.476712</td>\n",
              "      <td>-0.856472</td>\n",
              "      <td>-0.846733</td>\n",
              "      <td>-0.916319</td>\n",
              "      <td>-0.620147</td>\n",
              "      <td>0.862735</td>\n",
              "      <td>-1.217079</td>\n",
              "      <td>-0.279597</td>\n",
              "    </tr>\n",
              "    <tr>\n",
              "      <th>1</th>\n",
              "      <td>2.476712</td>\n",
              "      <td>-0.856472</td>\n",
              "      <td>-0.846733</td>\n",
              "      <td>-0.916319</td>\n",
              "      <td>-0.620147</td>\n",
              "      <td>1.055651</td>\n",
              "      <td>-1.217079</td>\n",
              "      <td>-0.279597</td>\n",
              "    </tr>\n",
              "    <tr>\n",
              "      <th>2</th>\n",
              "      <td>0.491187</td>\n",
              "      <td>0.795140</td>\n",
              "      <td>-0.846733</td>\n",
              "      <td>2.174405</td>\n",
              "      <td>-1.038638</td>\n",
              "      <td>-0.526262</td>\n",
              "      <td>-2.239829</td>\n",
              "      <td>3.551340</td>\n",
              "    </tr>\n",
              "    <tr>\n",
              "      <th>3</th>\n",
              "      <td>0.491187</td>\n",
              "      <td>0.795140</td>\n",
              "      <td>-0.846733</td>\n",
              "      <td>2.174405</td>\n",
              "      <td>-1.038638</td>\n",
              "      <td>-0.526262</td>\n",
              "      <td>-2.239829</td>\n",
              "      <td>5.055221</td>\n",
              "    </tr>\n",
              "    <tr>\n",
              "      <th>4</th>\n",
              "      <td>-0.790075</td>\n",
              "      <td>0.678079</td>\n",
              "      <td>-0.846733</td>\n",
              "      <td>0.488555</td>\n",
              "      <td>-1.038638</td>\n",
              "      <td>0.070492</td>\n",
              "      <td>0.647569</td>\n",
              "      <td>4.976069</td>\n",
              "    </tr>\n",
              "  </tbody>\n",
              "</table>\n",
              "</div>"
            ],
            "text/plain": [
              "     Cement  Blast Furnace Slag  ...  Fine Aggregate       Age\n",
              "0  2.476712           -0.856472  ...       -1.217079 -0.279597\n",
              "1  2.476712           -0.856472  ...       -1.217079 -0.279597\n",
              "2  0.491187            0.795140  ...       -2.239829  3.551340\n",
              "3  0.491187            0.795140  ...       -2.239829  5.055221\n",
              "4 -0.790075            0.678079  ...        0.647569  4.976069\n",
              "\n",
              "[5 rows x 8 columns]"
            ]
          },
          "metadata": {
            "tags": []
          },
          "execution_count": 7
        }
      ]
    },
    {
      "cell_type": "markdown",
      "metadata": {
        "button": false,
        "deletable": true,
        "new_sheet": false,
        "run_control": {
          "read_only": false
        },
        "id": "gByUW99Ssx9q",
        "colab_type": "text"
      },
      "source": [
        "<a id=\"item2\"></a>"
      ]
    },
    {
      "cell_type": "code",
      "metadata": {
        "id": "SNRsz5EF5th6",
        "colab_type": "code",
        "colab": {}
      },
      "source": [
        "# Spliting the dataset into training and testing data.\n",
        "X_train, X_test, y_train,y_test = train_test_split(X_norm,y,test_size=0.3)"
      ],
      "execution_count": 0,
      "outputs": []
    },
    {
      "cell_type": "markdown",
      "metadata": {
        "button": false,
        "deletable": true,
        "new_sheet": false,
        "run_control": {
          "read_only": false
        },
        "id": "Bs_8ywVKsx9r",
        "colab_type": "text"
      },
      "source": [
        "Let's do a quick sanity check of the predictors and the target dataframes of training set and testing set."
      ]
    },
    {
      "cell_type": "code",
      "metadata": {
        "button": false,
        "deletable": true,
        "new_sheet": false,
        "run_control": {
          "read_only": false
        },
        "id": "lHoQqcsVsx9t",
        "colab_type": "code",
        "outputId": "43a96027-b136-4b59-d058-8293cfaac0c9",
        "colab": {
          "base_uri": "https://localhost:8080/",
          "height": 206
        }
      },
      "source": [
        "X_train.head()\n"
      ],
      "execution_count": 9,
      "outputs": [
        {
          "output_type": "execute_result",
          "data": {
            "text/html": [
              "<div>\n",
              "<style scoped>\n",
              "    .dataframe tbody tr th:only-of-type {\n",
              "        vertical-align: middle;\n",
              "    }\n",
              "\n",
              "    .dataframe tbody tr th {\n",
              "        vertical-align: top;\n",
              "    }\n",
              "\n",
              "    .dataframe thead th {\n",
              "        text-align: right;\n",
              "    }\n",
              "</style>\n",
              "<table border=\"1\" class=\"dataframe\">\n",
              "  <thead>\n",
              "    <tr style=\"text-align: right;\">\n",
              "      <th></th>\n",
              "      <th>Cement</th>\n",
              "      <th>Blast Furnace Slag</th>\n",
              "      <th>Fly Ash</th>\n",
              "      <th>Water</th>\n",
              "      <th>Superplasticizer</th>\n",
              "      <th>Coarse Aggregate</th>\n",
              "      <th>Fine Aggregate</th>\n",
              "      <th>Age</th>\n",
              "    </tr>\n",
              "  </thead>\n",
              "  <tbody>\n",
              "    <tr>\n",
              "      <th>858</th>\n",
              "      <td>0.390714</td>\n",
              "      <td>0.870477</td>\n",
              "      <td>-0.846733</td>\n",
              "      <td>0.207580</td>\n",
              "      <td>0.300534</td>\n",
              "      <td>-0.281901</td>\n",
              "      <td>-0.805484</td>\n",
              "      <td>-0.279597</td>\n",
              "    </tr>\n",
              "    <tr>\n",
              "      <th>345</th>\n",
              "      <td>-0.645586</td>\n",
              "      <td>-0.856472</td>\n",
              "      <td>1.883083</td>\n",
              "      <td>-1.253489</td>\n",
              "      <td>0.668806</td>\n",
              "      <td>1.036360</td>\n",
              "      <td>0.035167</td>\n",
              "      <td>-0.501222</td>\n",
              "    </tr>\n",
              "    <tr>\n",
              "      <th>30</th>\n",
              "      <td>0.218476</td>\n",
              "      <td>0.024388</td>\n",
              "      <td>-0.846733</td>\n",
              "      <td>2.174405</td>\n",
              "      <td>-1.038638</td>\n",
              "      <td>-0.526262</td>\n",
              "      <td>-1.291914</td>\n",
              "      <td>5.055221</td>\n",
              "    </tr>\n",
              "    <tr>\n",
              "      <th>539</th>\n",
              "      <td>1.902584</td>\n",
              "      <td>-0.856472</td>\n",
              "      <td>-0.846733</td>\n",
              "      <td>0.488555</td>\n",
              "      <td>-1.038638</td>\n",
              "      <td>-0.472245</td>\n",
              "      <td>-0.765572</td>\n",
              "      <td>0.701883</td>\n",
              "    </tr>\n",
              "    <tr>\n",
              "      <th>150</th>\n",
              "      <td>0.360094</td>\n",
              "      <td>1.606458</td>\n",
              "      <td>-0.846733</td>\n",
              "      <td>-1.211343</td>\n",
              "      <td>1.355131</td>\n",
              "      <td>-1.553862</td>\n",
              "      <td>1.332313</td>\n",
              "      <td>0.163652</td>\n",
              "    </tr>\n",
              "  </tbody>\n",
              "</table>\n",
              "</div>"
            ],
            "text/plain": [
              "       Cement  Blast Furnace Slag  ...  Fine Aggregate       Age\n",
              "858  0.390714            0.870477  ...       -0.805484 -0.279597\n",
              "345 -0.645586           -0.856472  ...        0.035167 -0.501222\n",
              "30   0.218476            0.024388  ...       -1.291914  5.055221\n",
              "539  1.902584           -0.856472  ...       -0.765572  0.701883\n",
              "150  0.360094            1.606458  ...        1.332313  0.163652\n",
              "\n",
              "[5 rows x 8 columns]"
            ]
          },
          "metadata": {
            "tags": []
          },
          "execution_count": 9
        }
      ]
    },
    {
      "cell_type": "code",
      "metadata": {
        "id": "_RDQWrKb36oW",
        "colab_type": "code",
        "outputId": "776f49ce-6452-49dd-cabc-1a8015494d8e",
        "colab": {
          "base_uri": "https://localhost:8080/",
          "height": 206
        }
      },
      "source": [
        "X_test.head()"
      ],
      "execution_count": 10,
      "outputs": [
        {
          "output_type": "execute_result",
          "data": {
            "text/html": [
              "<div>\n",
              "<style scoped>\n",
              "    .dataframe tbody tr th:only-of-type {\n",
              "        vertical-align: middle;\n",
              "    }\n",
              "\n",
              "    .dataframe tbody tr th {\n",
              "        vertical-align: top;\n",
              "    }\n",
              "\n",
              "    .dataframe thead th {\n",
              "        text-align: right;\n",
              "    }\n",
              "</style>\n",
              "<table border=\"1\" class=\"dataframe\">\n",
              "  <thead>\n",
              "    <tr style=\"text-align: right;\">\n",
              "      <th></th>\n",
              "      <th>Cement</th>\n",
              "      <th>Blast Furnace Slag</th>\n",
              "      <th>Fly Ash</th>\n",
              "      <th>Water</th>\n",
              "      <th>Superplasticizer</th>\n",
              "      <th>Coarse Aggregate</th>\n",
              "      <th>Fine Aggregate</th>\n",
              "      <th>Age</th>\n",
              "    </tr>\n",
              "  </thead>\n",
              "  <tbody>\n",
              "    <tr>\n",
              "      <th>600</th>\n",
              "      <td>0.553384</td>\n",
              "      <td>-0.856472</td>\n",
              "      <td>-0.846733</td>\n",
              "      <td>0.722701</td>\n",
              "      <td>-1.038638</td>\n",
              "      <td>-0.063263</td>\n",
              "      <td>0.092540</td>\n",
              "      <td>-0.501222</td>\n",
              "    </tr>\n",
              "    <tr>\n",
              "      <th>850</th>\n",
              "      <td>-1.197706</td>\n",
              "      <td>1.959961</td>\n",
              "      <td>-0.846733</td>\n",
              "      <td>-0.073394</td>\n",
              "      <td>0.802723</td>\n",
              "      <td>0.631236</td>\n",
              "      <td>-0.942682</td>\n",
              "      <td>-0.279597</td>\n",
              "    </tr>\n",
              "    <tr>\n",
              "      <th>391</th>\n",
              "      <td>1.108374</td>\n",
              "      <td>-0.657119</td>\n",
              "      <td>1.622133</td>\n",
              "      <td>-0.682173</td>\n",
              "      <td>2.443208</td>\n",
              "      <td>-0.076124</td>\n",
              "      <td>-1.753399</td>\n",
              "      <td>-0.279597</td>\n",
              "    </tr>\n",
              "    <tr>\n",
              "      <th>870</th>\n",
              "      <td>-1.264687</td>\n",
              "      <td>0.754574</td>\n",
              "      <td>0.856472</td>\n",
              "      <td>0.535385</td>\n",
              "      <td>-0.034259</td>\n",
              "      <td>-1.040705</td>\n",
              "      <td>0.080068</td>\n",
              "      <td>-0.279597</td>\n",
              "    </tr>\n",
              "    <tr>\n",
              "      <th>905</th>\n",
              "      <td>-1.398650</td>\n",
              "      <td>-0.856472</td>\n",
              "      <td>1.747139</td>\n",
              "      <td>-0.073394</td>\n",
              "      <td>0.635327</td>\n",
              "      <td>-0.153290</td>\n",
              "      <td>0.391882</td>\n",
              "      <td>-0.279597</td>\n",
              "    </tr>\n",
              "  </tbody>\n",
              "</table>\n",
              "</div>"
            ],
            "text/plain": [
              "       Cement  Blast Furnace Slag  ...  Fine Aggregate       Age\n",
              "600  0.553384           -0.856472  ...        0.092540 -0.501222\n",
              "850 -1.197706            1.959961  ...       -0.942682 -0.279597\n",
              "391  1.108374           -0.657119  ...       -1.753399 -0.279597\n",
              "870 -1.264687            0.754574  ...        0.080068 -0.279597\n",
              "905 -1.398650           -0.856472  ...        0.391882 -0.279597\n",
              "\n",
              "[5 rows x 8 columns]"
            ]
          },
          "metadata": {
            "tags": []
          },
          "execution_count": 10
        }
      ]
    },
    {
      "cell_type": "code",
      "metadata": {
        "button": false,
        "deletable": true,
        "new_sheet": false,
        "run_control": {
          "read_only": false
        },
        "id": "9Hd6eMwcsx91",
        "colab_type": "code",
        "outputId": "7352a859-acd7-4abf-f8cf-e61944a79f60",
        "colab": {
          "base_uri": "https://localhost:8080/",
          "height": 121
        }
      },
      "source": [
        "y_train.head()\n"
      ],
      "execution_count": 11,
      "outputs": [
        {
          "output_type": "execute_result",
          "data": {
            "text/plain": [
              "858    52.42\n",
              "345    33.73\n",
              "30     55.26\n",
              "539    54.32\n",
              "150    66.10\n",
              "Name: Strength, dtype: float64"
            ]
          },
          "metadata": {
            "tags": []
          },
          "execution_count": 11
        }
      ]
    },
    {
      "cell_type": "code",
      "metadata": {
        "id": "QhXyU5Vj3-uA",
        "colab_type": "code",
        "outputId": "9730cd6c-0216-4802-ca3f-10f22953592c",
        "colab": {
          "base_uri": "https://localhost:8080/",
          "height": 121
        }
      },
      "source": [
        "y_test.head()"
      ],
      "execution_count": 12,
      "outputs": [
        {
          "output_type": "execute_result",
          "data": {
            "text/plain": [
              "600    27.04\n",
              "850    37.36\n",
              "391    55.65\n",
              "870    23.69\n",
              "905    13.29\n",
              "Name: Strength, dtype: float64"
            ]
          },
          "metadata": {
            "tags": []
          },
          "execution_count": 12
        }
      ]
    },
    {
      "cell_type": "markdown",
      "metadata": {
        "id": "Uy869yjxsx-T",
        "colab_type": "text"
      },
      "source": [
        "Let's save the number of predictors to *n_cols* since we will need this number when building our network."
      ]
    },
    {
      "cell_type": "code",
      "metadata": {
        "button": false,
        "deletable": true,
        "new_sheet": false,
        "run_control": {
          "read_only": false
        },
        "id": "awkB_bZWsx-U",
        "colab_type": "code",
        "colab": {}
      },
      "source": [
        "n_cols = X_train.shape[1] # number of predictors"
      ],
      "execution_count": 0,
      "outputs": []
    },
    {
      "cell_type": "markdown",
      "metadata": {
        "button": false,
        "deletable": true,
        "new_sheet": false,
        "run_control": {
          "read_only": false
        },
        "id": "Nfjw_ustsx-i",
        "colab_type": "text"
      },
      "source": [
        "<a id=\"item1\"></a>"
      ]
    },
    {
      "cell_type": "markdown",
      "metadata": {
        "id": "fhdrqqNwsx-p",
        "colab_type": "text"
      },
      "source": [
        "<a id='item32'></a>"
      ]
    },
    {
      "cell_type": "markdown",
      "metadata": {
        "button": false,
        "deletable": true,
        "new_sheet": false,
        "run_control": {
          "read_only": false
        },
        "id": "to-_uftssx-q",
        "colab_type": "text"
      },
      "source": [
        "## Building Keras Model For Prediction"
      ]
    },
    {
      "cell_type": "markdown",
      "metadata": {
        "button": false,
        "deletable": true,
        "new_sheet": false,
        "run_control": {
          "read_only": false
        },
        "id": "jNzYv9wlsx-t",
        "colab_type": "text"
      },
      "source": [
        "#### Importing the Keras library"
      ]
    },
    {
      "cell_type": "code",
      "metadata": {
        "button": false,
        "deletable": true,
        "new_sheet": false,
        "run_control": {
          "read_only": false
        },
        "id": "01lJ_g3Nsx-v",
        "colab_type": "code",
        "colab": {
          "base_uri": "https://localhost:8080/",
          "height": 34
        },
        "outputId": "28eec17b-ae8f-484c-9f75-c345bb4f3695"
      },
      "source": [
        "import keras"
      ],
      "execution_count": 14,
      "outputs": [
        {
          "output_type": "stream",
          "text": [
            "Using TensorFlow backend.\n"
          ],
          "name": "stderr"
        }
      ]
    },
    {
      "cell_type": "markdown",
      "metadata": {
        "button": false,
        "deletable": true,
        "new_sheet": false,
        "run_control": {
          "read_only": false
        },
        "id": "ANC78N4Zsx-8",
        "colab_type": "text"
      },
      "source": [
        "Importing the Sequential model and Dense layer to create the MLP for training this model. "
      ]
    },
    {
      "cell_type": "code",
      "metadata": {
        "button": false,
        "deletable": true,
        "new_sheet": false,
        "run_control": {
          "read_only": false
        },
        "id": "BigOECSSsx-8",
        "colab_type": "code",
        "colab": {}
      },
      "source": [
        "from keras.models import Sequential\n",
        "from keras.layers import Dense"
      ],
      "execution_count": 0,
      "outputs": []
    },
    {
      "cell_type": "markdown",
      "metadata": {
        "id": "ocXTutmKsx_G",
        "colab_type": "text"
      },
      "source": [
        "<a id='item33'></a>"
      ]
    },
    {
      "cell_type": "markdown",
      "metadata": {
        "button": false,
        "deletable": true,
        "new_sheet": false,
        "run_control": {
          "read_only": false
        },
        "id": "SPh_7-vhsx_K",
        "colab_type": "text"
      },
      "source": [
        "Let's define a function that defines our regression model for us so that we can conveniently call it to create our model."
      ]
    },
    {
      "cell_type": "code",
      "metadata": {
        "button": false,
        "deletable": true,
        "new_sheet": false,
        "run_control": {
          "read_only": false
        },
        "id": "Ff2k4KRPsx_L",
        "colab_type": "code",
        "colab": {}
      },
      "source": [
        "# define regression model\n",
        "# increasing the number of layers\n",
        "def regression_model():\n",
        "    # create model\n",
        "    model = Sequential()\n",
        "    model.add(Dense(10, activation='relu', input_shape=(n_cols,)))\n",
        "    model.add(Dense(10, activation='relu'))\n",
        "    model.add(Dense(10, activation='relu'))\n",
        "    model.add(Dense(1))\n",
        "    \n",
        "    # compile model\n",
        "    model.compile(optimizer='adam', loss='mean_squared_error',metrics=['mean_squared_error'])\n",
        "    return model"
      ],
      "execution_count": 0,
      "outputs": []
    },
    {
      "cell_type": "markdown",
      "metadata": {
        "id": "RDDuSa5Bsx_S",
        "colab_type": "text"
      },
      "source": [
        "The above function create a model that has three hidden layers, each of 10 hidden units."
      ]
    },
    {
      "cell_type": "markdown",
      "metadata": {
        "button": false,
        "deletable": true,
        "new_sheet": false,
        "run_control": {
          "read_only": false
        },
        "id": "PfvNK8ywsx_T",
        "colab_type": "text"
      },
      "source": [
        "<a id=\"item4\"></a>"
      ]
    },
    {
      "cell_type": "markdown",
      "metadata": {
        "id": "S6sxfF_4sx_U",
        "colab_type": "text"
      },
      "source": [
        "<a id='item34'></a>"
      ]
    },
    {
      "cell_type": "markdown",
      "metadata": {
        "button": false,
        "deletable": true,
        "new_sheet": false,
        "run_control": {
          "read_only": false
        },
        "id": "WeR_MXQrsx_V",
        "colab_type": "text"
      },
      "source": [
        "## Train and Test the Network"
      ]
    },
    {
      "cell_type": "markdown",
      "metadata": {
        "id": "5ZZXztkxsx_X",
        "colab_type": "text"
      },
      "source": [
        "Let's call the function now to create our model."
      ]
    },
    {
      "cell_type": "code",
      "metadata": {
        "button": false,
        "deletable": true,
        "new_sheet": false,
        "run_control": {
          "read_only": false
        },
        "id": "IJyvu1C4sx_a",
        "colab_type": "code",
        "colab": {}
      },
      "source": [
        "# build the model\n",
        "model = regression_model()"
      ],
      "execution_count": 0,
      "outputs": []
    },
    {
      "cell_type": "markdown",
      "metadata": {
        "id": "TjOHYgfvsx_g",
        "colab_type": "text"
      },
      "source": [
        "Next, we will train and test the model at the same time using the *fit* method. We will leave out 10% of the data for validation and we will train the model for 50 epochs."
      ]
    },
    {
      "cell_type": "code",
      "metadata": {
        "id": "DncSSYiasx_i",
        "colab_type": "code",
        "outputId": "8e343d32-3f21-40d7-fbe4-4e1a2b7345d0",
        "colab": {
          "base_uri": "https://localhost:8080/",
          "height": 1000
        }
      },
      "source": [
        "# fit the model\n",
        "model.fit(X_train, y_train, validation_split=0.1, epochs=50, verbose=2)"
      ],
      "execution_count": 18,
      "outputs": [
        {
          "output_type": "stream",
          "text": [
            "Train on 648 samples, validate on 73 samples\n",
            "Epoch 1/50\n",
            " - 0s - loss: 1488.1482 - mean_squared_error: 1488.1482 - val_loss: 1624.4905 - val_mean_squared_error: 1624.4905\n",
            "Epoch 2/50\n",
            " - 0s - loss: 1464.5896 - mean_squared_error: 1464.5896 - val_loss: 1594.0123 - val_mean_squared_error: 1594.0123\n",
            "Epoch 3/50\n",
            " - 0s - loss: 1430.5731 - mean_squared_error: 1430.5731 - val_loss: 1549.3493 - val_mean_squared_error: 1549.3494\n",
            "Epoch 4/50\n",
            " - 0s - loss: 1381.9798 - mean_squared_error: 1381.9799 - val_loss: 1484.7393 - val_mean_squared_error: 1484.7391\n",
            "Epoch 5/50\n",
            " - 0s - loss: 1311.0159 - mean_squared_error: 1311.0159 - val_loss: 1391.2808 - val_mean_squared_error: 1391.2808\n",
            "Epoch 6/50\n",
            " - 0s - loss: 1210.5580 - mean_squared_error: 1210.5580 - val_loss: 1257.1159 - val_mean_squared_error: 1257.1158\n",
            "Epoch 7/50\n",
            " - 0s - loss: 1072.8677 - mean_squared_error: 1072.8678 - val_loss: 1079.7527 - val_mean_squared_error: 1079.7527\n",
            "Epoch 8/50\n",
            " - 0s - loss: 899.6145 - mean_squared_error: 899.6146 - val_loss: 867.6017 - val_mean_squared_error: 867.6017\n",
            "Epoch 9/50\n",
            " - 0s - loss: 711.0384 - mean_squared_error: 711.0385 - val_loss: 653.4692 - val_mean_squared_error: 653.4692\n",
            "Epoch 10/50\n",
            " - 0s - loss: 536.5140 - mean_squared_error: 536.5140 - val_loss: 487.3516 - val_mean_squared_error: 487.3516\n",
            "Epoch 11/50\n",
            " - 0s - loss: 407.3196 - mean_squared_error: 407.3196 - val_loss: 383.1670 - val_mean_squared_error: 383.1670\n",
            "Epoch 12/50\n",
            " - 0s - loss: 332.5714 - mean_squared_error: 332.5714 - val_loss: 317.1502 - val_mean_squared_error: 317.1501\n",
            "Epoch 13/50\n",
            " - 0s - loss: 287.1986 - mean_squared_error: 287.1986 - val_loss: 273.1374 - val_mean_squared_error: 273.1374\n",
            "Epoch 14/50\n",
            " - 0s - loss: 258.2530 - mean_squared_error: 258.2530 - val_loss: 240.3215 - val_mean_squared_error: 240.3215\n",
            "Epoch 15/50\n",
            " - 0s - loss: 236.3324 - mean_squared_error: 236.3324 - val_loss: 218.0433 - val_mean_squared_error: 218.0433\n",
            "Epoch 16/50\n",
            " - 0s - loss: 221.5557 - mean_squared_error: 221.5557 - val_loss: 201.0175 - val_mean_squared_error: 201.0175\n",
            "Epoch 17/50\n",
            " - 0s - loss: 209.8432 - mean_squared_error: 209.8432 - val_loss: 192.1001 - val_mean_squared_error: 192.1001\n",
            "Epoch 18/50\n",
            " - 0s - loss: 201.5795 - mean_squared_error: 201.5795 - val_loss: 183.6963 - val_mean_squared_error: 183.6963\n",
            "Epoch 19/50\n",
            " - 0s - loss: 195.0716 - mean_squared_error: 195.0717 - val_loss: 177.9843 - val_mean_squared_error: 177.9843\n",
            "Epoch 20/50\n",
            " - 0s - loss: 189.6062 - mean_squared_error: 189.6062 - val_loss: 173.1763 - val_mean_squared_error: 173.1763\n",
            "Epoch 21/50\n",
            " - 0s - loss: 185.4199 - mean_squared_error: 185.4199 - val_loss: 169.8098 - val_mean_squared_error: 169.8098\n",
            "Epoch 22/50\n",
            " - 0s - loss: 181.2864 - mean_squared_error: 181.2864 - val_loss: 166.9419 - val_mean_squared_error: 166.9419\n",
            "Epoch 23/50\n",
            " - 0s - loss: 178.2642 - mean_squared_error: 178.2643 - val_loss: 163.4343 - val_mean_squared_error: 163.4343\n",
            "Epoch 24/50\n",
            " - 0s - loss: 175.1763 - mean_squared_error: 175.1763 - val_loss: 161.8600 - val_mean_squared_error: 161.8600\n",
            "Epoch 25/50\n",
            " - 0s - loss: 172.8581 - mean_squared_error: 172.8580 - val_loss: 160.1764 - val_mean_squared_error: 160.1764\n",
            "Epoch 26/50\n",
            " - 0s - loss: 170.1556 - mean_squared_error: 170.1556 - val_loss: 159.3526 - val_mean_squared_error: 159.3526\n",
            "Epoch 27/50\n",
            " - 0s - loss: 167.9320 - mean_squared_error: 167.9320 - val_loss: 156.2676 - val_mean_squared_error: 156.2676\n",
            "Epoch 28/50\n",
            " - 0s - loss: 166.2665 - mean_squared_error: 166.2665 - val_loss: 154.7994 - val_mean_squared_error: 154.7994\n",
            "Epoch 29/50\n",
            " - 0s - loss: 164.0176 - mean_squared_error: 164.0176 - val_loss: 153.4371 - val_mean_squared_error: 153.4370\n",
            "Epoch 30/50\n",
            " - 0s - loss: 162.2387 - mean_squared_error: 162.2386 - val_loss: 152.6720 - val_mean_squared_error: 152.6720\n",
            "Epoch 31/50\n",
            " - 0s - loss: 160.6836 - mean_squared_error: 160.6836 - val_loss: 152.5624 - val_mean_squared_error: 152.5624\n",
            "Epoch 32/50\n",
            " - 0s - loss: 159.3155 - mean_squared_error: 159.3154 - val_loss: 151.0413 - val_mean_squared_error: 151.0413\n",
            "Epoch 33/50\n",
            " - 0s - loss: 157.6057 - mean_squared_error: 157.6057 - val_loss: 149.8846 - val_mean_squared_error: 149.8846\n",
            "Epoch 34/50\n",
            " - 0s - loss: 156.1898 - mean_squared_error: 156.1898 - val_loss: 149.6411 - val_mean_squared_error: 149.6411\n",
            "Epoch 35/50\n",
            " - 0s - loss: 154.7882 - mean_squared_error: 154.7882 - val_loss: 148.4394 - val_mean_squared_error: 148.4394\n",
            "Epoch 36/50\n",
            " - 0s - loss: 153.5838 - mean_squared_error: 153.5838 - val_loss: 147.1438 - val_mean_squared_error: 147.1438\n",
            "Epoch 37/50\n",
            " - 0s - loss: 152.6724 - mean_squared_error: 152.6724 - val_loss: 145.8553 - val_mean_squared_error: 145.8553\n",
            "Epoch 38/50\n",
            " - 0s - loss: 151.4859 - mean_squared_error: 151.4859 - val_loss: 145.3829 - val_mean_squared_error: 145.3829\n",
            "Epoch 39/50\n",
            " - 0s - loss: 150.1496 - mean_squared_error: 150.1496 - val_loss: 145.2394 - val_mean_squared_error: 145.2394\n",
            "Epoch 40/50\n",
            " - 0s - loss: 148.7459 - mean_squared_error: 148.7459 - val_loss: 144.8143 - val_mean_squared_error: 144.8143\n",
            "Epoch 41/50\n",
            " - 0s - loss: 147.5544 - mean_squared_error: 147.5544 - val_loss: 144.0655 - val_mean_squared_error: 144.0655\n",
            "Epoch 42/50\n",
            " - 0s - loss: 146.5129 - mean_squared_error: 146.5129 - val_loss: 143.8601 - val_mean_squared_error: 143.8601\n",
            "Epoch 43/50\n",
            " - 0s - loss: 145.8944 - mean_squared_error: 145.8944 - val_loss: 142.7211 - val_mean_squared_error: 142.7211\n",
            "Epoch 44/50\n",
            " - 0s - loss: 144.7719 - mean_squared_error: 144.7719 - val_loss: 141.2102 - val_mean_squared_error: 141.2102\n",
            "Epoch 45/50\n",
            " - 0s - loss: 143.6597 - mean_squared_error: 143.6597 - val_loss: 140.9913 - val_mean_squared_error: 140.9913\n",
            "Epoch 46/50\n",
            " - 0s - loss: 142.6632 - mean_squared_error: 142.6632 - val_loss: 140.7707 - val_mean_squared_error: 140.7707\n",
            "Epoch 47/50\n",
            " - 0s - loss: 141.9499 - mean_squared_error: 141.9499 - val_loss: 139.7169 - val_mean_squared_error: 139.7169\n",
            "Epoch 48/50\n",
            " - 0s - loss: 140.8889 - mean_squared_error: 140.8889 - val_loss: 139.0466 - val_mean_squared_error: 139.0466\n",
            "Epoch 49/50\n",
            " - 0s - loss: 140.7272 - mean_squared_error: 140.7272 - val_loss: 138.4529 - val_mean_squared_error: 138.4530\n",
            "Epoch 50/50\n",
            " - 0s - loss: 139.2114 - mean_squared_error: 139.2114 - val_loss: 138.7416 - val_mean_squared_error: 138.7417\n"
          ],
          "name": "stdout"
        },
        {
          "output_type": "execute_result",
          "data": {
            "text/plain": [
              "<keras.callbacks.callbacks.History at 0x7fa9f4879c88>"
            ]
          },
          "metadata": {
            "tags": []
          },
          "execution_count": 18
        }
      ]
    },
    {
      "cell_type": "code",
      "metadata": {
        "id": "ARaJimOK-WSx",
        "colab_type": "code",
        "outputId": "7071cd43-ac5c-4a90-dcd0-5b6d31fc5bd9",
        "colab": {
          "base_uri": "https://localhost:8080/",
          "height": 312
        }
      },
      "source": [
        "import statistics \n",
        "from sklearn.metrics import mean_squared_error\n",
        "\n",
        "print(model.summary())\n",
        "mse_results=[]\n",
        "for x in range(50):\n",
        "    model.fit(X_train,y_train,epochs=50, verbose=0)\n",
        "    train_results = model.predict( X_test )\n",
        "    mse_results.append( mean_squared_error(y_test, train_results) )\n"
      ],
      "execution_count": 19,
      "outputs": [
        {
          "output_type": "stream",
          "text": [
            "Model: \"sequential_1\"\n",
            "_________________________________________________________________\n",
            "Layer (type)                 Output Shape              Param #   \n",
            "=================================================================\n",
            "dense_1 (Dense)              (None, 10)                90        \n",
            "_________________________________________________________________\n",
            "dense_2 (Dense)              (None, 10)                110       \n",
            "_________________________________________________________________\n",
            "dense_3 (Dense)              (None, 10)                110       \n",
            "_________________________________________________________________\n",
            "dense_4 (Dense)              (None, 1)                 11        \n",
            "=================================================================\n",
            "Total params: 321\n",
            "Trainable params: 321\n",
            "Non-trainable params: 0\n",
            "_________________________________________________________________\n",
            "None\n"
          ],
          "name": "stdout"
        }
      ]
    },
    {
      "cell_type": "code",
      "metadata": {
        "id": "-vNwhXxLANyk",
        "colab_type": "code",
        "outputId": "c275b54f-e015-49f2-c21f-f1cf839e888b",
        "colab": {
          "base_uri": "https://localhost:8080/",
          "height": 52
        }
      },
      "source": [
        "print(\"Mean of the list of mean square errors is % s\" % (statistics.mean( mse_results ) ))\n",
        "print(\"Standard deviation of the list of mean square errors is % s\" % ( statistics.stdev( mse_results )))\n"
      ],
      "execution_count": 20,
      "outputs": [
        {
          "output_type": "stream",
          "text": [
            "Mean of the list of mean square errors is 47.670850713856666\n",
            "Standard deviation of the list of mean square errors is 7.255248500768844\n"
          ],
          "name": "stdout"
        }
      ]
    },
    {
      "cell_type": "code",
      "metadata": {
        "id": "8oCDPDzINK_e",
        "colab_type": "code",
        "outputId": "74a63015-e261-4c82-9f28-2fee54687b26",
        "colab": {
          "base_uri": "https://localhost:8080/",
          "height": 885
        }
      },
      "source": [
        "mse_results"
      ],
      "execution_count": 21,
      "outputs": [
        {
          "output_type": "execute_result",
          "data": {
            "text/plain": [
              "[94.13862015850026,\n",
              " 55.11252167193764,\n",
              " 52.47458266992788,\n",
              " 52.86751677359567,\n",
              " 52.92597948759507,\n",
              " 52.52696349910552,\n",
              " 52.52006661931197,\n",
              " 51.467234985679255,\n",
              " 49.615840309376445,\n",
              " 49.19011198526588,\n",
              " 49.03496452890965,\n",
              " 47.0412501412634,\n",
              " 46.18490823720615,\n",
              " 45.52963635067293,\n",
              " 46.09349560335964,\n",
              " 46.51428524730684,\n",
              " 45.389317379187865,\n",
              " 44.85950133900051,\n",
              " 44.75924368341714,\n",
              " 47.29101867618457,\n",
              " 45.141485851110104,\n",
              " 46.94671758502724,\n",
              " 44.94299984541767,\n",
              " 45.24339900615229,\n",
              " 45.516482594551206,\n",
              " 44.640370350549546,\n",
              " 44.965620618951775,\n",
              " 45.032299633392824,\n",
              " 45.005766036496794,\n",
              " 45.70326219967758,\n",
              " 45.15365999534378,\n",
              " 45.40353345045647,\n",
              " 44.4576571572652,\n",
              " 44.897428777009694,\n",
              " 44.703328638749554,\n",
              " 44.74442893850414,\n",
              " 45.97720442393892,\n",
              " 45.43585587615038,\n",
              " 45.150036506608885,\n",
              " 44.547537048479136,\n",
              " 44.532421915441326,\n",
              " 44.90780111230876,\n",
              " 44.49056081534697,\n",
              " 46.31323158429457,\n",
              " 45.161012107748775,\n",
              " 46.44325444903427,\n",
              " 45.29797706536988,\n",
              " 46.32010871938631,\n",
              " 45.73897268443216,\n",
              " 45.1910613588329]"
            ]
          },
          "metadata": {
            "tags": []
          },
          "execution_count": 21
        }
      ]
    },
    {
      "cell_type": "markdown",
      "metadata": {
        "id": "11gzbONJOna7",
        "colab_type": "text"
      },
      "source": [
        "#### Increasing the number of layers decreased the mean and standard deviation. Hence, have better fit on the dataset compared to one layer normalized model(v0.2)\n",
        "Mean dataset decreased by approx. 7 points while the standard deviation decreased by 15 points."
      ]
    },
    {
      "cell_type": "markdown",
      "metadata": {
        "button": false,
        "deletable": true,
        "new_sheet": false,
        "run_control": {
          "read_only": false
        },
        "id": "ogzg4cTJsx_z",
        "colab_type": "text"
      },
      "source": [
        "# Thanks for Reviewing the Project."
      ]
    }
  ]
}