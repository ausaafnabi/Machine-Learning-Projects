{
  "nbformat": 4,
  "nbformat_minor": 0,
  "metadata": {
    "kernelspec": {
      "display_name": "Python",
      "language": "python",
      "name": "conda-env-python-py"
    },
    "language_info": {
      "codemirror_mode": {
        "name": "ipython",
        "version": 3
      },
      "file_extension": ".py",
      "mimetype": "text/x-python",
      "name": "python",
      "nbconvert_exporter": "python",
      "pygments_lexer": "ipython3",
      "version": "3.6.7"
    },
    "colab": {
      "name": "Predicting_Concrete_Strength_using_Keras_Regression_Model(v0_2).ipynb",
      "provenance": [],
      "collapsed_sections": []
    }
  },
  "cells": [
    {
      "cell_type": "markdown",
      "metadata": {
        "button": false,
        "deletable": true,
        "new_sheet": false,
        "run_control": {
          "read_only": false
        },
        "id": "Y07BAwREsx7-",
        "colab_type": "text"
      },
      "source": [
        "<h1 align=center><font size = 5>Regression Models with Keras to Predict Concrete Strength v0.2</font></h1>"
      ]
    },
    {
      "cell_type": "markdown",
      "metadata": {
        "button": false,
        "deletable": true,
        "new_sheet": false,
        "run_control": {
          "read_only": false
        },
        "id": "BxMdr1N6sx8C",
        "colab_type": "text"
      },
      "source": [
        "## Introduction"
      ]
    },
    {
      "cell_type": "markdown",
      "metadata": {
        "button": false,
        "deletable": true,
        "new_sheet": false,
        "run_control": {
          "read_only": false
        },
        "id": "yRSZPW1Usx8G",
        "colab_type": "text"
      },
      "source": [
        "Building a Regression Model Using Keras to predict the strength of the concrete sample.Starting with training it on 50 epochs.We will increase the epochs later to 100. \n",
        "We are using https://cocl.us/concrete_data dataset to train and test our model.\n",
        "Also, Evaluating the accuracy of model using mean_squared error."
      ]
    },
    {
      "cell_type": "markdown",
      "metadata": {
        "button": false,
        "deletable": true,
        "new_sheet": false,
        "run_control": {
          "read_only": false
        },
        "id": "oP8scH-Psx8P",
        "colab_type": "text"
      },
      "source": [
        "## Preprocessing Dataset"
      ]
    },
    {
      "cell_type": "markdown",
      "metadata": {
        "button": false,
        "deletable": true,
        "new_sheet": false,
        "run_control": {
          "read_only": false
        },
        "id": "507mgPtisx8R",
        "colab_type": "text"
      },
      "source": [
        "Importing the <em>pandas</em> and the Numpy libraries and test_train_split function from scikit-learn."
      ]
    },
    {
      "cell_type": "code",
      "metadata": {
        "button": false,
        "deletable": true,
        "new_sheet": false,
        "run_control": {
          "read_only": false
        },
        "id": "ObLziNKGsx8a",
        "colab_type": "code",
        "colab": {}
      },
      "source": [
        "import pandas as pd\n",
        "import numpy as np\n",
        "from sklearn.model_selection import train_test_split"
      ],
      "execution_count": 0,
      "outputs": []
    },
    {
      "cell_type": "markdown",
      "metadata": {
        "button": false,
        "deletable": true,
        "new_sheet": false,
        "run_control": {
          "read_only": false
        },
        "id": "D4-fHVA4sx8n",
        "colab_type": "text"
      },
      "source": [
        "\n",
        "<strong>The dataset is about the compressive strength of different samples of concrete based on the volumes of the different ingredients that were used to make them. Ingredients include:</strong>\n",
        "\n",
        "<strong>1. Cement</strong>\n",
        "\n",
        "<strong>2. Blast Furnace Slag</strong>\n",
        "\n",
        "<strong>3. Fly Ash</strong>\n",
        "\n",
        "<strong>4. Water</strong>\n",
        "\n",
        "<strong>5. Superplasticizer</strong>\n",
        "\n",
        "<strong>6. Coarse Aggregate</strong>\n",
        "\n",
        "<strong>7. Fine Aggregate</strong>"
      ]
    },
    {
      "cell_type": "markdown",
      "metadata": {
        "button": false,
        "deletable": true,
        "new_sheet": false,
        "run_control": {
          "read_only": false
        },
        "id": "jASFNneMsx8p",
        "colab_type": "text"
      },
      "source": [
        "Let's download the data and read it into a <em>pandas</em> dataframe."
      ]
    },
    {
      "cell_type": "code",
      "metadata": {
        "button": false,
        "deletable": true,
        "new_sheet": false,
        "run_control": {
          "read_only": false
        },
        "id": "Q0UsarPWsx8s",
        "colab_type": "code",
        "outputId": "8d47cdfb-22c5-4c5a-afc5-bee7c2ed8f56",
        "colab": {
          "base_uri": "https://localhost:8080/",
          "height": 206
        }
      },
      "source": [
        "data = pd.read_csv('https://cocl.us/concrete_data')\n",
        "data.head()"
      ],
      "execution_count": 2,
      "outputs": [
        {
          "output_type": "execute_result",
          "data": {
            "text/html": [
              "<div>\n",
              "<style scoped>\n",
              "    .dataframe tbody tr th:only-of-type {\n",
              "        vertical-align: middle;\n",
              "    }\n",
              "\n",
              "    .dataframe tbody tr th {\n",
              "        vertical-align: top;\n",
              "    }\n",
              "\n",
              "    .dataframe thead th {\n",
              "        text-align: right;\n",
              "    }\n",
              "</style>\n",
              "<table border=\"1\" class=\"dataframe\">\n",
              "  <thead>\n",
              "    <tr style=\"text-align: right;\">\n",
              "      <th></th>\n",
              "      <th>Cement</th>\n",
              "      <th>Blast Furnace Slag</th>\n",
              "      <th>Fly Ash</th>\n",
              "      <th>Water</th>\n",
              "      <th>Superplasticizer</th>\n",
              "      <th>Coarse Aggregate</th>\n",
              "      <th>Fine Aggregate</th>\n",
              "      <th>Age</th>\n",
              "      <th>Strength</th>\n",
              "    </tr>\n",
              "  </thead>\n",
              "  <tbody>\n",
              "    <tr>\n",
              "      <th>0</th>\n",
              "      <td>540.0</td>\n",
              "      <td>0.0</td>\n",
              "      <td>0.0</td>\n",
              "      <td>162.0</td>\n",
              "      <td>2.5</td>\n",
              "      <td>1040.0</td>\n",
              "      <td>676.0</td>\n",
              "      <td>28</td>\n",
              "      <td>79.99</td>\n",
              "    </tr>\n",
              "    <tr>\n",
              "      <th>1</th>\n",
              "      <td>540.0</td>\n",
              "      <td>0.0</td>\n",
              "      <td>0.0</td>\n",
              "      <td>162.0</td>\n",
              "      <td>2.5</td>\n",
              "      <td>1055.0</td>\n",
              "      <td>676.0</td>\n",
              "      <td>28</td>\n",
              "      <td>61.89</td>\n",
              "    </tr>\n",
              "    <tr>\n",
              "      <th>2</th>\n",
              "      <td>332.5</td>\n",
              "      <td>142.5</td>\n",
              "      <td>0.0</td>\n",
              "      <td>228.0</td>\n",
              "      <td>0.0</td>\n",
              "      <td>932.0</td>\n",
              "      <td>594.0</td>\n",
              "      <td>270</td>\n",
              "      <td>40.27</td>\n",
              "    </tr>\n",
              "    <tr>\n",
              "      <th>3</th>\n",
              "      <td>332.5</td>\n",
              "      <td>142.5</td>\n",
              "      <td>0.0</td>\n",
              "      <td>228.0</td>\n",
              "      <td>0.0</td>\n",
              "      <td>932.0</td>\n",
              "      <td>594.0</td>\n",
              "      <td>365</td>\n",
              "      <td>41.05</td>\n",
              "    </tr>\n",
              "    <tr>\n",
              "      <th>4</th>\n",
              "      <td>198.6</td>\n",
              "      <td>132.4</td>\n",
              "      <td>0.0</td>\n",
              "      <td>192.0</td>\n",
              "      <td>0.0</td>\n",
              "      <td>978.4</td>\n",
              "      <td>825.5</td>\n",
              "      <td>360</td>\n",
              "      <td>44.30</td>\n",
              "    </tr>\n",
              "  </tbody>\n",
              "</table>\n",
              "</div>"
            ],
            "text/plain": [
              "   Cement  Blast Furnace Slag  Fly Ash  ...  Fine Aggregate  Age  Strength\n",
              "0   540.0                 0.0      0.0  ...           676.0   28     79.99\n",
              "1   540.0                 0.0      0.0  ...           676.0   28     61.89\n",
              "2   332.5               142.5      0.0  ...           594.0  270     40.27\n",
              "3   332.5               142.5      0.0  ...           594.0  365     41.05\n",
              "4   198.6               132.4      0.0  ...           825.5  360     44.30\n",
              "\n",
              "[5 rows x 9 columns]"
            ]
          },
          "metadata": {
            "tags": []
          },
          "execution_count": 2
        }
      ]
    },
    {
      "cell_type": "markdown",
      "metadata": {
        "button": false,
        "deletable": true,
        "new_sheet": false,
        "run_control": {
          "read_only": false
        },
        "id": "UX8ucLYYsx85",
        "colab_type": "text"
      },
      "source": [
        "#### Finding the shape of the data"
      ]
    },
    {
      "cell_type": "code",
      "metadata": {
        "button": false,
        "deletable": true,
        "new_sheet": false,
        "run_control": {
          "read_only": false
        },
        "id": "HgnDzvXSsx87",
        "colab_type": "code",
        "outputId": "fc05913e-1d67-4039-d3c9-10e638b1fff1",
        "colab": {
          "base_uri": "https://localhost:8080/",
          "height": 34
        }
      },
      "source": [
        "data.shape"
      ],
      "execution_count": 3,
      "outputs": [
        {
          "output_type": "execute_result",
          "data": {
            "text/plain": [
              "(1030, 9)"
            ]
          },
          "metadata": {
            "tags": []
          },
          "execution_count": 3
        }
      ]
    },
    {
      "cell_type": "markdown",
      "metadata": {
        "button": false,
        "deletable": true,
        "new_sheet": false,
        "run_control": {
          "read_only": false
        },
        "id": "k9Kz-ZVpsx9E",
        "colab_type": "text"
      },
      "source": [
        "So, there are 1030 samples to train our model."
      ]
    },
    {
      "cell_type": "markdown",
      "metadata": {
        "button": false,
        "deletable": true,
        "new_sheet": false,
        "run_control": {
          "read_only": false
        },
        "id": "5-HuLZUasx9G",
        "colab_type": "text"
      },
      "source": [
        "Searching for any missing values in the dataset.\n",
        "\n",
        "\n"
      ]
    },
    {
      "cell_type": "code",
      "metadata": {
        "button": false,
        "deletable": true,
        "new_sheet": false,
        "run_control": {
          "read_only": false
        },
        "id": "jagdTm4Nsx9I",
        "colab_type": "code",
        "outputId": "25845f45-8d7b-4368-b7a7-b35a4c7925e7",
        "colab": {
          "base_uri": "https://localhost:8080/",
          "height": 300
        }
      },
      "source": [
        "data.describe()"
      ],
      "execution_count": 4,
      "outputs": [
        {
          "output_type": "execute_result",
          "data": {
            "text/html": [
              "<div>\n",
              "<style scoped>\n",
              "    .dataframe tbody tr th:only-of-type {\n",
              "        vertical-align: middle;\n",
              "    }\n",
              "\n",
              "    .dataframe tbody tr th {\n",
              "        vertical-align: top;\n",
              "    }\n",
              "\n",
              "    .dataframe thead th {\n",
              "        text-align: right;\n",
              "    }\n",
              "</style>\n",
              "<table border=\"1\" class=\"dataframe\">\n",
              "  <thead>\n",
              "    <tr style=\"text-align: right;\">\n",
              "      <th></th>\n",
              "      <th>Cement</th>\n",
              "      <th>Blast Furnace Slag</th>\n",
              "      <th>Fly Ash</th>\n",
              "      <th>Water</th>\n",
              "      <th>Superplasticizer</th>\n",
              "      <th>Coarse Aggregate</th>\n",
              "      <th>Fine Aggregate</th>\n",
              "      <th>Age</th>\n",
              "      <th>Strength</th>\n",
              "    </tr>\n",
              "  </thead>\n",
              "  <tbody>\n",
              "    <tr>\n",
              "      <th>count</th>\n",
              "      <td>1030.000000</td>\n",
              "      <td>1030.000000</td>\n",
              "      <td>1030.000000</td>\n",
              "      <td>1030.000000</td>\n",
              "      <td>1030.000000</td>\n",
              "      <td>1030.000000</td>\n",
              "      <td>1030.000000</td>\n",
              "      <td>1030.000000</td>\n",
              "      <td>1030.000000</td>\n",
              "    </tr>\n",
              "    <tr>\n",
              "      <th>mean</th>\n",
              "      <td>281.167864</td>\n",
              "      <td>73.895825</td>\n",
              "      <td>54.188350</td>\n",
              "      <td>181.567282</td>\n",
              "      <td>6.204660</td>\n",
              "      <td>972.918932</td>\n",
              "      <td>773.580485</td>\n",
              "      <td>45.662136</td>\n",
              "      <td>35.817961</td>\n",
              "    </tr>\n",
              "    <tr>\n",
              "      <th>std</th>\n",
              "      <td>104.506364</td>\n",
              "      <td>86.279342</td>\n",
              "      <td>63.997004</td>\n",
              "      <td>21.354219</td>\n",
              "      <td>5.973841</td>\n",
              "      <td>77.753954</td>\n",
              "      <td>80.175980</td>\n",
              "      <td>63.169912</td>\n",
              "      <td>16.705742</td>\n",
              "    </tr>\n",
              "    <tr>\n",
              "      <th>min</th>\n",
              "      <td>102.000000</td>\n",
              "      <td>0.000000</td>\n",
              "      <td>0.000000</td>\n",
              "      <td>121.800000</td>\n",
              "      <td>0.000000</td>\n",
              "      <td>801.000000</td>\n",
              "      <td>594.000000</td>\n",
              "      <td>1.000000</td>\n",
              "      <td>2.330000</td>\n",
              "    </tr>\n",
              "    <tr>\n",
              "      <th>25%</th>\n",
              "      <td>192.375000</td>\n",
              "      <td>0.000000</td>\n",
              "      <td>0.000000</td>\n",
              "      <td>164.900000</td>\n",
              "      <td>0.000000</td>\n",
              "      <td>932.000000</td>\n",
              "      <td>730.950000</td>\n",
              "      <td>7.000000</td>\n",
              "      <td>23.710000</td>\n",
              "    </tr>\n",
              "    <tr>\n",
              "      <th>50%</th>\n",
              "      <td>272.900000</td>\n",
              "      <td>22.000000</td>\n",
              "      <td>0.000000</td>\n",
              "      <td>185.000000</td>\n",
              "      <td>6.400000</td>\n",
              "      <td>968.000000</td>\n",
              "      <td>779.500000</td>\n",
              "      <td>28.000000</td>\n",
              "      <td>34.445000</td>\n",
              "    </tr>\n",
              "    <tr>\n",
              "      <th>75%</th>\n",
              "      <td>350.000000</td>\n",
              "      <td>142.950000</td>\n",
              "      <td>118.300000</td>\n",
              "      <td>192.000000</td>\n",
              "      <td>10.200000</td>\n",
              "      <td>1029.400000</td>\n",
              "      <td>824.000000</td>\n",
              "      <td>56.000000</td>\n",
              "      <td>46.135000</td>\n",
              "    </tr>\n",
              "    <tr>\n",
              "      <th>max</th>\n",
              "      <td>540.000000</td>\n",
              "      <td>359.400000</td>\n",
              "      <td>200.100000</td>\n",
              "      <td>247.000000</td>\n",
              "      <td>32.200000</td>\n",
              "      <td>1145.000000</td>\n",
              "      <td>992.600000</td>\n",
              "      <td>365.000000</td>\n",
              "      <td>82.600000</td>\n",
              "    </tr>\n",
              "  </tbody>\n",
              "</table>\n",
              "</div>"
            ],
            "text/plain": [
              "            Cement  Blast Furnace Slag  ...          Age     Strength\n",
              "count  1030.000000         1030.000000  ...  1030.000000  1030.000000\n",
              "mean    281.167864           73.895825  ...    45.662136    35.817961\n",
              "std     104.506364           86.279342  ...    63.169912    16.705742\n",
              "min     102.000000            0.000000  ...     1.000000     2.330000\n",
              "25%     192.375000            0.000000  ...     7.000000    23.710000\n",
              "50%     272.900000           22.000000  ...    28.000000    34.445000\n",
              "75%     350.000000          142.950000  ...    56.000000    46.135000\n",
              "max     540.000000          359.400000  ...   365.000000    82.600000\n",
              "\n",
              "[8 rows x 9 columns]"
            ]
          },
          "metadata": {
            "tags": []
          },
          "execution_count": 4
        }
      ]
    },
    {
      "cell_type": "code",
      "metadata": {
        "button": false,
        "deletable": true,
        "new_sheet": false,
        "run_control": {
          "read_only": false
        },
        "id": "7JXtFjORsx9S",
        "colab_type": "code",
        "outputId": "69301570-7290-4ca0-dddf-eca6e29f18c3",
        "colab": {
          "base_uri": "https://localhost:8080/",
          "height": 191
        }
      },
      "source": [
        "data.isnull().sum()"
      ],
      "execution_count": 5,
      "outputs": [
        {
          "output_type": "execute_result",
          "data": {
            "text/plain": [
              "Cement                0\n",
              "Blast Furnace Slag    0\n",
              "Fly Ash               0\n",
              "Water                 0\n",
              "Superplasticizer      0\n",
              "Coarse Aggregate      0\n",
              "Fine Aggregate        0\n",
              "Age                   0\n",
              "Strength              0\n",
              "dtype: int64"
            ]
          },
          "metadata": {
            "tags": []
          },
          "execution_count": 5
        }
      ]
    },
    {
      "cell_type": "markdown",
      "metadata": {
        "button": false,
        "deletable": true,
        "new_sheet": false,
        "run_control": {
          "read_only": false
        },
        "id": "lxNHiQQpsx9b",
        "colab_type": "text"
      },
      "source": [
        "Dataset looks super clean. No null value is found in the model. Hence, It is ready to be predicted....After Spiliting the dataset into predictors and target and into training and testing the data ofcourse :)"
      ]
    },
    {
      "cell_type": "markdown",
      "metadata": {
        "button": false,
        "deletable": true,
        "new_sheet": false,
        "run_control": {
          "read_only": false
        },
        "id": "dwRjEwgqsx9c",
        "colab_type": "text"
      },
      "source": [
        "#### Spliting data "
      ]
    },
    {
      "cell_type": "markdown",
      "metadata": {
        "id": "tP2DR1mDsx9e",
        "colab_type": "text"
      },
      "source": [
        "The target variable in this problem is the concrete sample strength. Therefore, our predictors will be all the other columns."
      ]
    },
    {
      "cell_type": "code",
      "metadata": {
        "button": false,
        "deletable": true,
        "new_sheet": false,
        "run_control": {
          "read_only": false
        },
        "id": "xYZcMhCWsx9g",
        "colab_type": "code",
        "colab": {}
      },
      "source": [
        "data_columns = data.columns\n",
        "\n",
        "X = data[data_columns[data_columns != 'Strength']] # Predictors: all columns except 'Strength'\n",
        "y = data['Strength'] # Target: 'Strength' column\n"
      ],
      "execution_count": 0,
      "outputs": []
    },
    {
      "cell_type": "code",
      "metadata": {
        "id": "Tw-WiOloN0c4",
        "colab_type": "code",
        "outputId": "fcb07551-5c08-4254-caa6-8b70dc4e76be",
        "colab": {
          "base_uri": "https://localhost:8080/",
          "height": 206
        }
      },
      "source": [
        "''' Normalizing the dataset first before spilting'''\n",
        "X_norm = (X - X.mean()) / X.std() \n",
        "X_norm.head()"
      ],
      "execution_count": 7,
      "outputs": [
        {
          "output_type": "execute_result",
          "data": {
            "text/html": [
              "<div>\n",
              "<style scoped>\n",
              "    .dataframe tbody tr th:only-of-type {\n",
              "        vertical-align: middle;\n",
              "    }\n",
              "\n",
              "    .dataframe tbody tr th {\n",
              "        vertical-align: top;\n",
              "    }\n",
              "\n",
              "    .dataframe thead th {\n",
              "        text-align: right;\n",
              "    }\n",
              "</style>\n",
              "<table border=\"1\" class=\"dataframe\">\n",
              "  <thead>\n",
              "    <tr style=\"text-align: right;\">\n",
              "      <th></th>\n",
              "      <th>Cement</th>\n",
              "      <th>Blast Furnace Slag</th>\n",
              "      <th>Fly Ash</th>\n",
              "      <th>Water</th>\n",
              "      <th>Superplasticizer</th>\n",
              "      <th>Coarse Aggregate</th>\n",
              "      <th>Fine Aggregate</th>\n",
              "      <th>Age</th>\n",
              "    </tr>\n",
              "  </thead>\n",
              "  <tbody>\n",
              "    <tr>\n",
              "      <th>0</th>\n",
              "      <td>2.476712</td>\n",
              "      <td>-0.856472</td>\n",
              "      <td>-0.846733</td>\n",
              "      <td>-0.916319</td>\n",
              "      <td>-0.620147</td>\n",
              "      <td>0.862735</td>\n",
              "      <td>-1.217079</td>\n",
              "      <td>-0.279597</td>\n",
              "    </tr>\n",
              "    <tr>\n",
              "      <th>1</th>\n",
              "      <td>2.476712</td>\n",
              "      <td>-0.856472</td>\n",
              "      <td>-0.846733</td>\n",
              "      <td>-0.916319</td>\n",
              "      <td>-0.620147</td>\n",
              "      <td>1.055651</td>\n",
              "      <td>-1.217079</td>\n",
              "      <td>-0.279597</td>\n",
              "    </tr>\n",
              "    <tr>\n",
              "      <th>2</th>\n",
              "      <td>0.491187</td>\n",
              "      <td>0.795140</td>\n",
              "      <td>-0.846733</td>\n",
              "      <td>2.174405</td>\n",
              "      <td>-1.038638</td>\n",
              "      <td>-0.526262</td>\n",
              "      <td>-2.239829</td>\n",
              "      <td>3.551340</td>\n",
              "    </tr>\n",
              "    <tr>\n",
              "      <th>3</th>\n",
              "      <td>0.491187</td>\n",
              "      <td>0.795140</td>\n",
              "      <td>-0.846733</td>\n",
              "      <td>2.174405</td>\n",
              "      <td>-1.038638</td>\n",
              "      <td>-0.526262</td>\n",
              "      <td>-2.239829</td>\n",
              "      <td>5.055221</td>\n",
              "    </tr>\n",
              "    <tr>\n",
              "      <th>4</th>\n",
              "      <td>-0.790075</td>\n",
              "      <td>0.678079</td>\n",
              "      <td>-0.846733</td>\n",
              "      <td>0.488555</td>\n",
              "      <td>-1.038638</td>\n",
              "      <td>0.070492</td>\n",
              "      <td>0.647569</td>\n",
              "      <td>4.976069</td>\n",
              "    </tr>\n",
              "  </tbody>\n",
              "</table>\n",
              "</div>"
            ],
            "text/plain": [
              "     Cement  Blast Furnace Slag  ...  Fine Aggregate       Age\n",
              "0  2.476712           -0.856472  ...       -1.217079 -0.279597\n",
              "1  2.476712           -0.856472  ...       -1.217079 -0.279597\n",
              "2  0.491187            0.795140  ...       -2.239829  3.551340\n",
              "3  0.491187            0.795140  ...       -2.239829  5.055221\n",
              "4 -0.790075            0.678079  ...        0.647569  4.976069\n",
              "\n",
              "[5 rows x 8 columns]"
            ]
          },
          "metadata": {
            "tags": []
          },
          "execution_count": 7
        }
      ]
    },
    {
      "cell_type": "markdown",
      "metadata": {
        "button": false,
        "deletable": true,
        "new_sheet": false,
        "run_control": {
          "read_only": false
        },
        "id": "gByUW99Ssx9q",
        "colab_type": "text"
      },
      "source": [
        "<a id=\"item2\"></a>"
      ]
    },
    {
      "cell_type": "code",
      "metadata": {
        "id": "SNRsz5EF5th6",
        "colab_type": "code",
        "colab": {}
      },
      "source": [
        "# Spliting the dataset into training and testing data.\n",
        "X_train, X_test, y_train,y_test = train_test_split(X_norm,y,test_size=0.3)"
      ],
      "execution_count": 0,
      "outputs": []
    },
    {
      "cell_type": "markdown",
      "metadata": {
        "button": false,
        "deletable": true,
        "new_sheet": false,
        "run_control": {
          "read_only": false
        },
        "id": "Bs_8ywVKsx9r",
        "colab_type": "text"
      },
      "source": [
        "Let's do a quick sanity check of the predictors and the target dataframes of training set and testing set."
      ]
    },
    {
      "cell_type": "code",
      "metadata": {
        "button": false,
        "deletable": true,
        "new_sheet": false,
        "run_control": {
          "read_only": false
        },
        "id": "lHoQqcsVsx9t",
        "colab_type": "code",
        "outputId": "b23d073e-9ac7-4e14-afaa-99a7c1d583bc",
        "colab": {
          "base_uri": "https://localhost:8080/",
          "height": 206
        }
      },
      "source": [
        "X_train.head()\n"
      ],
      "execution_count": 9,
      "outputs": [
        {
          "output_type": "execute_result",
          "data": {
            "text/html": [
              "<div>\n",
              "<style scoped>\n",
              "    .dataframe tbody tr th:only-of-type {\n",
              "        vertical-align: middle;\n",
              "    }\n",
              "\n",
              "    .dataframe tbody tr th {\n",
              "        vertical-align: top;\n",
              "    }\n",
              "\n",
              "    .dataframe thead th {\n",
              "        text-align: right;\n",
              "    }\n",
              "</style>\n",
              "<table border=\"1\" class=\"dataframe\">\n",
              "  <thead>\n",
              "    <tr style=\"text-align: right;\">\n",
              "      <th></th>\n",
              "      <th>Cement</th>\n",
              "      <th>Blast Furnace Slag</th>\n",
              "      <th>Fly Ash</th>\n",
              "      <th>Water</th>\n",
              "      <th>Superplasticizer</th>\n",
              "      <th>Coarse Aggregate</th>\n",
              "      <th>Fine Aggregate</th>\n",
              "      <th>Age</th>\n",
              "    </tr>\n",
              "  </thead>\n",
              "  <tbody>\n",
              "    <tr>\n",
              "      <th>616</th>\n",
              "      <td>-0.039881</td>\n",
              "      <td>-0.856472</td>\n",
              "      <td>-0.846733</td>\n",
              "      <td>0.441726</td>\n",
              "      <td>-1.038638</td>\n",
              "      <td>-0.063263</td>\n",
              "      <td>1.027983</td>\n",
              "      <td>4.976069</td>\n",
              "    </tr>\n",
              "    <tr>\n",
              "      <th>126</th>\n",
              "      <td>1.376300</td>\n",
              "      <td>0.375573</td>\n",
              "      <td>-0.846733</td>\n",
              "      <td>-1.314367</td>\n",
              "      <td>1.723404</td>\n",
              "      <td>-1.553862</td>\n",
              "      <td>1.415879</td>\n",
              "      <td>-0.279597</td>\n",
              "    </tr>\n",
              "    <tr>\n",
              "      <th>217</th>\n",
              "      <td>-0.869496</td>\n",
              "      <td>-0.856472</td>\n",
              "      <td>1.109609</td>\n",
              "      <td>-0.921002</td>\n",
              "      <td>0.618587</td>\n",
              "      <td>1.481353</td>\n",
              "      <td>0.361948</td>\n",
              "      <td>0.163652</td>\n",
              "    </tr>\n",
              "    <tr>\n",
              "      <th>596</th>\n",
              "      <td>-1.060872</td>\n",
              "      <td>0.945814</td>\n",
              "      <td>-0.846733</td>\n",
              "      <td>0.193532</td>\n",
              "      <td>-1.038638</td>\n",
              "      <td>0.690397</td>\n",
              "      <td>-0.614654</td>\n",
              "      <td>-0.612034</td>\n",
              "    </tr>\n",
              "    <tr>\n",
              "      <th>439</th>\n",
              "      <td>-1.027381</td>\n",
              "      <td>0.226058</td>\n",
              "      <td>1.651822</td>\n",
              "      <td>-0.433979</td>\n",
              "      <td>0.585108</td>\n",
              "      <td>0.440892</td>\n",
              "      <td>-0.336516</td>\n",
              "      <td>-0.279597</td>\n",
              "    </tr>\n",
              "  </tbody>\n",
              "</table>\n",
              "</div>"
            ],
            "text/plain": [
              "       Cement  Blast Furnace Slag  ...  Fine Aggregate       Age\n",
              "616 -0.039881           -0.856472  ...        1.027983  4.976069\n",
              "126  1.376300            0.375573  ...        1.415879 -0.279597\n",
              "217 -0.869496           -0.856472  ...        0.361948  0.163652\n",
              "596 -1.060872            0.945814  ...       -0.614654 -0.612034\n",
              "439 -1.027381            0.226058  ...       -0.336516 -0.279597\n",
              "\n",
              "[5 rows x 8 columns]"
            ]
          },
          "metadata": {
            "tags": []
          },
          "execution_count": 9
        }
      ]
    },
    {
      "cell_type": "code",
      "metadata": {
        "id": "_RDQWrKb36oW",
        "colab_type": "code",
        "outputId": "4b11583c-c3b0-4987-d364-09e416d8863f",
        "colab": {
          "base_uri": "https://localhost:8080/",
          "height": 206
        }
      },
      "source": [
        "X_test.head()"
      ],
      "execution_count": 10,
      "outputs": [
        {
          "output_type": "execute_result",
          "data": {
            "text/html": [
              "<div>\n",
              "<style scoped>\n",
              "    .dataframe tbody tr th:only-of-type {\n",
              "        vertical-align: middle;\n",
              "    }\n",
              "\n",
              "    .dataframe tbody tr th {\n",
              "        vertical-align: top;\n",
              "    }\n",
              "\n",
              "    .dataframe thead th {\n",
              "        text-align: right;\n",
              "    }\n",
              "</style>\n",
              "<table border=\"1\" class=\"dataframe\">\n",
              "  <thead>\n",
              "    <tr style=\"text-align: right;\">\n",
              "      <th></th>\n",
              "      <th>Cement</th>\n",
              "      <th>Blast Furnace Slag</th>\n",
              "      <th>Fly Ash</th>\n",
              "      <th>Water</th>\n",
              "      <th>Superplasticizer</th>\n",
              "      <th>Coarse Aggregate</th>\n",
              "      <th>Fine Aggregate</th>\n",
              "      <th>Age</th>\n",
              "    </tr>\n",
              "  </thead>\n",
              "  <tbody>\n",
              "    <tr>\n",
              "      <th>561</th>\n",
              "      <td>1.108374</td>\n",
              "      <td>-0.856472</td>\n",
              "      <td>-0.846733</td>\n",
              "      <td>0.193532</td>\n",
              "      <td>-1.038638</td>\n",
              "      <td>0.870452</td>\n",
              "      <td>-0.489928</td>\n",
              "      <td>-0.279597</td>\n",
              "    </tr>\n",
              "    <tr>\n",
              "      <th>151</th>\n",
              "      <td>1.154304</td>\n",
              "      <td>0.241126</td>\n",
              "      <td>-0.846733</td>\n",
              "      <td>-1.600025</td>\n",
              "      <td>0.869682</td>\n",
              "      <td>-0.335918</td>\n",
              "      <td>0.979340</td>\n",
              "      <td>0.163652</td>\n",
              "    </tr>\n",
              "    <tr>\n",
              "      <th>820</th>\n",
              "      <td>2.333180</td>\n",
              "      <td>-0.856472</td>\n",
              "      <td>-0.846733</td>\n",
              "      <td>0.348068</td>\n",
              "      <td>-1.038638</td>\n",
              "      <td>1.955927</td>\n",
              "      <td>-2.002850</td>\n",
              "      <td>3.551340</td>\n",
              "    </tr>\n",
              "    <tr>\n",
              "      <th>936</th>\n",
              "      <td>-0.423590</td>\n",
              "      <td>0.206355</td>\n",
              "      <td>0.270507</td>\n",
              "      <td>3.059476</td>\n",
              "      <td>-0.034259</td>\n",
              "      <td>-1.543573</td>\n",
              "      <td>-0.975111</td>\n",
              "      <td>-0.279597</td>\n",
              "    </tr>\n",
              "    <tr>\n",
              "      <th>494</th>\n",
              "      <td>1.012686</td>\n",
              "      <td>-0.624667</td>\n",
              "      <td>0.622086</td>\n",
              "      <td>-1.150465</td>\n",
              "      <td>1.355131</td>\n",
              "      <td>-0.449095</td>\n",
              "      <td>0.890784</td>\n",
              "      <td>0.163652</td>\n",
              "    </tr>\n",
              "  </tbody>\n",
              "</table>\n",
              "</div>"
            ],
            "text/plain": [
              "       Cement  Blast Furnace Slag  ...  Fine Aggregate       Age\n",
              "561  1.108374           -0.856472  ...       -0.489928 -0.279597\n",
              "151  1.154304            0.241126  ...        0.979340  0.163652\n",
              "820  2.333180           -0.856472  ...       -2.002850  3.551340\n",
              "936 -0.423590            0.206355  ...       -0.975111 -0.279597\n",
              "494  1.012686           -0.624667  ...        0.890784  0.163652\n",
              "\n",
              "[5 rows x 8 columns]"
            ]
          },
          "metadata": {
            "tags": []
          },
          "execution_count": 10
        }
      ]
    },
    {
      "cell_type": "code",
      "metadata": {
        "button": false,
        "deletable": true,
        "new_sheet": false,
        "run_control": {
          "read_only": false
        },
        "id": "9Hd6eMwcsx91",
        "colab_type": "code",
        "outputId": "11262330-9027-4427-f800-570abeb640fc",
        "colab": {
          "base_uri": "https://localhost:8080/",
          "height": 121
        }
      },
      "source": [
        "y_train.head()\n"
      ],
      "execution_count": 11,
      "outputs": [
        {
          "output_type": "execute_result",
          "data": {
            "text/plain": [
              "616    33.70\n",
              "126    60.29\n",
              "217    38.56\n",
              "596    10.73\n",
              "439    37.81\n",
              "Name: Strength, dtype: float64"
            ]
          },
          "metadata": {
            "tags": []
          },
          "execution_count": 11
        }
      ]
    },
    {
      "cell_type": "code",
      "metadata": {
        "id": "QhXyU5Vj3-uA",
        "colab_type": "code",
        "outputId": "92fce52f-078e-4214-c6b7-73cf126f1e62",
        "colab": {
          "base_uri": "https://localhost:8080/",
          "height": 121
        }
      },
      "source": [
        "y_test.head()"
      ],
      "execution_count": 12,
      "outputs": [
        {
          "output_type": "execute_result",
          "data": {
            "text/plain": [
              "561    33.08\n",
              "151    73.70\n",
              "820    67.11\n",
              "936    28.63\n",
              "494    56.34\n",
              "Name: Strength, dtype: float64"
            ]
          },
          "metadata": {
            "tags": []
          },
          "execution_count": 12
        }
      ]
    },
    {
      "cell_type": "markdown",
      "metadata": {
        "id": "Uy869yjxsx-T",
        "colab_type": "text"
      },
      "source": [
        "Let's save the number of predictors to *n_cols* since we will need this number when building our network."
      ]
    },
    {
      "cell_type": "code",
      "metadata": {
        "button": false,
        "deletable": true,
        "new_sheet": false,
        "run_control": {
          "read_only": false
        },
        "id": "awkB_bZWsx-U",
        "colab_type": "code",
        "colab": {}
      },
      "source": [
        "n_cols = X_train.shape[1] # number of predictors"
      ],
      "execution_count": 0,
      "outputs": []
    },
    {
      "cell_type": "markdown",
      "metadata": {
        "button": false,
        "deletable": true,
        "new_sheet": false,
        "run_control": {
          "read_only": false
        },
        "id": "Nfjw_ustsx-i",
        "colab_type": "text"
      },
      "source": [
        "<a id=\"item1\"></a>"
      ]
    },
    {
      "cell_type": "markdown",
      "metadata": {
        "id": "fhdrqqNwsx-p",
        "colab_type": "text"
      },
      "source": [
        "<a id='item32'></a>"
      ]
    },
    {
      "cell_type": "markdown",
      "metadata": {
        "button": false,
        "deletable": true,
        "new_sheet": false,
        "run_control": {
          "read_only": false
        },
        "id": "to-_uftssx-q",
        "colab_type": "text"
      },
      "source": [
        "## Building Keras Model For Prediction"
      ]
    },
    {
      "cell_type": "markdown",
      "metadata": {
        "button": false,
        "deletable": true,
        "new_sheet": false,
        "run_control": {
          "read_only": false
        },
        "id": "jNzYv9wlsx-t",
        "colab_type": "text"
      },
      "source": [
        "#### Importing the Keras library"
      ]
    },
    {
      "cell_type": "code",
      "metadata": {
        "button": false,
        "deletable": true,
        "new_sheet": false,
        "run_control": {
          "read_only": false
        },
        "id": "01lJ_g3Nsx-v",
        "colab_type": "code",
        "colab": {
          "base_uri": "https://localhost:8080/",
          "height": 34
        },
        "outputId": "f3db38a6-6aef-4140-fe62-462c8c35b67c"
      },
      "source": [
        "import keras"
      ],
      "execution_count": 14,
      "outputs": [
        {
          "output_type": "stream",
          "text": [
            "Using TensorFlow backend.\n"
          ],
          "name": "stderr"
        }
      ]
    },
    {
      "cell_type": "markdown",
      "metadata": {
        "button": false,
        "deletable": true,
        "new_sheet": false,
        "run_control": {
          "read_only": false
        },
        "id": "ANC78N4Zsx-8",
        "colab_type": "text"
      },
      "source": [
        "Importing the Sequential model and Dense layer to create the MLP for training this model. "
      ]
    },
    {
      "cell_type": "code",
      "metadata": {
        "button": false,
        "deletable": true,
        "new_sheet": false,
        "run_control": {
          "read_only": false
        },
        "id": "BigOECSSsx-8",
        "colab_type": "code",
        "colab": {}
      },
      "source": [
        "from keras.models import Sequential\n",
        "from keras.layers import Dense"
      ],
      "execution_count": 0,
      "outputs": []
    },
    {
      "cell_type": "markdown",
      "metadata": {
        "id": "ocXTutmKsx_G",
        "colab_type": "text"
      },
      "source": [
        "<a id='item33'></a>"
      ]
    },
    {
      "cell_type": "markdown",
      "metadata": {
        "button": false,
        "deletable": true,
        "new_sheet": false,
        "run_control": {
          "read_only": false
        },
        "id": "SPh_7-vhsx_K",
        "colab_type": "text"
      },
      "source": [
        "Let's define a function that defines our regression model for us so that we can conveniently call it to create our model."
      ]
    },
    {
      "cell_type": "code",
      "metadata": {
        "button": false,
        "deletable": true,
        "new_sheet": false,
        "run_control": {
          "read_only": false
        },
        "id": "Ff2k4KRPsx_L",
        "colab_type": "code",
        "colab": {}
      },
      "source": [
        "# define regression model\n",
        "def regression_model():\n",
        "    # create model\n",
        "    model = Sequential()\n",
        "    model.add(Dense(10, activation='relu', input_shape=(n_cols,)))\n",
        "    model.add(Dense(1))\n",
        "    \n",
        "    # compile model\n",
        "    model.compile(optimizer='adam', loss='mean_squared_error',metrics=['mean_squared_error'])\n",
        "    return model"
      ],
      "execution_count": 0,
      "outputs": []
    },
    {
      "cell_type": "markdown",
      "metadata": {
        "id": "RDDuSa5Bsx_S",
        "colab_type": "text"
      },
      "source": [
        "The above function create a model that has one hidden layers, each of 10 hidden units."
      ]
    },
    {
      "cell_type": "markdown",
      "metadata": {
        "button": false,
        "deletable": true,
        "new_sheet": false,
        "run_control": {
          "read_only": false
        },
        "id": "PfvNK8ywsx_T",
        "colab_type": "text"
      },
      "source": [
        "<a id=\"item4\"></a>"
      ]
    },
    {
      "cell_type": "markdown",
      "metadata": {
        "id": "S6sxfF_4sx_U",
        "colab_type": "text"
      },
      "source": [
        "<a id='item34'></a>"
      ]
    },
    {
      "cell_type": "markdown",
      "metadata": {
        "button": false,
        "deletable": true,
        "new_sheet": false,
        "run_control": {
          "read_only": false
        },
        "id": "WeR_MXQrsx_V",
        "colab_type": "text"
      },
      "source": [
        "## Train and Test the Network"
      ]
    },
    {
      "cell_type": "markdown",
      "metadata": {
        "id": "5ZZXztkxsx_X",
        "colab_type": "text"
      },
      "source": [
        "Let's call the function now to create our model."
      ]
    },
    {
      "cell_type": "code",
      "metadata": {
        "button": false,
        "deletable": true,
        "new_sheet": false,
        "run_control": {
          "read_only": false
        },
        "id": "IJyvu1C4sx_a",
        "colab_type": "code",
        "colab": {}
      },
      "source": [
        "# build the model\n",
        "model = regression_model()"
      ],
      "execution_count": 0,
      "outputs": []
    },
    {
      "cell_type": "markdown",
      "metadata": {
        "id": "TjOHYgfvsx_g",
        "colab_type": "text"
      },
      "source": [
        "Next, we will train and test the model at the same time using the *fit* method. We will leave out 10% of the data for validation and we will train the model for 50 epochs."
      ]
    },
    {
      "cell_type": "code",
      "metadata": {
        "id": "DncSSYiasx_i",
        "colab_type": "code",
        "outputId": "91a904a0-10f2-4967-d92c-b963c29b5a99",
        "colab": {
          "base_uri": "https://localhost:8080/",
          "height": 1000
        }
      },
      "source": [
        "# fit the model\n",
        "model.fit(X_train, y_train, validation_split=0.1, epochs=50, verbose=2)"
      ],
      "execution_count": 18,
      "outputs": [
        {
          "output_type": "stream",
          "text": [
            "Train on 648 samples, validate on 73 samples\n",
            "Epoch 1/50\n",
            " - 0s - loss: 1558.4847 - mean_squared_error: 1558.4846 - val_loss: 1344.1198 - val_mean_squared_error: 1344.1199\n",
            "Epoch 2/50\n",
            " - 0s - loss: 1546.8112 - mean_squared_error: 1546.8110 - val_loss: 1332.9739 - val_mean_squared_error: 1332.9739\n",
            "Epoch 3/50\n",
            " - 0s - loss: 1535.0224 - mean_squared_error: 1535.0227 - val_loss: 1321.7864 - val_mean_squared_error: 1321.7864\n",
            "Epoch 4/50\n",
            " - 0s - loss: 1522.8697 - mean_squared_error: 1522.8698 - val_loss: 1310.3120 - val_mean_squared_error: 1310.3120\n",
            "Epoch 5/50\n",
            " - 0s - loss: 1510.0904 - mean_squared_error: 1510.0905 - val_loss: 1298.4649 - val_mean_squared_error: 1298.4648\n",
            "Epoch 6/50\n",
            " - 0s - loss: 1496.7598 - mean_squared_error: 1496.7598 - val_loss: 1285.7398 - val_mean_squared_error: 1285.7397\n",
            "Epoch 7/50\n",
            " - 0s - loss: 1482.3041 - mean_squared_error: 1482.3042 - val_loss: 1272.6742 - val_mean_squared_error: 1272.6741\n",
            "Epoch 8/50\n",
            " - 0s - loss: 1467.1779 - mean_squared_error: 1467.1781 - val_loss: 1258.4325 - val_mean_squared_error: 1258.4326\n",
            "Epoch 9/50\n",
            " - 0s - loss: 1451.0821 - mean_squared_error: 1451.0820 - val_loss: 1243.5912 - val_mean_squared_error: 1243.5912\n",
            "Epoch 10/50\n",
            " - 0s - loss: 1433.8944 - mean_squared_error: 1433.8945 - val_loss: 1228.2098 - val_mean_squared_error: 1228.2097\n",
            "Epoch 11/50\n",
            " - 0s - loss: 1415.8780 - mean_squared_error: 1415.8781 - val_loss: 1211.8688 - val_mean_squared_error: 1211.8688\n",
            "Epoch 12/50\n",
            " - 0s - loss: 1396.5813 - mean_squared_error: 1396.5812 - val_loss: 1194.8968 - val_mean_squared_error: 1194.8967\n",
            "Epoch 13/50\n",
            " - 0s - loss: 1376.6034 - mean_squared_error: 1376.6033 - val_loss: 1177.0898 - val_mean_squared_error: 1177.0898\n",
            "Epoch 14/50\n",
            " - 0s - loss: 1355.6574 - mean_squared_error: 1355.6573 - val_loss: 1158.3351 - val_mean_squared_error: 1158.3351\n",
            "Epoch 15/50\n",
            " - 0s - loss: 1333.3485 - mean_squared_error: 1333.3486 - val_loss: 1139.0521 - val_mean_squared_error: 1139.0522\n",
            "Epoch 16/50\n",
            " - 0s - loss: 1310.2080 - mean_squared_error: 1310.2080 - val_loss: 1118.9742 - val_mean_squared_error: 1118.9742\n",
            "Epoch 17/50\n",
            " - 0s - loss: 1285.7709 - mean_squared_error: 1285.7709 - val_loss: 1098.3964 - val_mean_squared_error: 1098.3964\n",
            "Epoch 18/50\n",
            " - 0s - loss: 1261.1024 - mean_squared_error: 1261.1024 - val_loss: 1076.4140 - val_mean_squared_error: 1076.4139\n",
            "Epoch 19/50\n",
            " - 0s - loss: 1235.3490 - mean_squared_error: 1235.3490 - val_loss: 1054.2729 - val_mean_squared_error: 1054.2729\n",
            "Epoch 20/50\n",
            " - 0s - loss: 1208.6687 - mean_squared_error: 1208.6687 - val_loss: 1031.5016 - val_mean_squared_error: 1031.5016\n",
            "Epoch 21/50\n",
            " - 0s - loss: 1181.0929 - mean_squared_error: 1181.0929 - val_loss: 1007.8498 - val_mean_squared_error: 1007.8499\n",
            "Epoch 22/50\n",
            " - 0s - loss: 1152.9967 - mean_squared_error: 1152.9968 - val_loss: 983.3232 - val_mean_squared_error: 983.3232\n",
            "Epoch 23/50\n",
            " - 0s - loss: 1123.6381 - mean_squared_error: 1123.6381 - val_loss: 958.7310 - val_mean_squared_error: 958.7310\n",
            "Epoch 24/50\n",
            " - 0s - loss: 1093.6686 - mean_squared_error: 1093.6685 - val_loss: 933.1937 - val_mean_squared_error: 933.1937\n",
            "Epoch 25/50\n",
            " - 0s - loss: 1063.2743 - mean_squared_error: 1063.2743 - val_loss: 907.1194 - val_mean_squared_error: 907.1194\n",
            "Epoch 26/50\n",
            " - 0s - loss: 1032.1075 - mean_squared_error: 1032.1075 - val_loss: 880.8166 - val_mean_squared_error: 880.8167\n",
            "Epoch 27/50\n",
            " - 0s - loss: 1000.5417 - mean_squared_error: 1000.5417 - val_loss: 854.1564 - val_mean_squared_error: 854.1565\n",
            "Epoch 28/50\n",
            " - 0s - loss: 968.2612 - mean_squared_error: 968.2612 - val_loss: 827.4849 - val_mean_squared_error: 827.4849\n",
            "Epoch 29/50\n",
            " - 0s - loss: 936.4983 - mean_squared_error: 936.4984 - val_loss: 800.1559 - val_mean_squared_error: 800.1559\n",
            "Epoch 30/50\n",
            " - 0s - loss: 903.2861 - mean_squared_error: 903.2859 - val_loss: 773.2965 - val_mean_squared_error: 773.2964\n",
            "Epoch 31/50\n",
            " - 0s - loss: 871.1527 - mean_squared_error: 871.1526 - val_loss: 746.0699 - val_mean_squared_error: 746.0699\n",
            "Epoch 32/50\n",
            " - 0s - loss: 838.7174 - mean_squared_error: 838.7174 - val_loss: 719.0682 - val_mean_squared_error: 719.0682\n",
            "Epoch 33/50\n",
            " - 0s - loss: 807.0848 - mean_squared_error: 807.0848 - val_loss: 691.7795 - val_mean_squared_error: 691.7795\n",
            "Epoch 34/50\n",
            " - 0s - loss: 774.7172 - mean_squared_error: 774.7172 - val_loss: 665.6174 - val_mean_squared_error: 665.6174\n",
            "Epoch 35/50\n",
            " - 0s - loss: 742.7203 - mean_squared_error: 742.7203 - val_loss: 639.5554 - val_mean_squared_error: 639.5554\n",
            "Epoch 36/50\n",
            " - 0s - loss: 711.6683 - mean_squared_error: 711.6682 - val_loss: 613.5087 - val_mean_squared_error: 613.5087\n",
            "Epoch 37/50\n",
            " - 0s - loss: 680.8905 - mean_squared_error: 680.8905 - val_loss: 588.1027 - val_mean_squared_error: 588.1027\n",
            "Epoch 38/50\n",
            " - 0s - loss: 650.4308 - mean_squared_error: 650.4308 - val_loss: 563.5275 - val_mean_squared_error: 563.5275\n",
            "Epoch 39/50\n",
            " - 0s - loss: 620.4969 - mean_squared_error: 620.4968 - val_loss: 538.8724 - val_mean_squared_error: 538.8724\n",
            "Epoch 40/50\n",
            " - 0s - loss: 591.5871 - mean_squared_error: 591.5871 - val_loss: 514.9481 - val_mean_squared_error: 514.9481\n",
            "Epoch 41/50\n",
            " - 0s - loss: 563.3059 - mean_squared_error: 563.3059 - val_loss: 492.3078 - val_mean_squared_error: 492.3078\n",
            "Epoch 42/50\n",
            " - 0s - loss: 535.8705 - mean_squared_error: 535.8705 - val_loss: 470.7317 - val_mean_squared_error: 470.7317\n",
            "Epoch 43/50\n",
            " - 0s - loss: 509.9312 - mean_squared_error: 509.9312 - val_loss: 448.9853 - val_mean_squared_error: 448.9854\n",
            "Epoch 44/50\n",
            " - 0s - loss: 484.0465 - mean_squared_error: 484.0465 - val_loss: 429.1538 - val_mean_squared_error: 429.1538\n",
            "Epoch 45/50\n",
            " - 0s - loss: 460.1649 - mean_squared_error: 460.1648 - val_loss: 410.5669 - val_mean_squared_error: 410.5669\n",
            "Epoch 46/50\n",
            " - 0s - loss: 437.5972 - mean_squared_error: 437.5972 - val_loss: 392.0872 - val_mean_squared_error: 392.0872\n",
            "Epoch 47/50\n",
            " - 0s - loss: 415.9250 - mean_squared_error: 415.9250 - val_loss: 374.9940 - val_mean_squared_error: 374.9940\n",
            "Epoch 48/50\n",
            " - 0s - loss: 394.9654 - mean_squared_error: 394.9654 - val_loss: 359.0544 - val_mean_squared_error: 359.0545\n",
            "Epoch 49/50\n",
            " - 0s - loss: 375.7927 - mean_squared_error: 375.7927 - val_loss: 344.4208 - val_mean_squared_error: 344.4208\n",
            "Epoch 50/50\n",
            " - 0s - loss: 358.0392 - mean_squared_error: 358.0392 - val_loss: 329.9956 - val_mean_squared_error: 329.9956\n"
          ],
          "name": "stdout"
        },
        {
          "output_type": "execute_result",
          "data": {
            "text/plain": [
              "<keras.callbacks.callbacks.History at 0x7fac598a1d68>"
            ]
          },
          "metadata": {
            "tags": []
          },
          "execution_count": 18
        }
      ]
    },
    {
      "cell_type": "code",
      "metadata": {
        "id": "ARaJimOK-WSx",
        "colab_type": "code",
        "outputId": "5be757c6-7599-47e5-c4eb-cc108116f10c",
        "colab": {
          "base_uri": "https://localhost:8080/",
          "height": 243
        }
      },
      "source": [
        "import statistics \n",
        "from sklearn.metrics import mean_squared_error\n",
        "\n",
        "print(model.summary())\n",
        "mse_results=[]\n",
        "for x in range(50):\n",
        "    model.fit(X_train,y_train,epochs=50, verbose=0)\n",
        "    train_results = model.predict( X_test )\n",
        "    mse_results.append( mean_squared_error(y_test, train_results) )\n"
      ],
      "execution_count": 19,
      "outputs": [
        {
          "output_type": "stream",
          "text": [
            "Model: \"sequential_1\"\n",
            "_________________________________________________________________\n",
            "Layer (type)                 Output Shape              Param #   \n",
            "=================================================================\n",
            "dense_1 (Dense)              (None, 10)                90        \n",
            "_________________________________________________________________\n",
            "dense_2 (Dense)              (None, 1)                 11        \n",
            "=================================================================\n",
            "Total params: 101\n",
            "Trainable params: 101\n",
            "Non-trainable params: 0\n",
            "_________________________________________________________________\n",
            "None\n"
          ],
          "name": "stdout"
        }
      ]
    },
    {
      "cell_type": "code",
      "metadata": {
        "id": "-vNwhXxLANyk",
        "colab_type": "code",
        "outputId": "c4478b7f-2ba7-45f3-d610-834916081d39",
        "colab": {
          "base_uri": "https://localhost:8080/",
          "height": 52
        }
      },
      "source": [
        "print(\"Mean of the list of mean square errors is % s\" % (statistics.mean( mse_results ) ))\n",
        "print(\"Standard deviation of the list of mean square errors is % s\" % ( statistics.stdev( mse_results )))\n"
      ],
      "execution_count": 20,
      "outputs": [
        {
          "output_type": "stream",
          "text": [
            "Mean of the list of mean square errors is 54.19661305393201\n",
            "Standard deviation of the list of mean square errors is 22.42585174977053\n"
          ],
          "name": "stdout"
        }
      ]
    },
    {
      "cell_type": "code",
      "metadata": {
        "id": "8oCDPDzINK_e",
        "colab_type": "code",
        "outputId": "06360fbd-69a8-4c3b-f558-be0dfb9ada98",
        "colab": {
          "base_uri": "https://localhost:8080/",
          "height": 885
        }
      },
      "source": [
        "mse_results"
      ],
      "execution_count": 21,
      "outputs": [
        {
          "output_type": "execute_result",
          "data": {
            "text/plain": [
              "[164.55243627875203,\n",
              " 137.86844551453586,\n",
              " 105.79772063330702,\n",
              " 80.69039831534535,\n",
              " 66.20565386829337,\n",
              " 57.218210240186714,\n",
              " 52.79612517136417,\n",
              " 50.545734235163025,\n",
              " 49.979624991251065,\n",
              " 49.73726597614001,\n",
              " 49.3423833731727,\n",
              " 48.84153274172893,\n",
              " 48.7817684820911,\n",
              " 48.31513781838075,\n",
              " 48.51176916650391,\n",
              " 48.657606103224985,\n",
              " 48.56543548987,\n",
              " 48.221598575271216,\n",
              " 47.25082263633774,\n",
              " 47.394563422556224,\n",
              " 47.75721063546165,\n",
              " 47.576782407477964,\n",
              " 47.48385274395181,\n",
              " 47.446536821928504,\n",
              " 47.45045365402771,\n",
              " 47.406788621527454,\n",
              " 47.478678821610316,\n",
              " 47.5851091015949,\n",
              " 47.62197142478482,\n",
              " 47.64598955310007,\n",
              " 47.13798134039112,\n",
              " 47.219086052305514,\n",
              " 47.163751330514664,\n",
              " 47.08569478648077,\n",
              " 47.02174275005428,\n",
              " 47.060137068405545,\n",
              " 46.89273198873461,\n",
              " 46.896609669714096,\n",
              " 46.82593846812859,\n",
              " 46.707396957210406,\n",
              " 46.7486774820857,\n",
              " 46.67962600837957,\n",
              " 46.634792571868324,\n",
              " 46.5199792202626,\n",
              " 46.40965220195314,\n",
              " 46.47091355785436,\n",
              " 46.579531280890855,\n",
              " 46.30321129293278,\n",
              " 46.40367462834705,\n",
              " 46.34191722114535]"
            ]
          },
          "metadata": {
            "tags": []
          },
          "execution_count": 21
        }
      ]
    },
    {
      "cell_type": "markdown",
      "metadata": {
        "id": "11gzbONJOna7",
        "colab_type": "text"
      },
      "source": [
        "#### Using Normalization, The the value of Mean Squared Errors is lower compared to the value of MSE without Normalization in corresponding epochs.(Reached minima faster than Non-Normalized version)\n",
        "Mean dataset decreased by approx. 4 points while the standard deviation decreased by 1 points"
      ]
    },
    {
      "cell_type": "markdown",
      "metadata": {
        "button": false,
        "deletable": true,
        "new_sheet": false,
        "run_control": {
          "read_only": false
        },
        "id": "ogzg4cTJsx_z",
        "colab_type": "text"
      },
      "source": [
        "# Thanks for Reviewing the Project."
      ]
    }
  ]
}