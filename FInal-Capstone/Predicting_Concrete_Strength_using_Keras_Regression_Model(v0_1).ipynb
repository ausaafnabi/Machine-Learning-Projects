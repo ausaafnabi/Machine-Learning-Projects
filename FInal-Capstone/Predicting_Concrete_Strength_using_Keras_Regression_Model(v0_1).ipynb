{
 "cells": [
  {
   "cell_type": "markdown",
   "metadata": {
    "button": false,
    "colab_type": "text",
    "id": "Y07BAwREsx7-",
    "new_sheet": false,
    "run_control": {
     "read_only": false
    }
   },
   "source": [
    "<h1 align=center><font size = 5>Regression Models with Keras to Predict Concrete Strength </font></h1>"
   ]
  },
  {
   "cell_type": "markdown",
   "metadata": {
    "button": false,
    "colab_type": "text",
    "id": "BxMdr1N6sx8C",
    "new_sheet": false,
    "run_control": {
     "read_only": false
    }
   },
   "source": [
    "## Introduction"
   ]
  },
  {
   "cell_type": "markdown",
   "metadata": {
    "button": false,
    "colab_type": "text",
    "id": "yRSZPW1Usx8G",
    "new_sheet": false,
    "run_control": {
     "read_only": false
    }
   },
   "source": [
    "Building a Regression Model Using Keras to predict the strength of the concrete sample.Starting with training it on 50 epochs.We will increase the epochs later to 100. \n",
    "We are using https://cocl.us/concrete_data dataset to train and test our model.\n",
    "Also, Evaluating the accuracy of model using mean_squared error."
   ]
  },
  {
   "cell_type": "markdown",
   "metadata": {
    "button": false,
    "colab_type": "text",
    "id": "oP8scH-Psx8P",
    "new_sheet": false,
    "run_control": {
     "read_only": false
    }
   },
   "source": [
    "## Preprocessing Dataset"
   ]
  },
  {
   "cell_type": "markdown",
   "metadata": {
    "button": false,
    "colab_type": "text",
    "id": "507mgPtisx8R",
    "new_sheet": false,
    "run_control": {
     "read_only": false
    }
   },
   "source": [
    "Importing the <em>pandas</em> and the Numpy libraries and test_train_split function from scikit-learn."
   ]
  },
  {
   "cell_type": "code",
   "execution_count": 0,
   "metadata": {
    "button": false,
    "colab": {},
    "colab_type": "code",
    "id": "ObLziNKGsx8a",
    "new_sheet": false,
    "run_control": {
     "read_only": false
    }
   },
   "outputs": [],
   "source": [
    "import pandas as pd\n",
    "import numpy as np\n",
    "from sklearn.model_selection import train_test_split"
   ]
  },
  {
   "cell_type": "markdown",
   "metadata": {
    "button": false,
    "colab_type": "text",
    "id": "D4-fHVA4sx8n",
    "new_sheet": false,
    "run_control": {
     "read_only": false
    }
   },
   "source": [
    "\n",
    "<strong>The dataset is about the compressive strength of different samples of concrete based on the volumes of the different ingredients that were used to make them. Ingredients include:</strong>\n",
    "\n",
    "<strong>1. Cement</strong>\n",
    "\n",
    "<strong>2. Blast Furnace Slag</strong>\n",
    "\n",
    "<strong>3. Fly Ash</strong>\n",
    "\n",
    "<strong>4. Water</strong>\n",
    "\n",
    "<strong>5. Superplasticizer</strong>\n",
    "\n",
    "<strong>6. Coarse Aggregate</strong>\n",
    "\n",
    "<strong>7. Fine Aggregate</strong>"
   ]
  },
  {
   "cell_type": "markdown",
   "metadata": {
    "button": false,
    "colab_type": "text",
    "id": "jASFNneMsx8p",
    "new_sheet": false,
    "run_control": {
     "read_only": false
    }
   },
   "source": [
    "Let's download the data and read it into a <em>pandas</em> dataframe."
   ]
  },
  {
   "cell_type": "code",
   "execution_count": 2,
   "metadata": {
    "button": false,
    "colab": {
     "base_uri": "https://localhost:8080/",
     "height": 206
    },
    "colab_type": "code",
    "id": "Q0UsarPWsx8s",
    "new_sheet": false,
    "outputId": "00241323-0a5f-405e-f2b9-c995863fc7ed",
    "run_control": {
     "read_only": false
    }
   },
   "outputs": [
    {
     "data": {
      "text/html": [
       "<div>\n",
       "<style scoped>\n",
       "    .dataframe tbody tr th:only-of-type {\n",
       "        vertical-align: middle;\n",
       "    }\n",
       "\n",
       "    .dataframe tbody tr th {\n",
       "        vertical-align: top;\n",
       "    }\n",
       "\n",
       "    .dataframe thead th {\n",
       "        text-align: right;\n",
       "    }\n",
       "</style>\n",
       "<table border=\"1\" class=\"dataframe\">\n",
       "  <thead>\n",
       "    <tr style=\"text-align: right;\">\n",
       "      <th></th>\n",
       "      <th>Cement</th>\n",
       "      <th>Blast Furnace Slag</th>\n",
       "      <th>Fly Ash</th>\n",
       "      <th>Water</th>\n",
       "      <th>Superplasticizer</th>\n",
       "      <th>Coarse Aggregate</th>\n",
       "      <th>Fine Aggregate</th>\n",
       "      <th>Age</th>\n",
       "      <th>Strength</th>\n",
       "    </tr>\n",
       "  </thead>\n",
       "  <tbody>\n",
       "    <tr>\n",
       "      <th>0</th>\n",
       "      <td>540.0</td>\n",
       "      <td>0.0</td>\n",
       "      <td>0.0</td>\n",
       "      <td>162.0</td>\n",
       "      <td>2.5</td>\n",
       "      <td>1040.0</td>\n",
       "      <td>676.0</td>\n",
       "      <td>28</td>\n",
       "      <td>79.99</td>\n",
       "    </tr>\n",
       "    <tr>\n",
       "      <th>1</th>\n",
       "      <td>540.0</td>\n",
       "      <td>0.0</td>\n",
       "      <td>0.0</td>\n",
       "      <td>162.0</td>\n",
       "      <td>2.5</td>\n",
       "      <td>1055.0</td>\n",
       "      <td>676.0</td>\n",
       "      <td>28</td>\n",
       "      <td>61.89</td>\n",
       "    </tr>\n",
       "    <tr>\n",
       "      <th>2</th>\n",
       "      <td>332.5</td>\n",
       "      <td>142.5</td>\n",
       "      <td>0.0</td>\n",
       "      <td>228.0</td>\n",
       "      <td>0.0</td>\n",
       "      <td>932.0</td>\n",
       "      <td>594.0</td>\n",
       "      <td>270</td>\n",
       "      <td>40.27</td>\n",
       "    </tr>\n",
       "    <tr>\n",
       "      <th>3</th>\n",
       "      <td>332.5</td>\n",
       "      <td>142.5</td>\n",
       "      <td>0.0</td>\n",
       "      <td>228.0</td>\n",
       "      <td>0.0</td>\n",
       "      <td>932.0</td>\n",
       "      <td>594.0</td>\n",
       "      <td>365</td>\n",
       "      <td>41.05</td>\n",
       "    </tr>\n",
       "    <tr>\n",
       "      <th>4</th>\n",
       "      <td>198.6</td>\n",
       "      <td>132.4</td>\n",
       "      <td>0.0</td>\n",
       "      <td>192.0</td>\n",
       "      <td>0.0</td>\n",
       "      <td>978.4</td>\n",
       "      <td>825.5</td>\n",
       "      <td>360</td>\n",
       "      <td>44.30</td>\n",
       "    </tr>\n",
       "  </tbody>\n",
       "</table>\n",
       "</div>"
      ],
      "text/plain": [
       "   Cement  Blast Furnace Slag  Fly Ash  ...  Fine Aggregate  Age  Strength\n",
       "0   540.0                 0.0      0.0  ...           676.0   28     79.99\n",
       "1   540.0                 0.0      0.0  ...           676.0   28     61.89\n",
       "2   332.5               142.5      0.0  ...           594.0  270     40.27\n",
       "3   332.5               142.5      0.0  ...           594.0  365     41.05\n",
       "4   198.6               132.4      0.0  ...           825.5  360     44.30\n",
       "\n",
       "[5 rows x 9 columns]"
      ]
     },
     "execution_count": 2,
     "metadata": {
      "tags": []
     },
     "output_type": "execute_result"
    }
   ],
   "source": [
    "data = pd.read_csv('https://cocl.us/concrete_data')\n",
    "data.head()"
   ]
  },
  {
   "cell_type": "markdown",
   "metadata": {
    "button": false,
    "colab_type": "text",
    "id": "UX8ucLYYsx85",
    "new_sheet": false,
    "run_control": {
     "read_only": false
    }
   },
   "source": [
    "#### Finding the shape of the data"
   ]
  },
  {
   "cell_type": "code",
   "execution_count": 3,
   "metadata": {
    "button": false,
    "colab": {
     "base_uri": "https://localhost:8080/",
     "height": 34
    },
    "colab_type": "code",
    "id": "HgnDzvXSsx87",
    "new_sheet": false,
    "outputId": "4ba4e5da-12a8-4d6e-aaba-650956dd04fa",
    "run_control": {
     "read_only": false
    }
   },
   "outputs": [
    {
     "data": {
      "text/plain": [
       "(1030, 9)"
      ]
     },
     "execution_count": 3,
     "metadata": {
      "tags": []
     },
     "output_type": "execute_result"
    }
   ],
   "source": [
    "data.shape"
   ]
  },
  {
   "cell_type": "markdown",
   "metadata": {
    "button": false,
    "colab_type": "text",
    "id": "k9Kz-ZVpsx9E",
    "new_sheet": false,
    "run_control": {
     "read_only": false
    }
   },
   "source": [
    "So, there are 1030 samples to train our model."
   ]
  },
  {
   "cell_type": "markdown",
   "metadata": {
    "button": false,
    "colab_type": "text",
    "id": "5-HuLZUasx9G",
    "new_sheet": false,
    "run_control": {
     "read_only": false
    }
   },
   "source": [
    "Searching for any missing values in the dataset.\n",
    "\n",
    "\n"
   ]
  },
  {
   "cell_type": "code",
   "execution_count": 4,
   "metadata": {
    "button": false,
    "colab": {
     "base_uri": "https://localhost:8080/",
     "height": 300
    },
    "colab_type": "code",
    "id": "jagdTm4Nsx9I",
    "new_sheet": false,
    "outputId": "0e822fe5-8dab-465f-99c8-44db55b29105",
    "run_control": {
     "read_only": false
    }
   },
   "outputs": [
    {
     "data": {
      "text/html": [
       "<div>\n",
       "<style scoped>\n",
       "    .dataframe tbody tr th:only-of-type {\n",
       "        vertical-align: middle;\n",
       "    }\n",
       "\n",
       "    .dataframe tbody tr th {\n",
       "        vertical-align: top;\n",
       "    }\n",
       "\n",
       "    .dataframe thead th {\n",
       "        text-align: right;\n",
       "    }\n",
       "</style>\n",
       "<table border=\"1\" class=\"dataframe\">\n",
       "  <thead>\n",
       "    <tr style=\"text-align: right;\">\n",
       "      <th></th>\n",
       "      <th>Cement</th>\n",
       "      <th>Blast Furnace Slag</th>\n",
       "      <th>Fly Ash</th>\n",
       "      <th>Water</th>\n",
       "      <th>Superplasticizer</th>\n",
       "      <th>Coarse Aggregate</th>\n",
       "      <th>Fine Aggregate</th>\n",
       "      <th>Age</th>\n",
       "      <th>Strength</th>\n",
       "    </tr>\n",
       "  </thead>\n",
       "  <tbody>\n",
       "    <tr>\n",
       "      <th>count</th>\n",
       "      <td>1030.000000</td>\n",
       "      <td>1030.000000</td>\n",
       "      <td>1030.000000</td>\n",
       "      <td>1030.000000</td>\n",
       "      <td>1030.000000</td>\n",
       "      <td>1030.000000</td>\n",
       "      <td>1030.000000</td>\n",
       "      <td>1030.000000</td>\n",
       "      <td>1030.000000</td>\n",
       "    </tr>\n",
       "    <tr>\n",
       "      <th>mean</th>\n",
       "      <td>281.167864</td>\n",
       "      <td>73.895825</td>\n",
       "      <td>54.188350</td>\n",
       "      <td>181.567282</td>\n",
       "      <td>6.204660</td>\n",
       "      <td>972.918932</td>\n",
       "      <td>773.580485</td>\n",
       "      <td>45.662136</td>\n",
       "      <td>35.817961</td>\n",
       "    </tr>\n",
       "    <tr>\n",
       "      <th>std</th>\n",
       "      <td>104.506364</td>\n",
       "      <td>86.279342</td>\n",
       "      <td>63.997004</td>\n",
       "      <td>21.354219</td>\n",
       "      <td>5.973841</td>\n",
       "      <td>77.753954</td>\n",
       "      <td>80.175980</td>\n",
       "      <td>63.169912</td>\n",
       "      <td>16.705742</td>\n",
       "    </tr>\n",
       "    <tr>\n",
       "      <th>min</th>\n",
       "      <td>102.000000</td>\n",
       "      <td>0.000000</td>\n",
       "      <td>0.000000</td>\n",
       "      <td>121.800000</td>\n",
       "      <td>0.000000</td>\n",
       "      <td>801.000000</td>\n",
       "      <td>594.000000</td>\n",
       "      <td>1.000000</td>\n",
       "      <td>2.330000</td>\n",
       "    </tr>\n",
       "    <tr>\n",
       "      <th>25%</th>\n",
       "      <td>192.375000</td>\n",
       "      <td>0.000000</td>\n",
       "      <td>0.000000</td>\n",
       "      <td>164.900000</td>\n",
       "      <td>0.000000</td>\n",
       "      <td>932.000000</td>\n",
       "      <td>730.950000</td>\n",
       "      <td>7.000000</td>\n",
       "      <td>23.710000</td>\n",
       "    </tr>\n",
       "    <tr>\n",
       "      <th>50%</th>\n",
       "      <td>272.900000</td>\n",
       "      <td>22.000000</td>\n",
       "      <td>0.000000</td>\n",
       "      <td>185.000000</td>\n",
       "      <td>6.400000</td>\n",
       "      <td>968.000000</td>\n",
       "      <td>779.500000</td>\n",
       "      <td>28.000000</td>\n",
       "      <td>34.445000</td>\n",
       "    </tr>\n",
       "    <tr>\n",
       "      <th>75%</th>\n",
       "      <td>350.000000</td>\n",
       "      <td>142.950000</td>\n",
       "      <td>118.300000</td>\n",
       "      <td>192.000000</td>\n",
       "      <td>10.200000</td>\n",
       "      <td>1029.400000</td>\n",
       "      <td>824.000000</td>\n",
       "      <td>56.000000</td>\n",
       "      <td>46.135000</td>\n",
       "    </tr>\n",
       "    <tr>\n",
       "      <th>max</th>\n",
       "      <td>540.000000</td>\n",
       "      <td>359.400000</td>\n",
       "      <td>200.100000</td>\n",
       "      <td>247.000000</td>\n",
       "      <td>32.200000</td>\n",
       "      <td>1145.000000</td>\n",
       "      <td>992.600000</td>\n",
       "      <td>365.000000</td>\n",
       "      <td>82.600000</td>\n",
       "    </tr>\n",
       "  </tbody>\n",
       "</table>\n",
       "</div>"
      ],
      "text/plain": [
       "            Cement  Blast Furnace Slag  ...          Age     Strength\n",
       "count  1030.000000         1030.000000  ...  1030.000000  1030.000000\n",
       "mean    281.167864           73.895825  ...    45.662136    35.817961\n",
       "std     104.506364           86.279342  ...    63.169912    16.705742\n",
       "min     102.000000            0.000000  ...     1.000000     2.330000\n",
       "25%     192.375000            0.000000  ...     7.000000    23.710000\n",
       "50%     272.900000           22.000000  ...    28.000000    34.445000\n",
       "75%     350.000000          142.950000  ...    56.000000    46.135000\n",
       "max     540.000000          359.400000  ...   365.000000    82.600000\n",
       "\n",
       "[8 rows x 9 columns]"
      ]
     },
     "execution_count": 4,
     "metadata": {
      "tags": []
     },
     "output_type": "execute_result"
    }
   ],
   "source": [
    "data.describe()"
   ]
  },
  {
   "cell_type": "code",
   "execution_count": 5,
   "metadata": {
    "button": false,
    "colab": {
     "base_uri": "https://localhost:8080/",
     "height": 191
    },
    "colab_type": "code",
    "id": "7JXtFjORsx9S",
    "new_sheet": false,
    "outputId": "4c8940d4-3f6f-424b-b18f-97857c403af6",
    "run_control": {
     "read_only": false
    }
   },
   "outputs": [
    {
     "data": {
      "text/plain": [
       "Cement                0\n",
       "Blast Furnace Slag    0\n",
       "Fly Ash               0\n",
       "Water                 0\n",
       "Superplasticizer      0\n",
       "Coarse Aggregate      0\n",
       "Fine Aggregate        0\n",
       "Age                   0\n",
       "Strength              0\n",
       "dtype: int64"
      ]
     },
     "execution_count": 5,
     "metadata": {
      "tags": []
     },
     "output_type": "execute_result"
    }
   ],
   "source": [
    "data.isnull().sum()"
   ]
  },
  {
   "cell_type": "markdown",
   "metadata": {
    "button": false,
    "colab_type": "text",
    "id": "lxNHiQQpsx9b",
    "new_sheet": false,
    "run_control": {
     "read_only": false
    }
   },
   "source": [
    "Dataset looks super clean. No null value is found in the model. Hence, It is ready to be predicted....After Spiliting the dataset into predictors and target and into training and testing the data ofcourse :)"
   ]
  },
  {
   "cell_type": "markdown",
   "metadata": {
    "button": false,
    "colab_type": "text",
    "id": "dwRjEwgqsx9c",
    "new_sheet": false,
    "run_control": {
     "read_only": false
    }
   },
   "source": [
    "#### Spliting data "
   ]
  },
  {
   "cell_type": "markdown",
   "metadata": {
    "colab_type": "text",
    "id": "tP2DR1mDsx9e"
   },
   "source": [
    "The target variable in this problem is the concrete sample strength. Therefore, our predictors will be all the other columns."
   ]
  },
  {
   "cell_type": "code",
   "execution_count": 0,
   "metadata": {
    "button": false,
    "colab": {},
    "colab_type": "code",
    "id": "xYZcMhCWsx9g",
    "new_sheet": false,
    "run_control": {
     "read_only": false
    }
   },
   "outputs": [],
   "source": [
    "data_columns = data.columns\n",
    "\n",
    "X = data[data_columns[data_columns != 'Strength']] # Predictors: all columns except 'Strength'\n",
    "y = data['Strength'] # Target: 'Strength' column\n"
   ]
  },
  {
   "cell_type": "markdown",
   "metadata": {
    "button": false,
    "colab_type": "text",
    "id": "gByUW99Ssx9q",
    "new_sheet": false,
    "run_control": {
     "read_only": false
    }
   },
   "source": [
    "<a id=\"item2\"></a>"
   ]
  },
  {
   "cell_type": "code",
   "execution_count": 0,
   "metadata": {
    "colab": {},
    "colab_type": "code",
    "id": "SNRsz5EF5th6"
   },
   "outputs": [],
   "source": [
    "# Spliting the dataset into training and testing data.\n",
    "X_train, X_test, y_train,y_test = train_test_split(X,y,test_size=0.3)"
   ]
  },
  {
   "cell_type": "markdown",
   "metadata": {
    "button": false,
    "colab_type": "text",
    "id": "Bs_8ywVKsx9r",
    "new_sheet": false,
    "run_control": {
     "read_only": false
    }
   },
   "source": [
    "Let's do a quick sanity check of the predictors and the target dataframes of training set and testing set."
   ]
  },
  {
   "cell_type": "code",
   "execution_count": 8,
   "metadata": {
    "button": false,
    "colab": {
     "base_uri": "https://localhost:8080/",
     "height": 206
    },
    "colab_type": "code",
    "id": "lHoQqcsVsx9t",
    "new_sheet": false,
    "outputId": "f0545963-79d0-481c-b46a-3c7985a449dd",
    "run_control": {
     "read_only": false
    }
   },
   "outputs": [
    {
     "data": {
      "text/html": [
       "<div>\n",
       "<style scoped>\n",
       "    .dataframe tbody tr th:only-of-type {\n",
       "        vertical-align: middle;\n",
       "    }\n",
       "\n",
       "    .dataframe tbody tr th {\n",
       "        vertical-align: top;\n",
       "    }\n",
       "\n",
       "    .dataframe thead th {\n",
       "        text-align: right;\n",
       "    }\n",
       "</style>\n",
       "<table border=\"1\" class=\"dataframe\">\n",
       "  <thead>\n",
       "    <tr style=\"text-align: right;\">\n",
       "      <th></th>\n",
       "      <th>Cement</th>\n",
       "      <th>Blast Furnace Slag</th>\n",
       "      <th>Fly Ash</th>\n",
       "      <th>Water</th>\n",
       "      <th>Superplasticizer</th>\n",
       "      <th>Coarse Aggregate</th>\n",
       "      <th>Fine Aggregate</th>\n",
       "      <th>Age</th>\n",
       "    </tr>\n",
       "  </thead>\n",
       "  <tbody>\n",
       "    <tr>\n",
       "      <th>260</th>\n",
       "      <td>212.6</td>\n",
       "      <td>0.0</td>\n",
       "      <td>100.4</td>\n",
       "      <td>159.4</td>\n",
       "      <td>10.4</td>\n",
       "      <td>1003.8</td>\n",
       "      <td>903.8</td>\n",
       "      <td>14</td>\n",
       "    </tr>\n",
       "    <tr>\n",
       "      <th>83</th>\n",
       "      <td>362.6</td>\n",
       "      <td>189.0</td>\n",
       "      <td>0.0</td>\n",
       "      <td>164.9</td>\n",
       "      <td>11.6</td>\n",
       "      <td>944.7</td>\n",
       "      <td>755.8</td>\n",
       "      <td>3</td>\n",
       "    </tr>\n",
       "    <tr>\n",
       "      <th>909</th>\n",
       "      <td>146.0</td>\n",
       "      <td>173.0</td>\n",
       "      <td>0.0</td>\n",
       "      <td>182.0</td>\n",
       "      <td>3.0</td>\n",
       "      <td>986.0</td>\n",
       "      <td>817.0</td>\n",
       "      <td>28</td>\n",
       "    </tr>\n",
       "    <tr>\n",
       "      <th>534</th>\n",
       "      <td>393.0</td>\n",
       "      <td>0.0</td>\n",
       "      <td>0.0</td>\n",
       "      <td>192.0</td>\n",
       "      <td>0.0</td>\n",
       "      <td>940.6</td>\n",
       "      <td>785.6</td>\n",
       "      <td>3</td>\n",
       "    </tr>\n",
       "    <tr>\n",
       "      <th>490</th>\n",
       "      <td>387.0</td>\n",
       "      <td>20.0</td>\n",
       "      <td>94.0</td>\n",
       "      <td>157.0</td>\n",
       "      <td>11.6</td>\n",
       "      <td>938.0</td>\n",
       "      <td>845.0</td>\n",
       "      <td>3</td>\n",
       "    </tr>\n",
       "  </tbody>\n",
       "</table>\n",
       "</div>"
      ],
      "text/plain": [
       "     Cement  Blast Furnace Slag  Fly Ash  ...  Coarse Aggregate  Fine Aggregate  Age\n",
       "260   212.6                 0.0    100.4  ...            1003.8           903.8   14\n",
       "83    362.6               189.0      0.0  ...             944.7           755.8    3\n",
       "909   146.0               173.0      0.0  ...             986.0           817.0   28\n",
       "534   393.0                 0.0      0.0  ...             940.6           785.6    3\n",
       "490   387.0                20.0     94.0  ...             938.0           845.0    3\n",
       "\n",
       "[5 rows x 8 columns]"
      ]
     },
     "execution_count": 8,
     "metadata": {
      "tags": []
     },
     "output_type": "execute_result"
    }
   ],
   "source": [
    "X_train.head()\n"
   ]
  },
  {
   "cell_type": "code",
   "execution_count": 9,
   "metadata": {
    "colab": {
     "base_uri": "https://localhost:8080/",
     "height": 206
    },
    "colab_type": "code",
    "id": "_RDQWrKb36oW",
    "outputId": "1cf54452-7c32-4630-9854-cc15b1e95585"
   },
   "outputs": [
    {
     "data": {
      "text/html": [
       "<div>\n",
       "<style scoped>\n",
       "    .dataframe tbody tr th:only-of-type {\n",
       "        vertical-align: middle;\n",
       "    }\n",
       "\n",
       "    .dataframe tbody tr th {\n",
       "        vertical-align: top;\n",
       "    }\n",
       "\n",
       "    .dataframe thead th {\n",
       "        text-align: right;\n",
       "    }\n",
       "</style>\n",
       "<table border=\"1\" class=\"dataframe\">\n",
       "  <thead>\n",
       "    <tr style=\"text-align: right;\">\n",
       "      <th></th>\n",
       "      <th>Cement</th>\n",
       "      <th>Blast Furnace Slag</th>\n",
       "      <th>Fly Ash</th>\n",
       "      <th>Water</th>\n",
       "      <th>Superplasticizer</th>\n",
       "      <th>Coarse Aggregate</th>\n",
       "      <th>Fine Aggregate</th>\n",
       "      <th>Age</th>\n",
       "    </tr>\n",
       "  </thead>\n",
       "  <tbody>\n",
       "    <tr>\n",
       "      <th>477</th>\n",
       "      <td>446.0</td>\n",
       "      <td>24.0</td>\n",
       "      <td>79.0</td>\n",
       "      <td>162.0</td>\n",
       "      <td>11.6</td>\n",
       "      <td>967.0</td>\n",
       "      <td>712.0</td>\n",
       "      <td>3</td>\n",
       "    </tr>\n",
       "    <tr>\n",
       "      <th>210</th>\n",
       "      <td>230.0</td>\n",
       "      <td>0.0</td>\n",
       "      <td>118.3</td>\n",
       "      <td>195.5</td>\n",
       "      <td>4.6</td>\n",
       "      <td>1029.4</td>\n",
       "      <td>758.6</td>\n",
       "      <td>14</td>\n",
       "    </tr>\n",
       "    <tr>\n",
       "      <th>513</th>\n",
       "      <td>424.0</td>\n",
       "      <td>22.0</td>\n",
       "      <td>132.0</td>\n",
       "      <td>168.0</td>\n",
       "      <td>8.9</td>\n",
       "      <td>822.0</td>\n",
       "      <td>750.0</td>\n",
       "      <td>7</td>\n",
       "    </tr>\n",
       "    <tr>\n",
       "      <th>831</th>\n",
       "      <td>154.0</td>\n",
       "      <td>144.0</td>\n",
       "      <td>112.0</td>\n",
       "      <td>220.0</td>\n",
       "      <td>10.0</td>\n",
       "      <td>923.0</td>\n",
       "      <td>658.0</td>\n",
       "      <td>28</td>\n",
       "    </tr>\n",
       "    <tr>\n",
       "      <th>457</th>\n",
       "      <td>251.4</td>\n",
       "      <td>0.0</td>\n",
       "      <td>118.3</td>\n",
       "      <td>192.9</td>\n",
       "      <td>5.8</td>\n",
       "      <td>1043.6</td>\n",
       "      <td>754.3</td>\n",
       "      <td>56</td>\n",
       "    </tr>\n",
       "  </tbody>\n",
       "</table>\n",
       "</div>"
      ],
      "text/plain": [
       "     Cement  Blast Furnace Slag  Fly Ash  ...  Coarse Aggregate  Fine Aggregate  Age\n",
       "477   446.0                24.0     79.0  ...             967.0           712.0    3\n",
       "210   230.0                 0.0    118.3  ...            1029.4           758.6   14\n",
       "513   424.0                22.0    132.0  ...             822.0           750.0    7\n",
       "831   154.0               144.0    112.0  ...             923.0           658.0   28\n",
       "457   251.4                 0.0    118.3  ...            1043.6           754.3   56\n",
       "\n",
       "[5 rows x 8 columns]"
      ]
     },
     "execution_count": 9,
     "metadata": {
      "tags": []
     },
     "output_type": "execute_result"
    }
   ],
   "source": [
    "X_test.head()"
   ]
  },
  {
   "cell_type": "code",
   "execution_count": 10,
   "metadata": {
    "button": false,
    "colab": {
     "base_uri": "https://localhost:8080/",
     "height": 121
    },
    "colab_type": "code",
    "id": "9Hd6eMwcsx91",
    "new_sheet": false,
    "outputId": "2db2b254-dc1e-4b07-9b93-ea3f465a0feb",
    "run_control": {
     "read_only": false
    }
   },
   "outputs": [
    {
     "data": {
      "text/plain": [
       "260    25.37\n",
       "83     35.30\n",
       "909    23.74\n",
       "534    19.20\n",
       "490    34.77\n",
       "Name: Strength, dtype: float64"
      ]
     },
     "execution_count": 10,
     "metadata": {
      "tags": []
     },
     "output_type": "execute_result"
    }
   ],
   "source": [
    "y_train.head()\n"
   ]
  },
  {
   "cell_type": "code",
   "execution_count": 11,
   "metadata": {
    "colab": {
     "base_uri": "https://localhost:8080/",
     "height": 121
    },
    "colab_type": "code",
    "id": "QhXyU5Vj3-uA",
    "outputId": "44331416-4b3c-4483-8e5a-8480d4222a26"
   },
   "outputs": [
    {
     "data": {
      "text/plain": [
       "477    23.35\n",
       "210    20.08\n",
       "513    40.29\n",
       "831    16.50\n",
       "457    39.27\n",
       "Name: Strength, dtype: float64"
      ]
     },
     "execution_count": 11,
     "metadata": {
      "tags": []
     },
     "output_type": "execute_result"
    }
   ],
   "source": [
    "y_test.head()"
   ]
  },
  {
   "cell_type": "markdown",
   "metadata": {
    "colab_type": "text",
    "id": "Uy869yjxsx-T"
   },
   "source": [
    "Let's save the number of predictors to *n_cols* since we will need this number when building our network."
   ]
  },
  {
   "cell_type": "code",
   "execution_count": 0,
   "metadata": {
    "button": false,
    "colab": {},
    "colab_type": "code",
    "id": "awkB_bZWsx-U",
    "new_sheet": false,
    "run_control": {
     "read_only": false
    }
   },
   "outputs": [],
   "source": [
    "n_cols = X_train.shape[1] # number of predictors"
   ]
  },
  {
   "cell_type": "markdown",
   "metadata": {
    "button": false,
    "colab_type": "text",
    "id": "Nfjw_ustsx-i",
    "new_sheet": false,
    "run_control": {
     "read_only": false
    }
   },
   "source": [
    "<a id=\"item1\"></a>"
   ]
  },
  {
   "cell_type": "markdown",
   "metadata": {
    "colab_type": "text",
    "id": "fhdrqqNwsx-p"
   },
   "source": [
    "<a id='item32'></a>"
   ]
  },
  {
   "cell_type": "markdown",
   "metadata": {
    "button": false,
    "colab_type": "text",
    "id": "to-_uftssx-q",
    "new_sheet": false,
    "run_control": {
     "read_only": false
    }
   },
   "source": [
    "## Building Keras Model For Prediction"
   ]
  },
  {
   "cell_type": "markdown",
   "metadata": {
    "button": false,
    "colab_type": "text",
    "id": "jNzYv9wlsx-t",
    "new_sheet": false,
    "run_control": {
     "read_only": false
    }
   },
   "source": [
    "#### Importing the Keras library"
   ]
  },
  {
   "cell_type": "code",
   "execution_count": 13,
   "metadata": {
    "button": false,
    "colab": {
     "base_uri": "https://localhost:8080/",
     "height": 34
    },
    "colab_type": "code",
    "id": "01lJ_g3Nsx-v",
    "new_sheet": false,
    "outputId": "8e24f3ec-0743-4fda-a857-749101fdc7c2",
    "run_control": {
     "read_only": false
    }
   },
   "outputs": [
    {
     "name": "stderr",
     "output_type": "stream",
     "text": [
      "Using TensorFlow backend.\n"
     ]
    }
   ],
   "source": [
    "import keras"
   ]
  },
  {
   "cell_type": "markdown",
   "metadata": {
    "button": false,
    "colab_type": "text",
    "id": "ANC78N4Zsx-8",
    "new_sheet": false,
    "run_control": {
     "read_only": false
    }
   },
   "source": [
    "Importing the Sequential model and Dense layer to create the MLP for training this model. "
   ]
  },
  {
   "cell_type": "code",
   "execution_count": 0,
   "metadata": {
    "button": false,
    "colab": {},
    "colab_type": "code",
    "id": "BigOECSSsx-8",
    "new_sheet": false,
    "run_control": {
     "read_only": false
    }
   },
   "outputs": [],
   "source": [
    "from keras.models import Sequential\n",
    "from keras.layers import Dense"
   ]
  },
  {
   "cell_type": "markdown",
   "metadata": {
    "colab_type": "text",
    "id": "ocXTutmKsx_G"
   },
   "source": [
    "<a id='item33'></a>"
   ]
  },
  {
   "cell_type": "markdown",
   "metadata": {
    "button": false,
    "colab_type": "text",
    "id": "SPh_7-vhsx_K",
    "new_sheet": false,
    "run_control": {
     "read_only": false
    }
   },
   "source": [
    "Let's define a function that defines our regression model for us so that we can conveniently call it to create our model."
   ]
  },
  {
   "cell_type": "code",
   "execution_count": 0,
   "metadata": {
    "button": false,
    "colab": {},
    "colab_type": "code",
    "id": "Ff2k4KRPsx_L",
    "new_sheet": false,
    "run_control": {
     "read_only": false
    }
   },
   "outputs": [],
   "source": [
    "# define regression model\n",
    "def regression_model():\n",
    "    # create model\n",
    "    model = Sequential()\n",
    "    model.add(Dense(10, activation='relu', input_shape=(n_cols,)))\n",
    "    model.add(Dense(1))\n",
    "    \n",
    "    # compile model\n",
    "    model.compile(optimizer='adam', loss='mean_squared_error',metrics=['mean_squared_error'])\n",
    "    return model"
   ]
  },
  {
   "cell_type": "markdown",
   "metadata": {
    "colab_type": "text",
    "id": "RDDuSa5Bsx_S"
   },
   "source": [
    "The above function create a model that has one hidden layers, each of 10 hidden units."
   ]
  },
  {
   "cell_type": "markdown",
   "metadata": {
    "button": false,
    "colab_type": "text",
    "id": "PfvNK8ywsx_T",
    "new_sheet": false,
    "run_control": {
     "read_only": false
    }
   },
   "source": [
    "<a id=\"item4\"></a>"
   ]
  },
  {
   "cell_type": "markdown",
   "metadata": {
    "colab_type": "text",
    "id": "S6sxfF_4sx_U"
   },
   "source": [
    "<a id='item34'></a>"
   ]
  },
  {
   "cell_type": "markdown",
   "metadata": {
    "button": false,
    "colab_type": "text",
    "id": "WeR_MXQrsx_V",
    "new_sheet": false,
    "run_control": {
     "read_only": false
    }
   },
   "source": [
    "## Train and Test the Network"
   ]
  },
  {
   "cell_type": "markdown",
   "metadata": {
    "colab_type": "text",
    "id": "5ZZXztkxsx_X"
   },
   "source": [
    "Let's call the function now to create our model."
   ]
  },
  {
   "cell_type": "code",
   "execution_count": 0,
   "metadata": {
    "button": false,
    "colab": {},
    "colab_type": "code",
    "id": "IJyvu1C4sx_a",
    "new_sheet": false,
    "run_control": {
     "read_only": false
    }
   },
   "outputs": [],
   "source": [
    "# build the model\n",
    "model = regression_model()"
   ]
  },
  {
   "cell_type": "markdown",
   "metadata": {
    "colab_type": "text",
    "id": "TjOHYgfvsx_g"
   },
   "source": [
    "Next, we will train and test the model at the same time using the *fit* method. We will leave out 10% of the data for validation and we will train the model for 50 epochs."
   ]
  },
  {
   "cell_type": "code",
   "execution_count": 17,
   "metadata": {
    "colab": {
     "base_uri": "https://localhost:8080/",
     "height": 1000
    },
    "colab_type": "code",
    "id": "DncSSYiasx_i",
    "outputId": "e975570f-edcc-4cf6-d09e-6bc1e6d069f1"
   },
   "outputs": [
    {
     "name": "stdout",
     "output_type": "stream",
     "text": [
      "Train on 648 samples, validate on 73 samples\n",
      "Epoch 1/50\n",
      " - 0s - loss: 748695.6358 - mean_squared_error: 748695.5625 - val_loss: 626644.4923 - val_mean_squared_error: 626644.5000\n",
      "Epoch 2/50\n",
      " - 0s - loss: 535679.8376 - mean_squared_error: 535679.8750 - val_loss: 438332.3048 - val_mean_squared_error: 438332.3125\n",
      "Epoch 3/50\n",
      " - 0s - loss: 361926.2901 - mean_squared_error: 361926.2812 - val_loss: 280495.7440 - val_mean_squared_error: 280495.7500\n",
      "Epoch 4/50\n",
      " - 0s - loss: 214782.7542 - mean_squared_error: 214782.7344 - val_loss: 150644.3793 - val_mean_squared_error: 150644.3750\n",
      "Epoch 5/50\n",
      " - 0s - loss: 103910.1323 - mean_squared_error: 103910.1250 - val_loss: 61258.4265 - val_mean_squared_error: 61258.4258\n",
      "Epoch 6/50\n",
      " - 0s - loss: 36540.5595 - mean_squared_error: 36540.5547 - val_loss: 17279.3753 - val_mean_squared_error: 17279.3750\n",
      "Epoch 7/50\n",
      " - 0s - loss: 10419.3080 - mean_squared_error: 10419.3076 - val_loss: 5795.7761 - val_mean_squared_error: 5795.7759\n",
      "Epoch 8/50\n",
      " - 0s - loss: 5335.3998 - mean_squared_error: 5335.3994 - val_loss: 4497.7495 - val_mean_squared_error: 4497.7495\n",
      "Epoch 9/50\n",
      " - 0s - loss: 4644.0391 - mean_squared_error: 4644.0396 - val_loss: 4056.2141 - val_mean_squared_error: 4056.2141\n",
      "Epoch 10/50\n",
      " - 0s - loss: 4202.5558 - mean_squared_error: 4202.5557 - val_loss: 3660.8085 - val_mean_squared_error: 3660.8086\n",
      "Epoch 11/50\n",
      " - 0s - loss: 3804.8978 - mean_squared_error: 3804.8977 - val_loss: 3282.2939 - val_mean_squared_error: 3282.2942\n",
      "Epoch 12/50\n",
      " - 0s - loss: 3420.3727 - mean_squared_error: 3420.3728 - val_loss: 2942.1307 - val_mean_squared_error: 2942.1309\n",
      "Epoch 13/50\n",
      " - 0s - loss: 3077.4190 - mean_squared_error: 3077.4187 - val_loss: 2636.9714 - val_mean_squared_error: 2636.9714\n",
      "Epoch 14/50\n",
      " - 0s - loss: 2755.9919 - mean_squared_error: 2755.9915 - val_loss: 2364.6882 - val_mean_squared_error: 2364.6882\n",
      "Epoch 15/50\n",
      " - 0s - loss: 2463.5850 - mean_squared_error: 2463.5845 - val_loss: 2116.4776 - val_mean_squared_error: 2116.4775\n",
      "Epoch 16/50\n",
      " - 0s - loss: 2197.6538 - mean_squared_error: 2197.6541 - val_loss: 1890.3626 - val_mean_squared_error: 1890.3625\n",
      "Epoch 17/50\n",
      " - 0s - loss: 1961.3454 - mean_squared_error: 1961.3453 - val_loss: 1700.2143 - val_mean_squared_error: 1700.2142\n",
      "Epoch 18/50\n",
      " - 0s - loss: 1749.0720 - mean_squared_error: 1749.0719 - val_loss: 1521.5933 - val_mean_squared_error: 1521.5933\n",
      "Epoch 19/50\n",
      " - 0s - loss: 1558.5648 - mean_squared_error: 1558.5646 - val_loss: 1358.5441 - val_mean_squared_error: 1358.5441\n",
      "Epoch 20/50\n",
      " - 0s - loss: 1391.5548 - mean_squared_error: 1391.5547 - val_loss: 1222.4094 - val_mean_squared_error: 1222.4093\n",
      "Epoch 21/50\n",
      " - 0s - loss: 1243.1977 - mean_squared_error: 1243.1978 - val_loss: 1104.3602 - val_mean_squared_error: 1104.3601\n",
      "Epoch 22/50\n",
      " - 0s - loss: 1116.1290 - mean_squared_error: 1116.1289 - val_loss: 1003.1639 - val_mean_squared_error: 1003.1638\n",
      "Epoch 23/50\n",
      " - 0s - loss: 1001.7208 - mean_squared_error: 1001.7208 - val_loss: 918.6553 - val_mean_squared_error: 918.6553\n",
      "Epoch 24/50\n",
      " - 0s - loss: 905.7071 - mean_squared_error: 905.7071 - val_loss: 840.0426 - val_mean_squared_error: 840.0427\n",
      "Epoch 25/50\n",
      " - 0s - loss: 816.2284 - mean_squared_error: 816.2284 - val_loss: 770.3707 - val_mean_squared_error: 770.3707\n",
      "Epoch 26/50\n",
      " - 0s - loss: 741.3970 - mean_squared_error: 741.3970 - val_loss: 713.5028 - val_mean_squared_error: 713.5027\n",
      "Epoch 27/50\n",
      " - 0s - loss: 679.7624 - mean_squared_error: 679.7625 - val_loss: 669.3377 - val_mean_squared_error: 669.3376\n",
      "Epoch 28/50\n",
      " - 0s - loss: 626.3504 - mean_squared_error: 626.3505 - val_loss: 625.9538 - val_mean_squared_error: 625.9538\n",
      "Epoch 29/50\n",
      " - 0s - loss: 582.4132 - mean_squared_error: 582.4132 - val_loss: 591.6325 - val_mean_squared_error: 591.6326\n",
      "Epoch 30/50\n",
      " - 0s - loss: 544.6688 - mean_squared_error: 544.6688 - val_loss: 561.9823 - val_mean_squared_error: 561.9823\n",
      "Epoch 31/50\n",
      " - 0s - loss: 512.6381 - mean_squared_error: 512.6382 - val_loss: 536.3341 - val_mean_squared_error: 536.3340\n",
      "Epoch 32/50\n",
      " - 0s - loss: 484.9922 - mean_squared_error: 484.9921 - val_loss: 514.8190 - val_mean_squared_error: 514.8190\n",
      "Epoch 33/50\n",
      " - 0s - loss: 459.2667 - mean_squared_error: 459.2667 - val_loss: 493.0865 - val_mean_squared_error: 493.0865\n",
      "Epoch 34/50\n",
      " - 0s - loss: 436.7086 - mean_squared_error: 436.7087 - val_loss: 474.7547 - val_mean_squared_error: 474.7547\n",
      "Epoch 35/50\n",
      " - 0s - loss: 418.5469 - mean_squared_error: 418.5469 - val_loss: 459.7855 - val_mean_squared_error: 459.7855\n",
      "Epoch 36/50\n",
      " - 0s - loss: 401.8506 - mean_squared_error: 401.8506 - val_loss: 447.0382 - val_mean_squared_error: 447.0382\n",
      "Epoch 37/50\n",
      " - 0s - loss: 387.7736 - mean_squared_error: 387.7736 - val_loss: 433.2727 - val_mean_squared_error: 433.2727\n",
      "Epoch 38/50\n",
      " - 0s - loss: 375.3276 - mean_squared_error: 375.3276 - val_loss: 421.3129 - val_mean_squared_error: 421.3129\n",
      "Epoch 39/50\n",
      " - 0s - loss: 362.5906 - mean_squared_error: 362.5906 - val_loss: 410.0890 - val_mean_squared_error: 410.0891\n",
      "Epoch 40/50\n",
      " - 0s - loss: 351.9714 - mean_squared_error: 351.9715 - val_loss: 400.0326 - val_mean_squared_error: 400.0326\n",
      "Epoch 41/50\n",
      " - 0s - loss: 340.9147 - mean_squared_error: 340.9147 - val_loss: 389.6832 - val_mean_squared_error: 389.6832\n",
      "Epoch 42/50\n",
      " - 0s - loss: 330.7011 - mean_squared_error: 330.7011 - val_loss: 380.0980 - val_mean_squared_error: 380.0980\n",
      "Epoch 43/50\n",
      " - 0s - loss: 321.5316 - mean_squared_error: 321.5316 - val_loss: 371.4176 - val_mean_squared_error: 371.4175\n",
      "Epoch 44/50\n",
      " - 0s - loss: 312.9538 - mean_squared_error: 312.9538 - val_loss: 362.8847 - val_mean_squared_error: 362.8848\n",
      "Epoch 45/50\n",
      " - 0s - loss: 305.0060 - mean_squared_error: 305.0060 - val_loss: 354.2135 - val_mean_squared_error: 354.2135\n",
      "Epoch 46/50\n",
      " - 0s - loss: 297.4968 - mean_squared_error: 297.4968 - val_loss: 346.3441 - val_mean_squared_error: 346.3441\n",
      "Epoch 47/50\n",
      " - 0s - loss: 290.6577 - mean_squared_error: 290.6577 - val_loss: 339.3632 - val_mean_squared_error: 339.3632\n",
      "Epoch 48/50\n",
      " - 0s - loss: 283.1975 - mean_squared_error: 283.1975 - val_loss: 332.0208 - val_mean_squared_error: 332.0208\n",
      "Epoch 49/50\n",
      " - 0s - loss: 276.6985 - mean_squared_error: 276.6985 - val_loss: 325.5115 - val_mean_squared_error: 325.5115\n",
      "Epoch 50/50\n",
      " - 0s - loss: 270.3599 - mean_squared_error: 270.3599 - val_loss: 319.2833 - val_mean_squared_error: 319.2833\n"
     ]
    },
    {
     "data": {
      "text/plain": [
       "<keras.callbacks.callbacks.History at 0x7f92745bf8d0>"
      ]
     },
     "execution_count": 17,
     "metadata": {
      "tags": []
     },
     "output_type": "execute_result"
    }
   ],
   "source": [
    "# fit the model\n",
    "model.fit(X_train, y_train, validation_split=0.1, epochs=50, verbose=2)"
   ]
  },
  {
   "cell_type": "code",
   "execution_count": 18,
   "metadata": {
    "colab": {
     "base_uri": "https://localhost:8080/",
     "height": 243
    },
    "colab_type": "code",
    "id": "ARaJimOK-WSx",
    "outputId": "6d375331-3fc4-4f51-e5b7-e99d247884c8"
   },
   "outputs": [
    {
     "name": "stdout",
     "output_type": "stream",
     "text": [
      "Model: \"sequential_1\"\n",
      "_________________________________________________________________\n",
      "Layer (type)                 Output Shape              Param #   \n",
      "=================================================================\n",
      "dense_1 (Dense)              (None, 10)                90        \n",
      "_________________________________________________________________\n",
      "dense_2 (Dense)              (None, 1)                 11        \n",
      "=================================================================\n",
      "Total params: 101\n",
      "Trainable params: 101\n",
      "Non-trainable params: 0\n",
      "_________________________________________________________________\n",
      "None\n"
     ]
    }
   ],
   "source": [
    "import statistics \n",
    "from sklearn.metrics import mean_squared_error\n",
    "\n",
    "print(model.summary())\n",
    "mse_results=[]\n",
    "for x in range(50):\n",
    "    model.fit(X_train,y_train,epochs=50, verbose=0)\n",
    "    train_results = model.predict( X_test )\n",
    "    mse_results.append( mean_squared_error(y_test, train_results) )\n"
   ]
  },
  {
   "cell_type": "code",
   "execution_count": 19,
   "metadata": {
    "colab": {
     "base_uri": "https://localhost:8080/",
     "height": 52
    },
    "colab_type": "code",
    "id": "-vNwhXxLANyk",
    "outputId": "16fd12c8-7fbb-4622-9de5-439911dc2606"
   },
   "outputs": [
    {
     "name": "stdout",
     "output_type": "stream",
     "text": [
      "Mean of the list of mean square errors is 58.45680421702066\n",
      "Standard deviation of the list of mean square errors is 23.748629803496954\n"
     ]
    }
   ],
   "source": [
    "print(\"Mean of the list of mean square errors is % s\" % (statistics.mean( mse_results ) ))\n",
    "print(\"Standard deviation of the list of mean square errors is % s\" % ( statistics.stdev( mse_results )))\n"
   ]
  },
  {
   "cell_type": "code",
   "execution_count": 20,
   "metadata": {
    "colab": {
     "base_uri": "https://localhost:8080/",
     "height": 885
    },
    "colab_type": "code",
    "id": "8oCDPDzINK_e",
    "outputId": "933c89cb-f055-43d5-c287-0143f3e09a64"
   },
   "outputs": [
    {
     "data": {
      "text/plain": [
       "[139.6727210916912,\n",
       " 117.56598575384467,\n",
       " 108.97119341989183,\n",
       " 105.55911263681432,\n",
       " 111.38562402687256,\n",
       " 103.8560192200769,\n",
       " 101.461786940363,\n",
       " 85.52588200461496,\n",
       " 61.48434906963855,\n",
       " 59.074719039081415,\n",
       " 73.29097601709664,\n",
       " 54.94494182869279,\n",
       " 51.04045537767606,\n",
       " 49.83619128435677,\n",
       " 49.79017483789452,\n",
       " 49.23035396760285,\n",
       " 50.15574992467089,\n",
       " 47.289455086332936,\n",
       " 49.69610079567766,\n",
       " 57.720837306834355,\n",
       " 45.813813613433474,\n",
       " 47.30990430276002,\n",
       " 45.72322232309048,\n",
       " 46.578246425785096,\n",
       " 45.64815854496747,\n",
       " 45.597314145273934,\n",
       " 45.38177170050724,\n",
       " 47.591464187397385,\n",
       " 45.4064773701017,\n",
       " 45.26048290807247,\n",
       " 52.56980508939106,\n",
       " 48.03699869861012,\n",
       " 48.46304285481455,\n",
       " 47.4904693166964,\n",
       " 44.292609427718254,\n",
       " 45.68484828907662,\n",
       " 44.81797193923187,\n",
       " 45.70341335396679,\n",
       " 46.77445646469428,\n",
       " 44.54949286464819,\n",
       " 44.35973569987803,\n",
       " 46.13968125477412,\n",
       " 45.6870024556592,\n",
       " 57.90292827461673,\n",
       " 45.26763994232453,\n",
       " 50.96869212902154,\n",
       " 44.271158100630544,\n",
       " 44.08247226619603,\n",
       " 44.42249180833807,\n",
       " 43.49181546963211]"
      ]
     },
     "execution_count": 20,
     "metadata": {
      "tags": []
     },
     "output_type": "execute_result"
    }
   ],
   "source": [
    "mse_results"
   ]
  },
  {
   "cell_type": "markdown",
   "metadata": {
    "button": false,
    "colab_type": "text",
    "id": "ogzg4cTJsx_z",
    "new_sheet": false,
    "run_control": {
     "read_only": false
    }
   },
   "source": [
    "# Thanks for Reviewing the Project."
   ]
  }
 ],
 "metadata": {
  "colab": {
   "name": "Predicting_Concrete_Strength_using_Keras_Regression_Model(v0.1).ipynb",
   "provenance": []
  },
  "kernelspec": {
   "display_name": "Python 3",
   "language": "python",
   "name": "python3"
  },
  "language_info": {
   "codemirror_mode": {
    "name": "ipython",
    "version": 3
   },
   "file_extension": ".py",
   "mimetype": "text/x-python",
   "name": "python",
   "nbconvert_exporter": "python",
   "pygments_lexer": "ipython3",
   "version": "3.6.7"
  }
 },
 "nbformat": 4,
 "nbformat_minor": 1
}
