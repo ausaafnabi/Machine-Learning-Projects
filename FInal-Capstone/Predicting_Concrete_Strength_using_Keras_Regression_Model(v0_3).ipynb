{
  "nbformat": 4,
  "nbformat_minor": 0,
  "metadata": {
    "kernelspec": {
      "display_name": "Python",
      "language": "python",
      "name": "conda-env-python-py"
    },
    "language_info": {
      "codemirror_mode": {
        "name": "ipython",
        "version": 3
      },
      "file_extension": ".py",
      "mimetype": "text/x-python",
      "name": "python",
      "nbconvert_exporter": "python",
      "pygments_lexer": "ipython3",
      "version": "3.6.7"
    },
    "colab": {
      "name": "Predicting_Concrete_Strength_using_Keras_Regression_Model(v0_3).ipynb",
      "provenance": [],
      "collapsed_sections": []
    }
  },
  "cells": [
    {
      "cell_type": "markdown",
      "metadata": {
        "button": false,
        "deletable": true,
        "new_sheet": false,
        "run_control": {
          "read_only": false
        },
        "id": "Y07BAwREsx7-",
        "colab_type": "text"
      },
      "source": [
        "<h1 align=center><font size = 5>Regression Models with Keras to Predict Concrete Strength v0.3</font></h1>"
      ]
    },
    {
      "cell_type": "markdown",
      "metadata": {
        "button": false,
        "deletable": true,
        "new_sheet": false,
        "run_control": {
          "read_only": false
        },
        "id": "BxMdr1N6sx8C",
        "colab_type": "text"
      },
      "source": [
        "## Introduction"
      ]
    },
    {
      "cell_type": "markdown",
      "metadata": {
        "button": false,
        "deletable": true,
        "new_sheet": false,
        "run_control": {
          "read_only": false
        },
        "id": "yRSZPW1Usx8G",
        "colab_type": "text"
      },
      "source": [
        "Building a Regression Model Using Keras to predict the strength of the concrete sample.Starting with training it on 50 epochs.We will increase the epochs later to 100. \n",
        "We are using https://cocl.us/concrete_data dataset to train and test our model.\n",
        "Also, Evaluating the accuracy of model using mean_squared error."
      ]
    },
    {
      "cell_type": "markdown",
      "metadata": {
        "button": false,
        "deletable": true,
        "new_sheet": false,
        "run_control": {
          "read_only": false
        },
        "id": "oP8scH-Psx8P",
        "colab_type": "text"
      },
      "source": [
        "## Preprocessing Dataset"
      ]
    },
    {
      "cell_type": "markdown",
      "metadata": {
        "button": false,
        "deletable": true,
        "new_sheet": false,
        "run_control": {
          "read_only": false
        },
        "id": "507mgPtisx8R",
        "colab_type": "text"
      },
      "source": [
        "Importing the <em>pandas</em> and the Numpy libraries and test_train_split function from scikit-learn."
      ]
    },
    {
      "cell_type": "code",
      "metadata": {
        "button": false,
        "deletable": true,
        "new_sheet": false,
        "run_control": {
          "read_only": false
        },
        "id": "ObLziNKGsx8a",
        "colab_type": "code",
        "colab": {}
      },
      "source": [
        "import pandas as pd\n",
        "import numpy as np\n",
        "from sklearn.model_selection import train_test_split"
      ],
      "execution_count": 0,
      "outputs": []
    },
    {
      "cell_type": "markdown",
      "metadata": {
        "button": false,
        "deletable": true,
        "new_sheet": false,
        "run_control": {
          "read_only": false
        },
        "id": "D4-fHVA4sx8n",
        "colab_type": "text"
      },
      "source": [
        "\n",
        "<strong>The dataset is about the compressive strength of different samples of concrete based on the volumes of the different ingredients that were used to make them. Ingredients include:</strong>\n",
        "\n",
        "<strong>1. Cement</strong>\n",
        "\n",
        "<strong>2. Blast Furnace Slag</strong>\n",
        "\n",
        "<strong>3. Fly Ash</strong>\n",
        "\n",
        "<strong>4. Water</strong>\n",
        "\n",
        "<strong>5. Superplasticizer</strong>\n",
        "\n",
        "<strong>6. Coarse Aggregate</strong>\n",
        "\n",
        "<strong>7. Fine Aggregate</strong>"
      ]
    },
    {
      "cell_type": "markdown",
      "metadata": {
        "button": false,
        "deletable": true,
        "new_sheet": false,
        "run_control": {
          "read_only": false
        },
        "id": "jASFNneMsx8p",
        "colab_type": "text"
      },
      "source": [
        "Let's download the data and read it into a <em>pandas</em> dataframe."
      ]
    },
    {
      "cell_type": "code",
      "metadata": {
        "button": false,
        "deletable": true,
        "new_sheet": false,
        "run_control": {
          "read_only": false
        },
        "id": "Q0UsarPWsx8s",
        "colab_type": "code",
        "outputId": "e45d1180-d540-427b-b73d-6838e8d6831b",
        "colab": {
          "base_uri": "https://localhost:8080/",
          "height": 206
        }
      },
      "source": [
        "data = pd.read_csv('https://cocl.us/concrete_data')\n",
        "data.head()"
      ],
      "execution_count": 2,
      "outputs": [
        {
          "output_type": "execute_result",
          "data": {
            "text/html": [
              "<div>\n",
              "<style scoped>\n",
              "    .dataframe tbody tr th:only-of-type {\n",
              "        vertical-align: middle;\n",
              "    }\n",
              "\n",
              "    .dataframe tbody tr th {\n",
              "        vertical-align: top;\n",
              "    }\n",
              "\n",
              "    .dataframe thead th {\n",
              "        text-align: right;\n",
              "    }\n",
              "</style>\n",
              "<table border=\"1\" class=\"dataframe\">\n",
              "  <thead>\n",
              "    <tr style=\"text-align: right;\">\n",
              "      <th></th>\n",
              "      <th>Cement</th>\n",
              "      <th>Blast Furnace Slag</th>\n",
              "      <th>Fly Ash</th>\n",
              "      <th>Water</th>\n",
              "      <th>Superplasticizer</th>\n",
              "      <th>Coarse Aggregate</th>\n",
              "      <th>Fine Aggregate</th>\n",
              "      <th>Age</th>\n",
              "      <th>Strength</th>\n",
              "    </tr>\n",
              "  </thead>\n",
              "  <tbody>\n",
              "    <tr>\n",
              "      <th>0</th>\n",
              "      <td>540.0</td>\n",
              "      <td>0.0</td>\n",
              "      <td>0.0</td>\n",
              "      <td>162.0</td>\n",
              "      <td>2.5</td>\n",
              "      <td>1040.0</td>\n",
              "      <td>676.0</td>\n",
              "      <td>28</td>\n",
              "      <td>79.99</td>\n",
              "    </tr>\n",
              "    <tr>\n",
              "      <th>1</th>\n",
              "      <td>540.0</td>\n",
              "      <td>0.0</td>\n",
              "      <td>0.0</td>\n",
              "      <td>162.0</td>\n",
              "      <td>2.5</td>\n",
              "      <td>1055.0</td>\n",
              "      <td>676.0</td>\n",
              "      <td>28</td>\n",
              "      <td>61.89</td>\n",
              "    </tr>\n",
              "    <tr>\n",
              "      <th>2</th>\n",
              "      <td>332.5</td>\n",
              "      <td>142.5</td>\n",
              "      <td>0.0</td>\n",
              "      <td>228.0</td>\n",
              "      <td>0.0</td>\n",
              "      <td>932.0</td>\n",
              "      <td>594.0</td>\n",
              "      <td>270</td>\n",
              "      <td>40.27</td>\n",
              "    </tr>\n",
              "    <tr>\n",
              "      <th>3</th>\n",
              "      <td>332.5</td>\n",
              "      <td>142.5</td>\n",
              "      <td>0.0</td>\n",
              "      <td>228.0</td>\n",
              "      <td>0.0</td>\n",
              "      <td>932.0</td>\n",
              "      <td>594.0</td>\n",
              "      <td>365</td>\n",
              "      <td>41.05</td>\n",
              "    </tr>\n",
              "    <tr>\n",
              "      <th>4</th>\n",
              "      <td>198.6</td>\n",
              "      <td>132.4</td>\n",
              "      <td>0.0</td>\n",
              "      <td>192.0</td>\n",
              "      <td>0.0</td>\n",
              "      <td>978.4</td>\n",
              "      <td>825.5</td>\n",
              "      <td>360</td>\n",
              "      <td>44.30</td>\n",
              "    </tr>\n",
              "  </tbody>\n",
              "</table>\n",
              "</div>"
            ],
            "text/plain": [
              "   Cement  Blast Furnace Slag  Fly Ash  ...  Fine Aggregate  Age  Strength\n",
              "0   540.0                 0.0      0.0  ...           676.0   28     79.99\n",
              "1   540.0                 0.0      0.0  ...           676.0   28     61.89\n",
              "2   332.5               142.5      0.0  ...           594.0  270     40.27\n",
              "3   332.5               142.5      0.0  ...           594.0  365     41.05\n",
              "4   198.6               132.4      0.0  ...           825.5  360     44.30\n",
              "\n",
              "[5 rows x 9 columns]"
            ]
          },
          "metadata": {
            "tags": []
          },
          "execution_count": 2
        }
      ]
    },
    {
      "cell_type": "markdown",
      "metadata": {
        "button": false,
        "deletable": true,
        "new_sheet": false,
        "run_control": {
          "read_only": false
        },
        "id": "UX8ucLYYsx85",
        "colab_type": "text"
      },
      "source": [
        "#### Finding the shape of the data"
      ]
    },
    {
      "cell_type": "code",
      "metadata": {
        "button": false,
        "deletable": true,
        "new_sheet": false,
        "run_control": {
          "read_only": false
        },
        "id": "HgnDzvXSsx87",
        "colab_type": "code",
        "outputId": "61482672-aa73-47d7-f758-6e170c81056e",
        "colab": {
          "base_uri": "https://localhost:8080/",
          "height": 34
        }
      },
      "source": [
        "data.shape"
      ],
      "execution_count": 3,
      "outputs": [
        {
          "output_type": "execute_result",
          "data": {
            "text/plain": [
              "(1030, 9)"
            ]
          },
          "metadata": {
            "tags": []
          },
          "execution_count": 3
        }
      ]
    },
    {
      "cell_type": "markdown",
      "metadata": {
        "button": false,
        "deletable": true,
        "new_sheet": false,
        "run_control": {
          "read_only": false
        },
        "id": "k9Kz-ZVpsx9E",
        "colab_type": "text"
      },
      "source": [
        "So, there are 1030 samples to train our model."
      ]
    },
    {
      "cell_type": "markdown",
      "metadata": {
        "button": false,
        "deletable": true,
        "new_sheet": false,
        "run_control": {
          "read_only": false
        },
        "id": "5-HuLZUasx9G",
        "colab_type": "text"
      },
      "source": [
        "Searching for any missing values in the dataset.\n",
        "\n",
        "\n"
      ]
    },
    {
      "cell_type": "code",
      "metadata": {
        "button": false,
        "deletable": true,
        "new_sheet": false,
        "run_control": {
          "read_only": false
        },
        "id": "jagdTm4Nsx9I",
        "colab_type": "code",
        "outputId": "1d10c5ac-4014-413b-833d-1a32edfb30fe",
        "colab": {
          "base_uri": "https://localhost:8080/",
          "height": 300
        }
      },
      "source": [
        "data.describe()"
      ],
      "execution_count": 4,
      "outputs": [
        {
          "output_type": "execute_result",
          "data": {
            "text/html": [
              "<div>\n",
              "<style scoped>\n",
              "    .dataframe tbody tr th:only-of-type {\n",
              "        vertical-align: middle;\n",
              "    }\n",
              "\n",
              "    .dataframe tbody tr th {\n",
              "        vertical-align: top;\n",
              "    }\n",
              "\n",
              "    .dataframe thead th {\n",
              "        text-align: right;\n",
              "    }\n",
              "</style>\n",
              "<table border=\"1\" class=\"dataframe\">\n",
              "  <thead>\n",
              "    <tr style=\"text-align: right;\">\n",
              "      <th></th>\n",
              "      <th>Cement</th>\n",
              "      <th>Blast Furnace Slag</th>\n",
              "      <th>Fly Ash</th>\n",
              "      <th>Water</th>\n",
              "      <th>Superplasticizer</th>\n",
              "      <th>Coarse Aggregate</th>\n",
              "      <th>Fine Aggregate</th>\n",
              "      <th>Age</th>\n",
              "      <th>Strength</th>\n",
              "    </tr>\n",
              "  </thead>\n",
              "  <tbody>\n",
              "    <tr>\n",
              "      <th>count</th>\n",
              "      <td>1030.000000</td>\n",
              "      <td>1030.000000</td>\n",
              "      <td>1030.000000</td>\n",
              "      <td>1030.000000</td>\n",
              "      <td>1030.000000</td>\n",
              "      <td>1030.000000</td>\n",
              "      <td>1030.000000</td>\n",
              "      <td>1030.000000</td>\n",
              "      <td>1030.000000</td>\n",
              "    </tr>\n",
              "    <tr>\n",
              "      <th>mean</th>\n",
              "      <td>281.167864</td>\n",
              "      <td>73.895825</td>\n",
              "      <td>54.188350</td>\n",
              "      <td>181.567282</td>\n",
              "      <td>6.204660</td>\n",
              "      <td>972.918932</td>\n",
              "      <td>773.580485</td>\n",
              "      <td>45.662136</td>\n",
              "      <td>35.817961</td>\n",
              "    </tr>\n",
              "    <tr>\n",
              "      <th>std</th>\n",
              "      <td>104.506364</td>\n",
              "      <td>86.279342</td>\n",
              "      <td>63.997004</td>\n",
              "      <td>21.354219</td>\n",
              "      <td>5.973841</td>\n",
              "      <td>77.753954</td>\n",
              "      <td>80.175980</td>\n",
              "      <td>63.169912</td>\n",
              "      <td>16.705742</td>\n",
              "    </tr>\n",
              "    <tr>\n",
              "      <th>min</th>\n",
              "      <td>102.000000</td>\n",
              "      <td>0.000000</td>\n",
              "      <td>0.000000</td>\n",
              "      <td>121.800000</td>\n",
              "      <td>0.000000</td>\n",
              "      <td>801.000000</td>\n",
              "      <td>594.000000</td>\n",
              "      <td>1.000000</td>\n",
              "      <td>2.330000</td>\n",
              "    </tr>\n",
              "    <tr>\n",
              "      <th>25%</th>\n",
              "      <td>192.375000</td>\n",
              "      <td>0.000000</td>\n",
              "      <td>0.000000</td>\n",
              "      <td>164.900000</td>\n",
              "      <td>0.000000</td>\n",
              "      <td>932.000000</td>\n",
              "      <td>730.950000</td>\n",
              "      <td>7.000000</td>\n",
              "      <td>23.710000</td>\n",
              "    </tr>\n",
              "    <tr>\n",
              "      <th>50%</th>\n",
              "      <td>272.900000</td>\n",
              "      <td>22.000000</td>\n",
              "      <td>0.000000</td>\n",
              "      <td>185.000000</td>\n",
              "      <td>6.400000</td>\n",
              "      <td>968.000000</td>\n",
              "      <td>779.500000</td>\n",
              "      <td>28.000000</td>\n",
              "      <td>34.445000</td>\n",
              "    </tr>\n",
              "    <tr>\n",
              "      <th>75%</th>\n",
              "      <td>350.000000</td>\n",
              "      <td>142.950000</td>\n",
              "      <td>118.300000</td>\n",
              "      <td>192.000000</td>\n",
              "      <td>10.200000</td>\n",
              "      <td>1029.400000</td>\n",
              "      <td>824.000000</td>\n",
              "      <td>56.000000</td>\n",
              "      <td>46.135000</td>\n",
              "    </tr>\n",
              "    <tr>\n",
              "      <th>max</th>\n",
              "      <td>540.000000</td>\n",
              "      <td>359.400000</td>\n",
              "      <td>200.100000</td>\n",
              "      <td>247.000000</td>\n",
              "      <td>32.200000</td>\n",
              "      <td>1145.000000</td>\n",
              "      <td>992.600000</td>\n",
              "      <td>365.000000</td>\n",
              "      <td>82.600000</td>\n",
              "    </tr>\n",
              "  </tbody>\n",
              "</table>\n",
              "</div>"
            ],
            "text/plain": [
              "            Cement  Blast Furnace Slag  ...          Age     Strength\n",
              "count  1030.000000         1030.000000  ...  1030.000000  1030.000000\n",
              "mean    281.167864           73.895825  ...    45.662136    35.817961\n",
              "std     104.506364           86.279342  ...    63.169912    16.705742\n",
              "min     102.000000            0.000000  ...     1.000000     2.330000\n",
              "25%     192.375000            0.000000  ...     7.000000    23.710000\n",
              "50%     272.900000           22.000000  ...    28.000000    34.445000\n",
              "75%     350.000000          142.950000  ...    56.000000    46.135000\n",
              "max     540.000000          359.400000  ...   365.000000    82.600000\n",
              "\n",
              "[8 rows x 9 columns]"
            ]
          },
          "metadata": {
            "tags": []
          },
          "execution_count": 4
        }
      ]
    },
    {
      "cell_type": "code",
      "metadata": {
        "button": false,
        "deletable": true,
        "new_sheet": false,
        "run_control": {
          "read_only": false
        },
        "id": "7JXtFjORsx9S",
        "colab_type": "code",
        "outputId": "4cd5b5dc-0a57-455e-8a12-92f33428f66e",
        "colab": {
          "base_uri": "https://localhost:8080/",
          "height": 191
        }
      },
      "source": [
        "data.isnull().sum()"
      ],
      "execution_count": 5,
      "outputs": [
        {
          "output_type": "execute_result",
          "data": {
            "text/plain": [
              "Cement                0\n",
              "Blast Furnace Slag    0\n",
              "Fly Ash               0\n",
              "Water                 0\n",
              "Superplasticizer      0\n",
              "Coarse Aggregate      0\n",
              "Fine Aggregate        0\n",
              "Age                   0\n",
              "Strength              0\n",
              "dtype: int64"
            ]
          },
          "metadata": {
            "tags": []
          },
          "execution_count": 5
        }
      ]
    },
    {
      "cell_type": "markdown",
      "metadata": {
        "button": false,
        "deletable": true,
        "new_sheet": false,
        "run_control": {
          "read_only": false
        },
        "id": "lxNHiQQpsx9b",
        "colab_type": "text"
      },
      "source": [
        "Dataset looks super clean. No null value is found in the model. Hence, It is ready to be predicted....After Spiliting the dataset into predictors and target and into training and testing the data ofcourse :)"
      ]
    },
    {
      "cell_type": "markdown",
      "metadata": {
        "button": false,
        "deletable": true,
        "new_sheet": false,
        "run_control": {
          "read_only": false
        },
        "id": "dwRjEwgqsx9c",
        "colab_type": "text"
      },
      "source": [
        "#### Spliting data "
      ]
    },
    {
      "cell_type": "markdown",
      "metadata": {
        "id": "tP2DR1mDsx9e",
        "colab_type": "text"
      },
      "source": [
        "The target variable in this problem is the concrete sample strength. Therefore, our predictors will be all the other columns."
      ]
    },
    {
      "cell_type": "code",
      "metadata": {
        "button": false,
        "deletable": true,
        "new_sheet": false,
        "run_control": {
          "read_only": false
        },
        "id": "xYZcMhCWsx9g",
        "colab_type": "code",
        "colab": {}
      },
      "source": [
        "data_columns = data.columns\n",
        "\n",
        "X = data[data_columns[data_columns != 'Strength']] # Predictors: all columns except 'Strength'\n",
        "y = data['Strength'] # Target: 'Strength' column\n"
      ],
      "execution_count": 0,
      "outputs": []
    },
    {
      "cell_type": "code",
      "metadata": {
        "id": "Tw-WiOloN0c4",
        "colab_type": "code",
        "outputId": "17a30c9a-8487-417a-c66e-9312966b51aa",
        "colab": {
          "base_uri": "https://localhost:8080/",
          "height": 206
        }
      },
      "source": [
        "''' Normalizing the dataset first before spilting'''\n",
        "X_norm = (X - X.mean()) / X.std() \n",
        "X_norm.head()"
      ],
      "execution_count": 7,
      "outputs": [
        {
          "output_type": "execute_result",
          "data": {
            "text/html": [
              "<div>\n",
              "<style scoped>\n",
              "    .dataframe tbody tr th:only-of-type {\n",
              "        vertical-align: middle;\n",
              "    }\n",
              "\n",
              "    .dataframe tbody tr th {\n",
              "        vertical-align: top;\n",
              "    }\n",
              "\n",
              "    .dataframe thead th {\n",
              "        text-align: right;\n",
              "    }\n",
              "</style>\n",
              "<table border=\"1\" class=\"dataframe\">\n",
              "  <thead>\n",
              "    <tr style=\"text-align: right;\">\n",
              "      <th></th>\n",
              "      <th>Cement</th>\n",
              "      <th>Blast Furnace Slag</th>\n",
              "      <th>Fly Ash</th>\n",
              "      <th>Water</th>\n",
              "      <th>Superplasticizer</th>\n",
              "      <th>Coarse Aggregate</th>\n",
              "      <th>Fine Aggregate</th>\n",
              "      <th>Age</th>\n",
              "    </tr>\n",
              "  </thead>\n",
              "  <tbody>\n",
              "    <tr>\n",
              "      <th>0</th>\n",
              "      <td>2.476712</td>\n",
              "      <td>-0.856472</td>\n",
              "      <td>-0.846733</td>\n",
              "      <td>-0.916319</td>\n",
              "      <td>-0.620147</td>\n",
              "      <td>0.862735</td>\n",
              "      <td>-1.217079</td>\n",
              "      <td>-0.279597</td>\n",
              "    </tr>\n",
              "    <tr>\n",
              "      <th>1</th>\n",
              "      <td>2.476712</td>\n",
              "      <td>-0.856472</td>\n",
              "      <td>-0.846733</td>\n",
              "      <td>-0.916319</td>\n",
              "      <td>-0.620147</td>\n",
              "      <td>1.055651</td>\n",
              "      <td>-1.217079</td>\n",
              "      <td>-0.279597</td>\n",
              "    </tr>\n",
              "    <tr>\n",
              "      <th>2</th>\n",
              "      <td>0.491187</td>\n",
              "      <td>0.795140</td>\n",
              "      <td>-0.846733</td>\n",
              "      <td>2.174405</td>\n",
              "      <td>-1.038638</td>\n",
              "      <td>-0.526262</td>\n",
              "      <td>-2.239829</td>\n",
              "      <td>3.551340</td>\n",
              "    </tr>\n",
              "    <tr>\n",
              "      <th>3</th>\n",
              "      <td>0.491187</td>\n",
              "      <td>0.795140</td>\n",
              "      <td>-0.846733</td>\n",
              "      <td>2.174405</td>\n",
              "      <td>-1.038638</td>\n",
              "      <td>-0.526262</td>\n",
              "      <td>-2.239829</td>\n",
              "      <td>5.055221</td>\n",
              "    </tr>\n",
              "    <tr>\n",
              "      <th>4</th>\n",
              "      <td>-0.790075</td>\n",
              "      <td>0.678079</td>\n",
              "      <td>-0.846733</td>\n",
              "      <td>0.488555</td>\n",
              "      <td>-1.038638</td>\n",
              "      <td>0.070492</td>\n",
              "      <td>0.647569</td>\n",
              "      <td>4.976069</td>\n",
              "    </tr>\n",
              "  </tbody>\n",
              "</table>\n",
              "</div>"
            ],
            "text/plain": [
              "     Cement  Blast Furnace Slag  ...  Fine Aggregate       Age\n",
              "0  2.476712           -0.856472  ...       -1.217079 -0.279597\n",
              "1  2.476712           -0.856472  ...       -1.217079 -0.279597\n",
              "2  0.491187            0.795140  ...       -2.239829  3.551340\n",
              "3  0.491187            0.795140  ...       -2.239829  5.055221\n",
              "4 -0.790075            0.678079  ...        0.647569  4.976069\n",
              "\n",
              "[5 rows x 8 columns]"
            ]
          },
          "metadata": {
            "tags": []
          },
          "execution_count": 7
        }
      ]
    },
    {
      "cell_type": "markdown",
      "metadata": {
        "button": false,
        "deletable": true,
        "new_sheet": false,
        "run_control": {
          "read_only": false
        },
        "id": "gByUW99Ssx9q",
        "colab_type": "text"
      },
      "source": [
        "<a id=\"item2\"></a>"
      ]
    },
    {
      "cell_type": "code",
      "metadata": {
        "id": "SNRsz5EF5th6",
        "colab_type": "code",
        "colab": {}
      },
      "source": [
        "# Spliting the dataset into training and testing data.\n",
        "X_train, X_test, y_train,y_test = train_test_split(X_norm,y,test_size=0.3)"
      ],
      "execution_count": 0,
      "outputs": []
    },
    {
      "cell_type": "markdown",
      "metadata": {
        "button": false,
        "deletable": true,
        "new_sheet": false,
        "run_control": {
          "read_only": false
        },
        "id": "Bs_8ywVKsx9r",
        "colab_type": "text"
      },
      "source": [
        "Let's do a quick sanity check of the predictors and the target dataframes of training set and testing set."
      ]
    },
    {
      "cell_type": "code",
      "metadata": {
        "button": false,
        "deletable": true,
        "new_sheet": false,
        "run_control": {
          "read_only": false
        },
        "id": "lHoQqcsVsx9t",
        "colab_type": "code",
        "outputId": "3d74e0ee-be01-418a-f13f-7ce8c393e09e",
        "colab": {
          "base_uri": "https://localhost:8080/",
          "height": 206
        }
      },
      "source": [
        "X_train.head()\n"
      ],
      "execution_count": 9,
      "outputs": [
        {
          "output_type": "execute_result",
          "data": {
            "text/html": [
              "<div>\n",
              "<style scoped>\n",
              "    .dataframe tbody tr th:only-of-type {\n",
              "        vertical-align: middle;\n",
              "    }\n",
              "\n",
              "    .dataframe tbody tr th {\n",
              "        vertical-align: top;\n",
              "    }\n",
              "\n",
              "    .dataframe thead th {\n",
              "        text-align: right;\n",
              "    }\n",
              "</style>\n",
              "<table border=\"1\" class=\"dataframe\">\n",
              "  <thead>\n",
              "    <tr style=\"text-align: right;\">\n",
              "      <th></th>\n",
              "      <th>Cement</th>\n",
              "      <th>Blast Furnace Slag</th>\n",
              "      <th>Fly Ash</th>\n",
              "      <th>Water</th>\n",
              "      <th>Superplasticizer</th>\n",
              "      <th>Coarse Aggregate</th>\n",
              "      <th>Fine Aggregate</th>\n",
              "      <th>Age</th>\n",
              "    </tr>\n",
              "  </thead>\n",
              "  <tbody>\n",
              "    <tr>\n",
              "      <th>838</th>\n",
              "      <td>-1.168999</td>\n",
              "      <td>0.870477</td>\n",
              "      <td>0.965852</td>\n",
              "      <td>-0.307540</td>\n",
              "      <td>1.472309</td>\n",
              "      <td>-0.256179</td>\n",
              "      <td>-0.668286</td>\n",
              "      <td>-0.279597</td>\n",
              "    </tr>\n",
              "    <tr>\n",
              "      <th>100</th>\n",
              "      <td>1.376300</td>\n",
              "      <td>0.375573</td>\n",
              "      <td>-0.846733</td>\n",
              "      <td>-1.314367</td>\n",
              "      <td>1.723404</td>\n",
              "      <td>-1.553862</td>\n",
              "      <td>1.415879</td>\n",
              "      <td>-0.612034</td>\n",
              "    </tr>\n",
              "    <tr>\n",
              "      <th>766</th>\n",
              "      <td>0.993548</td>\n",
              "      <td>-0.856472</td>\n",
              "      <td>-0.846733</td>\n",
              "      <td>0.207580</td>\n",
              "      <td>-1.038638</td>\n",
              "      <td>-0.088985</td>\n",
              "      <td>-0.131966</td>\n",
              "      <td>-0.501222</td>\n",
              "    </tr>\n",
              "    <tr>\n",
              "      <th>98</th>\n",
              "      <td>1.854740</td>\n",
              "      <td>0.520451</td>\n",
              "      <td>-0.846733</td>\n",
              "      <td>-0.021882</td>\n",
              "      <td>0.451190</td>\n",
              "      <td>-1.553862</td>\n",
              "      <td>0.098777</td>\n",
              "      <td>-0.612034</td>\n",
              "    </tr>\n",
              "    <tr>\n",
              "      <th>677</th>\n",
              "      <td>-1.714421</td>\n",
              "      <td>0.916838</td>\n",
              "      <td>-0.846733</td>\n",
              "      <td>0.488555</td>\n",
              "      <td>-1.038638</td>\n",
              "      <td>-1.105010</td>\n",
              "      <td>2.100623</td>\n",
              "      <td>-0.612034</td>\n",
              "    </tr>\n",
              "  </tbody>\n",
              "</table>\n",
              "</div>"
            ],
            "text/plain": [
              "       Cement  Blast Furnace Slag  ...  Fine Aggregate       Age\n",
              "838 -1.168999            0.870477  ...       -0.668286 -0.279597\n",
              "100  1.376300            0.375573  ...        1.415879 -0.612034\n",
              "766  0.993548           -0.856472  ...       -0.131966 -0.501222\n",
              "98   1.854740            0.520451  ...        0.098777 -0.612034\n",
              "677 -1.714421            0.916838  ...        2.100623 -0.612034\n",
              "\n",
              "[5 rows x 8 columns]"
            ]
          },
          "metadata": {
            "tags": []
          },
          "execution_count": 9
        }
      ]
    },
    {
      "cell_type": "code",
      "metadata": {
        "id": "_RDQWrKb36oW",
        "colab_type": "code",
        "outputId": "9ee4fc76-00c3-4693-e389-e10fe3cd7fc1",
        "colab": {
          "base_uri": "https://localhost:8080/",
          "height": 206
        }
      },
      "source": [
        "X_test.head()"
      ],
      "execution_count": 10,
      "outputs": [
        {
          "output_type": "execute_result",
          "data": {
            "text/html": [
              "<div>\n",
              "<style scoped>\n",
              "    .dataframe tbody tr th:only-of-type {\n",
              "        vertical-align: middle;\n",
              "    }\n",
              "\n",
              "    .dataframe tbody tr th {\n",
              "        vertical-align: top;\n",
              "    }\n",
              "\n",
              "    .dataframe thead th {\n",
              "        text-align: right;\n",
              "    }\n",
              "</style>\n",
              "<table border=\"1\" class=\"dataframe\">\n",
              "  <thead>\n",
              "    <tr style=\"text-align: right;\">\n",
              "      <th></th>\n",
              "      <th>Cement</th>\n",
              "      <th>Blast Furnace Slag</th>\n",
              "      <th>Fly Ash</th>\n",
              "      <th>Water</th>\n",
              "      <th>Superplasticizer</th>\n",
              "      <th>Coarse Aggregate</th>\n",
              "      <th>Fine Aggregate</th>\n",
              "      <th>Age</th>\n",
              "    </tr>\n",
              "  </thead>\n",
              "  <tbody>\n",
              "    <tr>\n",
              "      <th>781</th>\n",
              "      <td>0.141926</td>\n",
              "      <td>-0.856472</td>\n",
              "      <td>-0.846733</td>\n",
              "      <td>0.488555</td>\n",
              "      <td>-1.038638</td>\n",
              "      <td>1.441484</td>\n",
              "      <td>-0.107021</td>\n",
              "      <td>-0.612034</td>\n",
              "    </tr>\n",
              "    <tr>\n",
              "      <th>942</th>\n",
              "      <td>0.307466</td>\n",
              "      <td>0.824116</td>\n",
              "      <td>-0.846733</td>\n",
              "      <td>-0.143638</td>\n",
              "      <td>0.300534</td>\n",
              "      <td>-1.359660</td>\n",
              "      <td>0.628861</td>\n",
              "      <td>-0.279597</td>\n",
              "    </tr>\n",
              "    <tr>\n",
              "      <th>750</th>\n",
              "      <td>2.093960</td>\n",
              "      <td>-0.856472</td>\n",
              "      <td>-0.846733</td>\n",
              "      <td>0.863189</td>\n",
              "      <td>-1.038638</td>\n",
              "      <td>1.955927</td>\n",
              "      <td>-2.002850</td>\n",
              "      <td>-0.279597</td>\n",
              "    </tr>\n",
              "    <tr>\n",
              "      <th>97</th>\n",
              "      <td>0.897860</td>\n",
              "      <td>0.230695</td>\n",
              "      <td>-0.846733</td>\n",
              "      <td>-2.574071</td>\n",
              "      <td>2.878439</td>\n",
              "      <td>-1.553862</td>\n",
              "      <td>2.731735</td>\n",
              "      <td>-0.612034</td>\n",
              "    </tr>\n",
              "    <tr>\n",
              "      <th>895</th>\n",
              "      <td>-0.202551</td>\n",
              "      <td>0.314144</td>\n",
              "      <td>0.372074</td>\n",
              "      <td>-0.494857</td>\n",
              "      <td>0.635327</td>\n",
              "      <td>-0.474817</td>\n",
              "      <td>-0.131966</td>\n",
              "      <td>-0.279597</td>\n",
              "    </tr>\n",
              "  </tbody>\n",
              "</table>\n",
              "</div>"
            ],
            "text/plain": [
              "       Cement  Blast Furnace Slag  ...  Fine Aggregate       Age\n",
              "781  0.141926           -0.856472  ...       -0.107021 -0.612034\n",
              "942  0.307466            0.824116  ...        0.628861 -0.279597\n",
              "750  2.093960           -0.856472  ...       -2.002850 -0.279597\n",
              "97   0.897860            0.230695  ...        2.731735 -0.612034\n",
              "895 -0.202551            0.314144  ...       -0.131966 -0.279597\n",
              "\n",
              "[5 rows x 8 columns]"
            ]
          },
          "metadata": {
            "tags": []
          },
          "execution_count": 10
        }
      ]
    },
    {
      "cell_type": "code",
      "metadata": {
        "button": false,
        "deletable": true,
        "new_sheet": false,
        "run_control": {
          "read_only": false
        },
        "id": "9Hd6eMwcsx91",
        "colab_type": "code",
        "outputId": "ce559c23-0373-48ca-8035-5852c4432e2c",
        "colab": {
          "base_uri": "https://localhost:8080/",
          "height": 121
        }
      },
      "source": [
        "y_train.head()\n"
      ],
      "execution_count": 11,
      "outputs": [
        {
          "output_type": "execute_result",
          "data": {
            "text/plain": [
              "838    27.68\n",
              "100    49.20\n",
              "766    27.92\n",
              "98     55.60\n",
              "677     7.68\n",
              "Name: Strength, dtype: float64"
            ]
          },
          "metadata": {
            "tags": []
          },
          "execution_count": 11
        }
      ]
    },
    {
      "cell_type": "code",
      "metadata": {
        "id": "QhXyU5Vj3-uA",
        "colab_type": "code",
        "outputId": "437ceab0-a507-4730-aefa-d3c5c6f8dd6d",
        "colab": {
          "base_uri": "https://localhost:8080/",
          "height": 121
        }
      },
      "source": [
        "y_test.head()"
      ],
      "execution_count": 12,
      "outputs": [
        {
          "output_type": "execute_result",
          "data": {
            "text/plain": [
              "781    14.20\n",
              "942    40.93\n",
              "750    44.09\n",
              "97     45.70\n",
              "895    49.77\n",
              "Name: Strength, dtype: float64"
            ]
          },
          "metadata": {
            "tags": []
          },
          "execution_count": 12
        }
      ]
    },
    {
      "cell_type": "markdown",
      "metadata": {
        "id": "Uy869yjxsx-T",
        "colab_type": "text"
      },
      "source": [
        "Let's save the number of predictors to *n_cols* since we will need this number when building our network."
      ]
    },
    {
      "cell_type": "code",
      "metadata": {
        "button": false,
        "deletable": true,
        "new_sheet": false,
        "run_control": {
          "read_only": false
        },
        "id": "awkB_bZWsx-U",
        "colab_type": "code",
        "colab": {}
      },
      "source": [
        "n_cols = X_train.shape[1] # number of predictors"
      ],
      "execution_count": 0,
      "outputs": []
    },
    {
      "cell_type": "markdown",
      "metadata": {
        "button": false,
        "deletable": true,
        "new_sheet": false,
        "run_control": {
          "read_only": false
        },
        "id": "Nfjw_ustsx-i",
        "colab_type": "text"
      },
      "source": [
        "<a id=\"item1\"></a>"
      ]
    },
    {
      "cell_type": "markdown",
      "metadata": {
        "id": "fhdrqqNwsx-p",
        "colab_type": "text"
      },
      "source": [
        "<a id='item32'></a>"
      ]
    },
    {
      "cell_type": "markdown",
      "metadata": {
        "button": false,
        "deletable": true,
        "new_sheet": false,
        "run_control": {
          "read_only": false
        },
        "id": "to-_uftssx-q",
        "colab_type": "text"
      },
      "source": [
        "## Building Keras Model For Prediction"
      ]
    },
    {
      "cell_type": "markdown",
      "metadata": {
        "button": false,
        "deletable": true,
        "new_sheet": false,
        "run_control": {
          "read_only": false
        },
        "id": "jNzYv9wlsx-t",
        "colab_type": "text"
      },
      "source": [
        "#### Importing the Keras library"
      ]
    },
    {
      "cell_type": "code",
      "metadata": {
        "button": false,
        "deletable": true,
        "new_sheet": false,
        "run_control": {
          "read_only": false
        },
        "id": "01lJ_g3Nsx-v",
        "colab_type": "code",
        "colab": {
          "base_uri": "https://localhost:8080/",
          "height": 34
        },
        "outputId": "383cfca8-b495-4e77-e043-f3e4ff8a9438"
      },
      "source": [
        "import keras"
      ],
      "execution_count": 14,
      "outputs": [
        {
          "output_type": "stream",
          "text": [
            "Using TensorFlow backend.\n"
          ],
          "name": "stderr"
        }
      ]
    },
    {
      "cell_type": "markdown",
      "metadata": {
        "button": false,
        "deletable": true,
        "new_sheet": false,
        "run_control": {
          "read_only": false
        },
        "id": "ANC78N4Zsx-8",
        "colab_type": "text"
      },
      "source": [
        "Importing the Sequential model and Dense layer to create the MLP for training this model. "
      ]
    },
    {
      "cell_type": "code",
      "metadata": {
        "button": false,
        "deletable": true,
        "new_sheet": false,
        "run_control": {
          "read_only": false
        },
        "id": "BigOECSSsx-8",
        "colab_type": "code",
        "colab": {}
      },
      "source": [
        "from keras.models import Sequential\n",
        "from keras.layers import Dense"
      ],
      "execution_count": 0,
      "outputs": []
    },
    {
      "cell_type": "markdown",
      "metadata": {
        "id": "ocXTutmKsx_G",
        "colab_type": "text"
      },
      "source": [
        "<a id='item33'></a>"
      ]
    },
    {
      "cell_type": "markdown",
      "metadata": {
        "button": false,
        "deletable": true,
        "new_sheet": false,
        "run_control": {
          "read_only": false
        },
        "id": "SPh_7-vhsx_K",
        "colab_type": "text"
      },
      "source": [
        "Let's define a function that defines our regression model for us so that we can conveniently call it to create our model."
      ]
    },
    {
      "cell_type": "code",
      "metadata": {
        "button": false,
        "deletable": true,
        "new_sheet": false,
        "run_control": {
          "read_only": false
        },
        "id": "Ff2k4KRPsx_L",
        "colab_type": "code",
        "colab": {}
      },
      "source": [
        "# define regression model\n",
        "def regression_model():\n",
        "    # create model\n",
        "    model = Sequential()\n",
        "    model.add(Dense(10, activation='relu', input_shape=(n_cols,)))\n",
        "    model.add(Dense(1))\n",
        "    \n",
        "    # compile model\n",
        "    model.compile(optimizer='adam', loss='mean_squared_error',metrics=['mean_squared_error'])\n",
        "    return model"
      ],
      "execution_count": 0,
      "outputs": []
    },
    {
      "cell_type": "markdown",
      "metadata": {
        "id": "RDDuSa5Bsx_S",
        "colab_type": "text"
      },
      "source": [
        "The above function create a model that has one hidden layers, each of 10 hidden units."
      ]
    },
    {
      "cell_type": "markdown",
      "metadata": {
        "button": false,
        "deletable": true,
        "new_sheet": false,
        "run_control": {
          "read_only": false
        },
        "id": "PfvNK8ywsx_T",
        "colab_type": "text"
      },
      "source": [
        "<a id=\"item4\"></a>"
      ]
    },
    {
      "cell_type": "markdown",
      "metadata": {
        "id": "S6sxfF_4sx_U",
        "colab_type": "text"
      },
      "source": [
        "<a id='item34'></a>"
      ]
    },
    {
      "cell_type": "markdown",
      "metadata": {
        "button": false,
        "deletable": true,
        "new_sheet": false,
        "run_control": {
          "read_only": false
        },
        "id": "WeR_MXQrsx_V",
        "colab_type": "text"
      },
      "source": [
        "## Train and Test the Network"
      ]
    },
    {
      "cell_type": "markdown",
      "metadata": {
        "id": "5ZZXztkxsx_X",
        "colab_type": "text"
      },
      "source": [
        "Let's call the function now to create our model."
      ]
    },
    {
      "cell_type": "code",
      "metadata": {
        "button": false,
        "deletable": true,
        "new_sheet": false,
        "run_control": {
          "read_only": false
        },
        "id": "IJyvu1C4sx_a",
        "colab_type": "code",
        "colab": {}
      },
      "source": [
        "# build the model\n",
        "model = regression_model()"
      ],
      "execution_count": 0,
      "outputs": []
    },
    {
      "cell_type": "markdown",
      "metadata": {
        "id": "TjOHYgfvsx_g",
        "colab_type": "text"
      },
      "source": [
        "Next, we will train and test the model at the same time using the *fit* method. We will leave out 10% of the data for validation and we will train the model for 100 epochs."
      ]
    },
    {
      "cell_type": "code",
      "metadata": {
        "id": "DncSSYiasx_i",
        "colab_type": "code",
        "outputId": "01d402dd-b451-49ca-94f1-1f7720909581",
        "colab": {
          "base_uri": "https://localhost:8080/",
          "height": 1000
        }
      },
      "source": [
        "# fit the model\n",
        "model.fit(X_train, y_train, validation_split=0.1, epochs=100, verbose=2)"
      ],
      "execution_count": 18,
      "outputs": [
        {
          "output_type": "stream",
          "text": [
            "Train on 648 samples, validate on 73 samples\n",
            "Epoch 1/100\n",
            " - 0s - loss: 1513.6796 - mean_squared_error: 1513.6796 - val_loss: 1654.4695 - val_mean_squared_error: 1654.4695\n",
            "Epoch 2/100\n",
            " - 0s - loss: 1501.1776 - mean_squared_error: 1501.1777 - val_loss: 1641.5714 - val_mean_squared_error: 1641.5714\n",
            "Epoch 3/100\n",
            " - 0s - loss: 1488.5067 - mean_squared_error: 1488.5067 - val_loss: 1627.9216 - val_mean_squared_error: 1627.9215\n",
            "Epoch 4/100\n",
            " - 0s - loss: 1474.9964 - mean_squared_error: 1474.9965 - val_loss: 1613.3196 - val_mean_squared_error: 1613.3196\n",
            "Epoch 5/100\n",
            " - 0s - loss: 1460.5449 - mean_squared_error: 1460.5449 - val_loss: 1598.1988 - val_mean_squared_error: 1598.1989\n",
            "Epoch 6/100\n",
            " - 0s - loss: 1445.1330 - mean_squared_error: 1445.1331 - val_loss: 1581.6379 - val_mean_squared_error: 1581.6379\n",
            "Epoch 7/100\n",
            " - 0s - loss: 1428.5757 - mean_squared_error: 1428.5756 - val_loss: 1563.7683 - val_mean_squared_error: 1563.7682\n",
            "Epoch 8/100\n",
            " - 0s - loss: 1410.6631 - mean_squared_error: 1410.6631 - val_loss: 1545.1385 - val_mean_squared_error: 1545.1384\n",
            "Epoch 9/100\n",
            " - 0s - loss: 1391.9273 - mean_squared_error: 1391.9272 - val_loss: 1524.9648 - val_mean_squared_error: 1524.9648\n",
            "Epoch 10/100\n",
            " - 0s - loss: 1371.7909 - mean_squared_error: 1371.7908 - val_loss: 1503.4406 - val_mean_squared_error: 1503.4406\n",
            "Epoch 11/100\n",
            " - 0s - loss: 1350.1877 - mean_squared_error: 1350.1876 - val_loss: 1480.6569 - val_mean_squared_error: 1480.6569\n",
            "Epoch 12/100\n",
            " - 0s - loss: 1327.0665 - mean_squared_error: 1327.0664 - val_loss: 1456.6973 - val_mean_squared_error: 1456.6974\n",
            "Epoch 13/100\n",
            " - 0s - loss: 1302.4854 - mean_squared_error: 1302.4854 - val_loss: 1431.0454 - val_mean_squared_error: 1431.0455\n",
            "Epoch 14/100\n",
            " - 0s - loss: 1277.3429 - mean_squared_error: 1277.3429 - val_loss: 1403.5779 - val_mean_squared_error: 1403.5779\n",
            "Epoch 15/100\n",
            " - 0s - loss: 1250.0152 - mean_squared_error: 1250.0151 - val_loss: 1375.5174 - val_mean_squared_error: 1375.5173\n",
            "Epoch 16/100\n",
            " - 0s - loss: 1222.1210 - mean_squared_error: 1222.1210 - val_loss: 1346.4883 - val_mean_squared_error: 1346.4883\n",
            "Epoch 17/100\n",
            " - 0s - loss: 1192.7563 - mean_squared_error: 1192.7562 - val_loss: 1315.8965 - val_mean_squared_error: 1315.8965\n",
            "Epoch 18/100\n",
            " - 0s - loss: 1162.1716 - mean_squared_error: 1162.1715 - val_loss: 1283.8219 - val_mean_squared_error: 1283.8218\n",
            "Epoch 19/100\n",
            " - 0s - loss: 1129.6393 - mean_squared_error: 1129.6392 - val_loss: 1251.9823 - val_mean_squared_error: 1251.9823\n",
            "Epoch 20/100\n",
            " - 0s - loss: 1097.6017 - mean_squared_error: 1097.6018 - val_loss: 1218.9606 - val_mean_squared_error: 1218.9606\n",
            "Epoch 21/100\n",
            " - 0s - loss: 1064.6571 - mean_squared_error: 1064.6571 - val_loss: 1185.4738 - val_mean_squared_error: 1185.4738\n",
            "Epoch 22/100\n",
            " - 0s - loss: 1031.3197 - mean_squared_error: 1031.3196 - val_loss: 1151.0336 - val_mean_squared_error: 1151.0336\n",
            "Epoch 23/100\n",
            " - 0s - loss: 997.3190 - mean_squared_error: 997.3190 - val_loss: 1117.0708 - val_mean_squared_error: 1117.0708\n",
            "Epoch 24/100\n",
            " - 0s - loss: 962.9567 - mean_squared_error: 962.9567 - val_loss: 1082.3935 - val_mean_squared_error: 1082.3936\n",
            "Epoch 25/100\n",
            " - 0s - loss: 928.2355 - mean_squared_error: 928.2355 - val_loss: 1046.0730 - val_mean_squared_error: 1046.0730\n",
            "Epoch 26/100\n",
            " - 0s - loss: 893.2516 - mean_squared_error: 893.2517 - val_loss: 1011.1954 - val_mean_squared_error: 1011.1954\n",
            "Epoch 27/100\n",
            " - 0s - loss: 858.7970 - mean_squared_error: 858.7970 - val_loss: 975.9750 - val_mean_squared_error: 975.9750\n",
            "Epoch 28/100\n",
            " - 0s - loss: 824.7375 - mean_squared_error: 824.7375 - val_loss: 940.9909 - val_mean_squared_error: 940.9909\n",
            "Epoch 29/100\n",
            " - 0s - loss: 790.5447 - mean_squared_error: 790.5447 - val_loss: 906.1306 - val_mean_squared_error: 906.1307\n",
            "Epoch 30/100\n",
            " - 0s - loss: 757.1935 - mean_squared_error: 757.1935 - val_loss: 871.5238 - val_mean_squared_error: 871.5238\n",
            "Epoch 31/100\n",
            " - 0s - loss: 723.4889 - mean_squared_error: 723.4888 - val_loss: 836.6026 - val_mean_squared_error: 836.6025\n",
            "Epoch 32/100\n",
            " - 0s - loss: 690.9277 - mean_squared_error: 690.9277 - val_loss: 802.4344 - val_mean_squared_error: 802.4344\n",
            "Epoch 33/100\n",
            " - 0s - loss: 658.4802 - mean_squared_error: 658.4802 - val_loss: 769.3126 - val_mean_squared_error: 769.3126\n",
            "Epoch 34/100\n",
            " - 0s - loss: 627.5303 - mean_squared_error: 627.5302 - val_loss: 737.0845 - val_mean_squared_error: 737.0845\n",
            "Epoch 35/100\n",
            " - 0s - loss: 597.0695 - mean_squared_error: 597.0695 - val_loss: 705.1867 - val_mean_squared_error: 705.1867\n",
            "Epoch 36/100\n",
            " - 0s - loss: 567.5516 - mean_squared_error: 567.5518 - val_loss: 674.7661 - val_mean_squared_error: 674.7662\n",
            "Epoch 37/100\n",
            " - 0s - loss: 539.6804 - mean_squared_error: 539.6803 - val_loss: 644.7870 - val_mean_squared_error: 644.7870\n",
            "Epoch 38/100\n",
            " - 0s - loss: 512.6647 - mean_squared_error: 512.6647 - val_loss: 616.1260 - val_mean_squared_error: 616.1260\n",
            "Epoch 39/100\n",
            " - 0s - loss: 486.6990 - mean_squared_error: 486.6990 - val_loss: 588.4157 - val_mean_squared_error: 588.4156\n",
            "Epoch 40/100\n",
            " - 0s - loss: 462.3702 - mean_squared_error: 462.3701 - val_loss: 561.0929 - val_mean_squared_error: 561.0929\n",
            "Epoch 41/100\n",
            " - 0s - loss: 439.1908 - mean_squared_error: 439.1908 - val_loss: 535.9514 - val_mean_squared_error: 535.9514\n",
            "Epoch 42/100\n",
            " - 0s - loss: 417.9454 - mean_squared_error: 417.9454 - val_loss: 511.7352 - val_mean_squared_error: 511.7352\n",
            "Epoch 43/100\n",
            " - 0s - loss: 397.6663 - mean_squared_error: 397.6662 - val_loss: 489.1466 - val_mean_squared_error: 489.1466\n",
            "Epoch 44/100\n",
            " - 0s - loss: 378.7739 - mean_squared_error: 378.7739 - val_loss: 466.8523 - val_mean_squared_error: 466.8523\n",
            "Epoch 45/100\n",
            " - 0s - loss: 360.8816 - mean_squared_error: 360.8816 - val_loss: 446.3818 - val_mean_squared_error: 446.3818\n",
            "Epoch 46/100\n",
            " - 0s - loss: 344.7092 - mean_squared_error: 344.7092 - val_loss: 426.4298 - val_mean_squared_error: 426.4298\n",
            "Epoch 47/100\n",
            " - 0s - loss: 329.1599 - mean_squared_error: 329.1599 - val_loss: 407.5241 - val_mean_squared_error: 407.5242\n",
            "Epoch 48/100\n",
            " - 0s - loss: 315.2665 - mean_squared_error: 315.2665 - val_loss: 390.1784 - val_mean_squared_error: 390.1784\n",
            "Epoch 49/100\n",
            " - 0s - loss: 302.3114 - mean_squared_error: 302.3113 - val_loss: 374.8356 - val_mean_squared_error: 374.8356\n",
            "Epoch 50/100\n",
            " - 0s - loss: 290.3392 - mean_squared_error: 290.3392 - val_loss: 359.6262 - val_mean_squared_error: 359.6261\n",
            "Epoch 51/100\n",
            " - 0s - loss: 279.3666 - mean_squared_error: 279.3666 - val_loss: 345.3080 - val_mean_squared_error: 345.3080\n",
            "Epoch 52/100\n",
            " - 0s - loss: 269.4260 - mean_squared_error: 269.4260 - val_loss: 330.9702 - val_mean_squared_error: 330.9702\n",
            "Epoch 53/100\n",
            " - 0s - loss: 260.2263 - mean_squared_error: 260.2263 - val_loss: 319.0171 - val_mean_squared_error: 319.0171\n",
            "Epoch 54/100\n",
            " - 0s - loss: 251.9566 - mean_squared_error: 251.9566 - val_loss: 307.8936 - val_mean_squared_error: 307.8936\n",
            "Epoch 55/100\n",
            " - 0s - loss: 244.6704 - mean_squared_error: 244.6704 - val_loss: 296.8174 - val_mean_squared_error: 296.8174\n",
            "Epoch 56/100\n",
            " - 0s - loss: 237.9851 - mean_squared_error: 237.9851 - val_loss: 286.9460 - val_mean_squared_error: 286.9460\n",
            "Epoch 57/100\n",
            " - 0s - loss: 231.7888 - mean_squared_error: 231.7887 - val_loss: 278.4054 - val_mean_squared_error: 278.4054\n",
            "Epoch 58/100\n",
            " - 0s - loss: 226.3394 - mean_squared_error: 226.3394 - val_loss: 270.1272 - val_mean_squared_error: 270.1272\n",
            "Epoch 59/100\n",
            " - 0s - loss: 221.0847 - mean_squared_error: 221.0847 - val_loss: 261.7347 - val_mean_squared_error: 261.7347\n",
            "Epoch 60/100\n",
            " - 0s - loss: 216.3070 - mean_squared_error: 216.3070 - val_loss: 254.1184 - val_mean_squared_error: 254.1184\n",
            "Epoch 61/100\n",
            " - 0s - loss: 211.7588 - mean_squared_error: 211.7588 - val_loss: 247.0794 - val_mean_squared_error: 247.0794\n",
            "Epoch 62/100\n",
            " - 0s - loss: 207.9218 - mean_squared_error: 207.9218 - val_loss: 241.1554 - val_mean_squared_error: 241.1554\n",
            "Epoch 63/100\n",
            " - 0s - loss: 204.4100 - mean_squared_error: 204.4100 - val_loss: 235.1884 - val_mean_squared_error: 235.1884\n",
            "Epoch 64/100\n",
            " - 0s - loss: 201.1376 - mean_squared_error: 201.1376 - val_loss: 229.6167 - val_mean_squared_error: 229.6167\n",
            "Epoch 65/100\n",
            " - 0s - loss: 198.2134 - mean_squared_error: 198.2134 - val_loss: 225.2872 - val_mean_squared_error: 225.2872\n",
            "Epoch 66/100\n",
            " - 0s - loss: 195.5077 - mean_squared_error: 195.5077 - val_loss: 220.5424 - val_mean_squared_error: 220.5425\n",
            "Epoch 67/100\n",
            " - 0s - loss: 192.9775 - mean_squared_error: 192.9774 - val_loss: 216.3718 - val_mean_squared_error: 216.3718\n",
            "Epoch 68/100\n",
            " - 0s - loss: 190.5857 - mean_squared_error: 190.5857 - val_loss: 212.2890 - val_mean_squared_error: 212.2890\n",
            "Epoch 69/100\n",
            " - 0s - loss: 188.2741 - mean_squared_error: 188.2741 - val_loss: 208.6094 - val_mean_squared_error: 208.6094\n",
            "Epoch 70/100\n",
            " - 0s - loss: 186.2805 - mean_squared_error: 186.2805 - val_loss: 205.4089 - val_mean_squared_error: 205.4089\n",
            "Epoch 71/100\n",
            " - 0s - loss: 184.4292 - mean_squared_error: 184.4292 - val_loss: 202.2088 - val_mean_squared_error: 202.2088\n",
            "Epoch 72/100\n",
            " - 0s - loss: 182.8111 - mean_squared_error: 182.8111 - val_loss: 199.0865 - val_mean_squared_error: 199.0865\n",
            "Epoch 73/100\n",
            " - 0s - loss: 180.8575 - mean_squared_error: 180.8575 - val_loss: 196.6744 - val_mean_squared_error: 196.6744\n",
            "Epoch 74/100\n",
            " - 0s - loss: 179.4069 - mean_squared_error: 179.4069 - val_loss: 194.0934 - val_mean_squared_error: 194.0934\n",
            "Epoch 75/100\n",
            " - 0s - loss: 177.9774 - mean_squared_error: 177.9774 - val_loss: 192.0626 - val_mean_squared_error: 192.0626\n",
            "Epoch 76/100\n",
            " - 0s - loss: 176.6276 - mean_squared_error: 176.6276 - val_loss: 190.0975 - val_mean_squared_error: 190.0975\n",
            "Epoch 77/100\n",
            " - 0s - loss: 175.2800 - mean_squared_error: 175.2799 - val_loss: 187.7952 - val_mean_squared_error: 187.7952\n",
            "Epoch 78/100\n",
            " - 0s - loss: 174.0137 - mean_squared_error: 174.0137 - val_loss: 185.9861 - val_mean_squared_error: 185.9861\n",
            "Epoch 79/100\n",
            " - 0s - loss: 172.8626 - mean_squared_error: 172.8626 - val_loss: 184.1749 - val_mean_squared_error: 184.1749\n",
            "Epoch 80/100\n",
            " - 0s - loss: 171.6670 - mean_squared_error: 171.6670 - val_loss: 182.1464 - val_mean_squared_error: 182.1464\n",
            "Epoch 81/100\n",
            " - 0s - loss: 170.6354 - mean_squared_error: 170.6354 - val_loss: 180.5006 - val_mean_squared_error: 180.5006\n",
            "Epoch 82/100\n",
            " - 0s - loss: 169.5397 - mean_squared_error: 169.5397 - val_loss: 178.9417 - val_mean_squared_error: 178.9417\n",
            "Epoch 83/100\n",
            " - 0s - loss: 168.6640 - mean_squared_error: 168.6640 - val_loss: 177.6735 - val_mean_squared_error: 177.6735\n",
            "Epoch 84/100\n",
            " - 0s - loss: 167.6290 - mean_squared_error: 167.6290 - val_loss: 176.4239 - val_mean_squared_error: 176.4239\n",
            "Epoch 85/100\n",
            " - 0s - loss: 166.7024 - mean_squared_error: 166.7024 - val_loss: 175.2692 - val_mean_squared_error: 175.2692\n",
            "Epoch 86/100\n",
            " - 0s - loss: 165.7901 - mean_squared_error: 165.7901 - val_loss: 174.2606 - val_mean_squared_error: 174.2606\n",
            "Epoch 87/100\n",
            " - 0s - loss: 165.0116 - mean_squared_error: 165.0116 - val_loss: 173.2638 - val_mean_squared_error: 173.2637\n",
            "Epoch 88/100\n",
            " - 0s - loss: 164.2179 - mean_squared_error: 164.2179 - val_loss: 171.6742 - val_mean_squared_error: 171.6742\n",
            "Epoch 89/100\n",
            " - 0s - loss: 163.4799 - mean_squared_error: 163.4799 - val_loss: 170.9649 - val_mean_squared_error: 170.9649\n",
            "Epoch 90/100\n",
            " - 0s - loss: 162.6441 - mean_squared_error: 162.6440 - val_loss: 170.0113 - val_mean_squared_error: 170.0113\n",
            "Epoch 91/100\n",
            " - 0s - loss: 162.0179 - mean_squared_error: 162.0179 - val_loss: 168.6057 - val_mean_squared_error: 168.6057\n",
            "Epoch 92/100\n",
            " - 0s - loss: 161.1304 - mean_squared_error: 161.1303 - val_loss: 167.8598 - val_mean_squared_error: 167.8598\n",
            "Epoch 93/100\n",
            " - 0s - loss: 160.4246 - mean_squared_error: 160.4247 - val_loss: 167.1246 - val_mean_squared_error: 167.1246\n",
            "Epoch 94/100\n",
            " - 0s - loss: 159.7718 - mean_squared_error: 159.7718 - val_loss: 166.3997 - val_mean_squared_error: 166.3997\n",
            "Epoch 95/100\n",
            " - 0s - loss: 159.1041 - mean_squared_error: 159.1041 - val_loss: 165.4963 - val_mean_squared_error: 165.4964\n",
            "Epoch 96/100\n",
            " - 0s - loss: 158.4933 - mean_squared_error: 158.4933 - val_loss: 164.6496 - val_mean_squared_error: 164.6496\n",
            "Epoch 97/100\n",
            " - 0s - loss: 157.8002 - mean_squared_error: 157.8002 - val_loss: 163.3347 - val_mean_squared_error: 163.3347\n",
            "Epoch 98/100\n",
            " - 0s - loss: 157.0993 - mean_squared_error: 157.0993 - val_loss: 162.6633 - val_mean_squared_error: 162.6633\n",
            "Epoch 99/100\n",
            " - 0s - loss: 156.5503 - mean_squared_error: 156.5503 - val_loss: 161.6987 - val_mean_squared_error: 161.6987\n",
            "Epoch 100/100\n",
            " - 0s - loss: 155.9288 - mean_squared_error: 155.9288 - val_loss: 161.1416 - val_mean_squared_error: 161.1416\n"
          ],
          "name": "stdout"
        },
        {
          "output_type": "execute_result",
          "data": {
            "text/plain": [
              "<keras.callbacks.callbacks.History at 0x7f0cd2e92f28>"
            ]
          },
          "metadata": {
            "tags": []
          },
          "execution_count": 18
        }
      ]
    },
    {
      "cell_type": "code",
      "metadata": {
        "id": "ARaJimOK-WSx",
        "colab_type": "code",
        "outputId": "57863bb1-2bc2-43af-afd4-ef0a7bb5214c",
        "colab": {
          "base_uri": "https://localhost:8080/",
          "height": 243
        }
      },
      "source": [
        "import statistics \n",
        "from sklearn.metrics import mean_squared_error\n",
        "\n",
        "print(model.summary())\n",
        "mse_results=[]\n",
        "for x in range(50):\n",
        "    model.fit(X_train,y_train,epochs=100, verbose=0)\n",
        "    train_results = model.predict( X_test )\n",
        "    mse_results.append( mean_squared_error(y_test, train_results) )\n"
      ],
      "execution_count": 19,
      "outputs": [
        {
          "output_type": "stream",
          "text": [
            "Model: \"sequential_1\"\n",
            "_________________________________________________________________\n",
            "Layer (type)                 Output Shape              Param #   \n",
            "=================================================================\n",
            "dense_1 (Dense)              (None, 10)                90        \n",
            "_________________________________________________________________\n",
            "dense_2 (Dense)              (None, 1)                 11        \n",
            "=================================================================\n",
            "Total params: 101\n",
            "Trainable params: 101\n",
            "Non-trainable params: 0\n",
            "_________________________________________________________________\n",
            "None\n"
          ],
          "name": "stdout"
        }
      ]
    },
    {
      "cell_type": "code",
      "metadata": {
        "id": "-vNwhXxLANyk",
        "colab_type": "code",
        "outputId": "73d4a2a4-72b3-4f7c-bb37-f8470466d32f",
        "colab": {
          "base_uri": "https://localhost:8080/",
          "height": 52
        }
      },
      "source": [
        "print(\"Mean of the list of mean square errors is % s\" % (statistics.mean( mse_results ) ))\n",
        "print(\"Standard deviation of the list of mean square errors is % s\" % ( statistics.stdev( mse_results )))\n"
      ],
      "execution_count": 20,
      "outputs": [
        {
          "output_type": "stream",
          "text": [
            "Mean of the list of mean square errors is 39.022622714479965\n",
            "Standard deviation of the list of mean square errors is 8.959905421423958\n"
          ],
          "name": "stdout"
        }
      ]
    },
    {
      "cell_type": "code",
      "metadata": {
        "id": "8oCDPDzINK_e",
        "colab_type": "code",
        "outputId": "312ff740-dc88-4178-9c74-5b37680382ee",
        "colab": {
          "base_uri": "https://localhost:8080/",
          "height": 885
        }
      },
      "source": [
        "mse_results"
      ],
      "execution_count": 21,
      "outputs": [
        {
          "output_type": "execute_result",
          "data": {
            "text/plain": [
              "[95.53623556287994,\n",
              " 61.34297492437536,\n",
              " 46.327768687157636,\n",
              " 40.90152068044677,\n",
              " 39.33184298467229,\n",
              " 38.61157896147141,\n",
              " 38.351934860393385,\n",
              " 37.92625548262455,\n",
              " 37.909942747636016,\n",
              " 37.71272506029706,\n",
              " 37.732639364847856,\n",
              " 37.82143623245902,\n",
              " 37.605890473300676,\n",
              " 37.5806262853749,\n",
              " 37.55202307528633,\n",
              " 37.358913378942276,\n",
              " 37.31249207314606,\n",
              " 37.21626896141561,\n",
              " 36.99477835770912,\n",
              " 36.931318113511445,\n",
              " 37.00337438998788,\n",
              " 36.992837167442886,\n",
              " 37.15422538820508,\n",
              " 36.91035264204172,\n",
              " 36.908915698558694,\n",
              " 36.83421347729007,\n",
              " 36.918593919154034,\n",
              " 36.872694305801815,\n",
              " 36.83024500937844,\n",
              " 36.7336788880035,\n",
              " 36.76207097313641,\n",
              " 36.866004022932046,\n",
              " 36.88593722536031,\n",
              " 36.919894446985516,\n",
              " 36.68794786289023,\n",
              " 36.64977572703268,\n",
              " 36.88014416015594,\n",
              " 36.67713730612922,\n",
              " 36.82538795966815,\n",
              " 36.764673309735855,\n",
              " 36.72093956899923,\n",
              " 36.76491152064336,\n",
              " 36.664822881808846,\n",
              " 36.54199836997531,\n",
              " 36.53771105530892,\n",
              " 36.631775879078965,\n",
              " 36.664538942882665,\n",
              " 36.46916123600699,\n",
              " 36.48105479171003,\n",
              " 36.51695132974584]"
            ]
          },
          "metadata": {
            "tags": []
          },
          "execution_count": 21
        }
      ]
    },
    {
      "cell_type": "markdown",
      "metadata": {
        "id": "11gzbONJOna7",
        "colab_type": "text"
      },
      "source": [
        "#### Increasing the epochsin this dataset results in better accuracy and fitting. (Sometimes even overfitting :o )\n",
        "Mean of list of MSE decreased by approx. 15 points while the standard deviation shrunked by 13.4 points"
      ]
    },
    {
      "cell_type": "markdown",
      "metadata": {
        "button": false,
        "deletable": true,
        "new_sheet": false,
        "run_control": {
          "read_only": false
        },
        "id": "ogzg4cTJsx_z",
        "colab_type": "text"
      },
      "source": [
        "# Thanks for Reviewing the Project."
      ]
    }
  ]
}